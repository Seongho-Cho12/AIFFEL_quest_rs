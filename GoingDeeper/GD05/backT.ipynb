{
 "cells": [
  {
   "cell_type": "code",
   "execution_count": 2,
   "metadata": {
    "executionInfo": {
     "elapsed": 15652,
     "status": "ok",
     "timestamp": 1747875764175,
     "user": {
      "displayName": "조성호",
      "userId": "09225298365738883297"
     },
     "user_tz": -540
    },
    "id": "zhf3KQELX8s4"
   },
   "outputs": [],
   "source": [
    "!pip install -q transformers sentencepiece\n",
    "\n",
    "from transformers import AutoTokenizer, AutoModelForSeq2SeqLM\n",
    "import torch"
   ]
  },
  {
   "cell_type": "code",
   "execution_count": 3,
   "metadata": {
    "colab": {
     "base_uri": "https://localhost:8080/",
     "height": 536,
     "referenced_widgets": [
      "b58d39e28eaf4db1bddd81d5d2bc0f13",
      "52be2c61c5924ddfa74057b164fc9c6a",
      "7fb615f5856149768e0360a07dd0ae89",
      "9257540af9ee4d2b9982d87d005d4d96",
      "c1b355109a634fe58fffedb741667eb2",
      "26cc1bc574384583a4f0e908bb995295",
      "c621a36e8a9944918629e859ca464de5",
      "c664217ca21140689507dcbeb3b9f743",
      "09b6b2fdc9764a6dbdb2d0fb64908bd0",
      "7aeb76142d3c4aee87dcc054eb40bee4",
      "0c7c4fdb3f074fb7a4e8e597aab5c813",
      "d353844cad3e4245a467102523eb8936",
      "70f43606d367412796869f7dd4ed62a9",
      "f2785dff9c5a41daa8cc3af092617612",
      "66843d48789549559b0e8533652fab55",
      "56df3b657207443faad116c565fc51b2",
      "e277319a434f4acead9a3f257c638e36",
      "37c69b4e2016415dafa1f310d85929d7",
      "3ad28f563c724cc3979e7dab807f0bed",
      "7a1ff23186d94a7a9ff9769eb12dfc44",
      "41ae04d4f79e4dc4962863a2e8e1615b",
      "2ff4fdaa076d450f883435bd0a6055e1",
      "674d375bd04d48ec853c787263a9e824",
      "0f760c664e7d45578bef9e47655f7bbb",
      "2577813f47b441f0a880636e18dee1c6",
      "7c373d1af27544a28d57366b47e6df31",
      "8065a3b4742644ea98b5cf3aec8dad22",
      "64af1c8b5d474d7ebaf861eae2d774e5",
      "ccd40c75e6ef43128a9049159f9935e9",
      "020459aa4eaf45dcb7a053f175f8bc89",
      "c21aa4c0b9214a3da6264b0e484f127c",
      "341565f82fd2465995a8f2693a85a616",
      "658d0df0ad604b95937195aecc92d399",
      "ca606dadf8c34cc29ffed208381a591d",
      "ab76743943d6403da5fa7b511e828c72",
      "dea2384c79ec4e8683225e6c0f3595ae",
      "b861843b3201430eafaa016c862413ee",
      "16fb54c06920471095e50c1916defdfd",
      "4fb72617170c441bb35356b136ce2325",
      "d2fc4ab4c89a4fe5a7f9ba70bbc4ea4b",
      "173479aa359b45379e2b103a47777eec",
      "e9d24c03fe364bc1a9098d72e7d2b90c",
      "12e43ec3f28e419b8cd118403dc050c1",
      "31247cb6a5474aa8ba5e3349446f3298",
      "89141eaff28840408d414fef737c8280",
      "16afcf36e93042bba87d8d932dedf5a1",
      "a68021202ebd4a82a196ea0ae38eebc9",
      "8788ef17b47b432ab885949c8ee4af8c",
      "b100466f165a40ee8648db66d6642234",
      "9c929b6167c247dd8ce93bcb8a32ff5d",
      "3d7f3c6bce214df6849240916d7d7659",
      "e4bc8737b4ed4c5db75733d2a0050b04",
      "1aa4100d18524272a511f4cfd0c44c7a",
      "cef19569f10a4805b0c81098abdc007b",
      "9e6f70ae8d914e82937cff1ff9f547b4",
      "fecb311ef77a4c2baa7f0cd12ddedb8b",
      "e9c807daa10c4daf82eb0a9e8b530d03",
      "33d2be6faf174df7bd4544019c0d215a",
      "f61b5e66a1ec4b6b8017f4e6bf6d4e8c",
      "01809e5b4f7d4b0192d2733c5f181806",
      "7bfff5e4963b4072b98bd18d2f3f6b27",
      "a3629e1d88284e208eeda0fb181fedab",
      "6cf441ff303a449faad05ec160fc3280",
      "66178095872e42d6abe100c08dae9fab",
      "26fda05c4f3e4e62a0b16a6d2975b08e",
      "b8656002f0cd4c1b817710fe6632c4b5",
      "f8fe827b28b9447dba02892f790b539c",
      "cc100c428d5949e3af4fa849b4eec9d5",
      "7f65dcf8436b4dc5a24c782119eef850",
      "04a5305f9ddf4f348c571b3bffb5c77f",
      "d439aebec3444eccb335a0fd35d954d4",
      "571ceb0a0d15488ebca763fe07132925",
      "a49cbe47ad144e60b762ae71fcd3ac02",
      "039d76b25f214aff9ea478a8f1cc24aa",
      "6cc5e5b75e6a4052b992a55bcefbde84",
      "64b3a84bef0548ffb25d3e41909807fb",
      "4d9eec71cc99451ba2b52211fefce6c0",
      "2876bad03d7e47afb5221a845d385630",
      "1229b384f2d948e490a5912ea3010ccd",
      "debad75c53134f24b18eb80ed3a59fcb",
      "4339953f049947ac89b01d16025cba79",
      "94b0598523fc47aeaa556c2c832d5823",
      "8b473b5e72dc44ee8356327fa3aaf30a",
      "f5fb39b11a3e40aab47f3245a601e6cb",
      "7f595842420e4a7d8146b466c1857c9f",
      "3a32faf86c444381819a2798b4787605",
      "2eae8aae86a1497c8caa6588ce0abb03",
      "28c0b8f1c5a441a58f15c548e0d9bd79"
     ]
    },
    "executionInfo": {
     "elapsed": 21283,
     "status": "ok",
     "timestamp": 1747875785459,
     "user": {
      "displayName": "조성호",
      "userId": "09225298365738883297"
     },
     "user_tz": -540
    },
    "id": "1CXpdxchYALv",
    "outputId": "86e8f5e5-5b16-48b2-e2b0-e749558955e3"
   },
   "outputs": [
    {
     "name": "stderr",
     "output_type": "stream",
     "text": [
      "/usr/local/lib/python3.11/dist-packages/huggingface_hub/utils/_auth.py:94: UserWarning: \n",
      "The secret `HF_TOKEN` does not exist in your Colab secrets.\n",
      "To authenticate with the Hugging Face Hub, create a token in your settings tab (https://huggingface.co/settings/tokens), set it as secret in your Google Colab and restart your session.\n",
      "You will be able to reuse this secret in all of your notebooks.\n",
      "Please note that authentication is recommended but still optional to access public models or datasets.\n",
      "  warnings.warn(\n"
     ]
    },
    {
     "data": {
      "application/vnd.jupyter.widget-view+json": {
       "model_id": "b58d39e28eaf4db1bddd81d5d2bc0f13",
       "version_major": 2,
       "version_minor": 0
      },
      "text/plain": [
       "config.json:   0%|          | 0.00/846 [00:00<?, ?B/s]"
      ]
     },
     "metadata": {},
     "output_type": "display_data"
    },
    {
     "name": "stderr",
     "output_type": "stream",
     "text": [
      "Xet Storage is enabled for this repo, but the 'hf_xet' package is not installed. Falling back to regular HTTP download. For better performance, install the package with: `pip install huggingface_hub[hf_xet]` or `pip install hf_xet`\n",
      "WARNING:huggingface_hub.file_download:Xet Storage is enabled for this repo, but the 'hf_xet' package is not installed. Falling back to regular HTTP download. For better performance, install the package with: `pip install huggingface_hub[hf_xet]` or `pip install hf_xet`\n"
     ]
    },
    {
     "data": {
      "application/vnd.jupyter.widget-view+json": {
       "model_id": "d353844cad3e4245a467102523eb8936",
       "version_major": 2,
       "version_minor": 0
      },
      "text/plain": [
       "pytorch_model.bin:   0%|          | 0.00/2.46G [00:00<?, ?B/s]"
      ]
     },
     "metadata": {},
     "output_type": "display_data"
    },
    {
     "name": "stderr",
     "output_type": "stream",
     "text": [
      "Xet Storage is enabled for this repo, but the 'hf_xet' package is not installed. Falling back to regular HTTP download. For better performance, install the package with: `pip install huggingface_hub[hf_xet]` or `pip install hf_xet`\n",
      "WARNING:huggingface_hub.file_download:Xet Storage is enabled for this repo, but the 'hf_xet' package is not installed. Falling back to regular HTTP download. For better performance, install the package with: `pip install huggingface_hub[hf_xet]` or `pip install hf_xet`\n"
     ]
    },
    {
     "data": {
      "application/vnd.jupyter.widget-view+json": {
       "model_id": "674d375bd04d48ec853c787263a9e824",
       "version_major": 2,
       "version_minor": 0
      },
      "text/plain": [
       "model.safetensors:   0%|          | 0.00/2.46G [00:00<?, ?B/s]"
      ]
     },
     "metadata": {},
     "output_type": "display_data"
    },
    {
     "data": {
      "application/vnd.jupyter.widget-view+json": {
       "model_id": "ca606dadf8c34cc29ffed208381a591d",
       "version_major": 2,
       "version_minor": 0
      },
      "text/plain": [
       "generation_config.json:   0%|          | 0.00/189 [00:00<?, ?B/s]"
      ]
     },
     "metadata": {},
     "output_type": "display_data"
    },
    {
     "data": {
      "application/vnd.jupyter.widget-view+json": {
       "model_id": "89141eaff28840408d414fef737c8280",
       "version_major": 2,
       "version_minor": 0
      },
      "text/plain": [
       "tokenizer_config.json:   0%|          | 0.00/564 [00:00<?, ?B/s]"
      ]
     },
     "metadata": {},
     "output_type": "display_data"
    },
    {
     "name": "stderr",
     "output_type": "stream",
     "text": [
      "Xet Storage is enabled for this repo, but the 'hf_xet' package is not installed. Falling back to regular HTTP download. For better performance, install the package with: `pip install huggingface_hub[hf_xet]` or `pip install hf_xet`\n",
      "WARNING:huggingface_hub.file_download:Xet Storage is enabled for this repo, but the 'hf_xet' package is not installed. Falling back to regular HTTP download. For better performance, install the package with: `pip install huggingface_hub[hf_xet]` or `pip install hf_xet`\n"
     ]
    },
    {
     "data": {
      "application/vnd.jupyter.widget-view+json": {
       "model_id": "fecb311ef77a4c2baa7f0cd12ddedb8b",
       "version_major": 2,
       "version_minor": 0
      },
      "text/plain": [
       "sentencepiece.bpe.model:   0%|          | 0.00/4.85M [00:00<?, ?B/s]"
      ]
     },
     "metadata": {},
     "output_type": "display_data"
    },
    {
     "name": "stderr",
     "output_type": "stream",
     "text": [
      "Xet Storage is enabled for this repo, but the 'hf_xet' package is not installed. Falling back to regular HTTP download. For better performance, install the package with: `pip install huggingface_hub[hf_xet]` or `pip install hf_xet`\n",
      "WARNING:huggingface_hub.file_download:Xet Storage is enabled for this repo, but the 'hf_xet' package is not installed. Falling back to regular HTTP download. For better performance, install the package with: `pip install huggingface_hub[hf_xet]` or `pip install hf_xet`\n"
     ]
    },
    {
     "data": {
      "application/vnd.jupyter.widget-view+json": {
       "model_id": "f8fe827b28b9447dba02892f790b539c",
       "version_major": 2,
       "version_minor": 0
      },
      "text/plain": [
       "tokenizer.json:   0%|          | 0.00/17.3M [00:00<?, ?B/s]"
      ]
     },
     "metadata": {},
     "output_type": "display_data"
    },
    {
     "data": {
      "application/vnd.jupyter.widget-view+json": {
       "model_id": "2876bad03d7e47afb5221a845d385630",
       "version_major": 2,
       "version_minor": 0
      },
      "text/plain": [
       "special_tokens_map.json:   0%|          | 0.00/3.55k [00:00<?, ?B/s]"
      ]
     },
     "metadata": {},
     "output_type": "display_data"
    }
   ],
   "source": [
    "model_nllb = AutoModelForSeq2SeqLM.from_pretrained(\"facebook/nllb-200-distilled-600M\").to(\"cuda\")\n",
    "tokenizer_nllb = AutoTokenizer.from_pretrained(\"facebook/nllb-200-distilled-600M\")\n"
   ]
  },
  {
   "cell_type": "code",
   "execution_count": 4,
   "metadata": {
    "executionInfo": {
     "elapsed": 7,
     "status": "ok",
     "timestamp": 1747875785468,
     "user": {
      "displayName": "조성호",
      "userId": "09225298365738883297"
     },
     "user_tz": -540
    },
    "id": "yfR4mlNRYBHl"
   },
   "outputs": [],
   "source": [
    "def translate_nllb(text, source_lang: str, target_lang: str) -> str:\n",
    "    tokenizer_nllb.src_lang = source_lang\n",
    "    inputs = tokenizer_nllb(\n",
    "        text,\n",
    "        return_tensors=\"pt\",\n",
    "        padding=True,\n",
    "        truncation=True,\n",
    "        max_length=128\n",
    "    ).to(\"cuda\")\n",
    "\n",
    "    bos_token_id = tokenizer_nllb.convert_tokens_to_ids(target_lang)\n",
    "\n",
    "    with torch.no_grad():\n",
    "        output = model_nllb.generate(\n",
    "            **inputs,\n",
    "            forced_bos_token_id=bos_token_id,\n",
    "            max_new_tokens=128,\n",
    "            num_beams=4,\n",
    "            repetition_penalty=1.2,\n",
    "            early_stopping=True\n",
    "        )\n",
    "\n",
    "    return tokenizer_nllb.decode(output[0], skip_special_tokens=True)\n",
    "\n"
   ]
  },
  {
   "cell_type": "code",
   "execution_count": 5,
   "metadata": {
    "executionInfo": {
     "elapsed": 41,
     "status": "ok",
     "timestamp": 1747875785511,
     "user": {
      "displayName": "조성호",
      "userId": "09225298365738883297"
     },
     "user_tz": -540
    },
    "id": "zg-yNE1cYCFl"
   },
   "outputs": [],
   "source": [
    "def bt_enko(text):\n",
    "    try:\n",
    "        en = translate_nllb(text, \"kor_Hang\", \"eng_Latn\")\n",
    "        ko = translate_nllb(en, \"eng_Latn\", \"kor_Hang\")\n",
    "        return ko\n",
    "    except Exception as e:\n",
    "        return f\"[ERROR]: {str(e)}\"\n",
    "\n",
    "def bt_deko(text):\n",
    "    try:\n",
    "        de = translate_nllb(text, \"kor_Hang\", \"deu_Latn\")\n",
    "        ko = translate_nllb(de, \"deu_Latn\", \"kor_Hang\")\n",
    "        return ko\n",
    "    except Exception as e:\n",
    "        return f\"[ERROR]: {str(e)}\"\n",
    "\n",
    "def bt_frko(text):\n",
    "    try:\n",
    "        fr = translate_nllb(text, \"kor_Hang\", \"fra_Latn\")\n",
    "        ko = translate_nllb(fr, \"fra_Latn\", \"kor_Hang\")\n",
    "        return ko\n",
    "    except Exception as e:\n",
    "        return f\"[ERROR]: {str(e)}\"\n",
    "\n",
    "def bt_jako(text):\n",
    "    try:\n",
    "        ja = translate_nllb(text, \"kor_Hang\", \"jpn_Jpan\")\n",
    "        ko = translate_nllb(ja, \"jpn_Jpan\", \"kor_Hang\")\n",
    "        return ko\n",
    "    except Exception as e:\n",
    "        return f\"[ERROR]: {str(e)}\"\n"
   ]
  },
  {
   "cell_type": "code",
   "execution_count": 27,
   "metadata": {
    "colab": {
     "base_uri": "https://localhost:8080/",
     "height": 77
    },
    "executionInfo": {
     "elapsed": 6407,
     "status": "ok",
     "timestamp": 1747894701228,
     "user": {
      "displayName": "조성호",
      "userId": "09225298365738883297"
     },
     "user_tz": -540
    },
    "id": "A9T6Qz_sYEtV",
    "outputId": "278dd265-6c60-4a48-abc9-cf6547302858"
   },
   "outputs": [
    {
     "data": {
      "text/html": [
       "\n",
       "     <input type=\"file\" id=\"files-04388fa7-534d-44dc-b2d3-d00b47614c6e\" name=\"files[]\" multiple disabled\n",
       "        style=\"border:none\" />\n",
       "     <output id=\"result-04388fa7-534d-44dc-b2d3-d00b47614c6e\">\n",
       "      Upload widget is only available when the cell has been executed in the\n",
       "      current browser session. Please rerun this cell to enable.\n",
       "      </output>\n",
       "      <script>// Copyright 2017 Google LLC\n",
       "//\n",
       "// Licensed under the Apache License, Version 2.0 (the \"License\");\n",
       "// you may not use this file except in compliance with the License.\n",
       "// You may obtain a copy of the License at\n",
       "//\n",
       "//      http://www.apache.org/licenses/LICENSE-2.0\n",
       "//\n",
       "// Unless required by applicable law or agreed to in writing, software\n",
       "// distributed under the License is distributed on an \"AS IS\" BASIS,\n",
       "// WITHOUT WARRANTIES OR CONDITIONS OF ANY KIND, either express or implied.\n",
       "// See the License for the specific language governing permissions and\n",
       "// limitations under the License.\n",
       "\n",
       "/**\n",
       " * @fileoverview Helpers for google.colab Python module.\n",
       " */\n",
       "(function(scope) {\n",
       "function span(text, styleAttributes = {}) {\n",
       "  const element = document.createElement('span');\n",
       "  element.textContent = text;\n",
       "  for (const key of Object.keys(styleAttributes)) {\n",
       "    element.style[key] = styleAttributes[key];\n",
       "  }\n",
       "  return element;\n",
       "}\n",
       "\n",
       "// Max number of bytes which will be uploaded at a time.\n",
       "const MAX_PAYLOAD_SIZE = 100 * 1024;\n",
       "\n",
       "function _uploadFiles(inputId, outputId) {\n",
       "  const steps = uploadFilesStep(inputId, outputId);\n",
       "  const outputElement = document.getElementById(outputId);\n",
       "  // Cache steps on the outputElement to make it available for the next call\n",
       "  // to uploadFilesContinue from Python.\n",
       "  outputElement.steps = steps;\n",
       "\n",
       "  return _uploadFilesContinue(outputId);\n",
       "}\n",
       "\n",
       "// This is roughly an async generator (not supported in the browser yet),\n",
       "// where there are multiple asynchronous steps and the Python side is going\n",
       "// to poll for completion of each step.\n",
       "// This uses a Promise to block the python side on completion of each step,\n",
       "// then passes the result of the previous step as the input to the next step.\n",
       "function _uploadFilesContinue(outputId) {\n",
       "  const outputElement = document.getElementById(outputId);\n",
       "  const steps = outputElement.steps;\n",
       "\n",
       "  const next = steps.next(outputElement.lastPromiseValue);\n",
       "  return Promise.resolve(next.value.promise).then((value) => {\n",
       "    // Cache the last promise value to make it available to the next\n",
       "    // step of the generator.\n",
       "    outputElement.lastPromiseValue = value;\n",
       "    return next.value.response;\n",
       "  });\n",
       "}\n",
       "\n",
       "/**\n",
       " * Generator function which is called between each async step of the upload\n",
       " * process.\n",
       " * @param {string} inputId Element ID of the input file picker element.\n",
       " * @param {string} outputId Element ID of the output display.\n",
       " * @return {!Iterable<!Object>} Iterable of next steps.\n",
       " */\n",
       "function* uploadFilesStep(inputId, outputId) {\n",
       "  const inputElement = document.getElementById(inputId);\n",
       "  inputElement.disabled = false;\n",
       "\n",
       "  const outputElement = document.getElementById(outputId);\n",
       "  outputElement.innerHTML = '';\n",
       "\n",
       "  const pickedPromise = new Promise((resolve) => {\n",
       "    inputElement.addEventListener('change', (e) => {\n",
       "      resolve(e.target.files);\n",
       "    });\n",
       "  });\n",
       "\n",
       "  const cancel = document.createElement('button');\n",
       "  inputElement.parentElement.appendChild(cancel);\n",
       "  cancel.textContent = 'Cancel upload';\n",
       "  const cancelPromise = new Promise((resolve) => {\n",
       "    cancel.onclick = () => {\n",
       "      resolve(null);\n",
       "    };\n",
       "  });\n",
       "\n",
       "  // Wait for the user to pick the files.\n",
       "  const files = yield {\n",
       "    promise: Promise.race([pickedPromise, cancelPromise]),\n",
       "    response: {\n",
       "      action: 'starting',\n",
       "    }\n",
       "  };\n",
       "\n",
       "  cancel.remove();\n",
       "\n",
       "  // Disable the input element since further picks are not allowed.\n",
       "  inputElement.disabled = true;\n",
       "\n",
       "  if (!files) {\n",
       "    return {\n",
       "      response: {\n",
       "        action: 'complete',\n",
       "      }\n",
       "    };\n",
       "  }\n",
       "\n",
       "  for (const file of files) {\n",
       "    const li = document.createElement('li');\n",
       "    li.append(span(file.name, {fontWeight: 'bold'}));\n",
       "    li.append(span(\n",
       "        `(${file.type || 'n/a'}) - ${file.size} bytes, ` +\n",
       "        `last modified: ${\n",
       "            file.lastModifiedDate ? file.lastModifiedDate.toLocaleDateString() :\n",
       "                                    'n/a'} - `));\n",
       "    const percent = span('0% done');\n",
       "    li.appendChild(percent);\n",
       "\n",
       "    outputElement.appendChild(li);\n",
       "\n",
       "    const fileDataPromise = new Promise((resolve) => {\n",
       "      const reader = new FileReader();\n",
       "      reader.onload = (e) => {\n",
       "        resolve(e.target.result);\n",
       "      };\n",
       "      reader.readAsArrayBuffer(file);\n",
       "    });\n",
       "    // Wait for the data to be ready.\n",
       "    let fileData = yield {\n",
       "      promise: fileDataPromise,\n",
       "      response: {\n",
       "        action: 'continue',\n",
       "      }\n",
       "    };\n",
       "\n",
       "    // Use a chunked sending to avoid message size limits. See b/62115660.\n",
       "    let position = 0;\n",
       "    do {\n",
       "      const length = Math.min(fileData.byteLength - position, MAX_PAYLOAD_SIZE);\n",
       "      const chunk = new Uint8Array(fileData, position, length);\n",
       "      position += length;\n",
       "\n",
       "      const base64 = btoa(String.fromCharCode.apply(null, chunk));\n",
       "      yield {\n",
       "        response: {\n",
       "          action: 'append',\n",
       "          file: file.name,\n",
       "          data: base64,\n",
       "        },\n",
       "      };\n",
       "\n",
       "      let percentDone = fileData.byteLength === 0 ?\n",
       "          100 :\n",
       "          Math.round((position / fileData.byteLength) * 100);\n",
       "      percent.textContent = `${percentDone}% done`;\n",
       "\n",
       "    } while (position < fileData.byteLength);\n",
       "  }\n",
       "\n",
       "  // All done.\n",
       "  yield {\n",
       "    response: {\n",
       "      action: 'complete',\n",
       "    }\n",
       "  };\n",
       "}\n",
       "\n",
       "scope.google = scope.google || {};\n",
       "scope.google.colab = scope.google.colab || {};\n",
       "scope.google.colab._files = {\n",
       "  _uploadFiles,\n",
       "  _uploadFilesContinue,\n",
       "};\n",
       "})(self);\n",
       "</script> "
      ],
      "text/plain": [
       "<IPython.core.display.HTML object>"
      ]
     },
     "metadata": {},
     "output_type": "display_data"
    },
    {
     "name": "stdout",
     "output_type": "stream",
     "text": [
      "Saving train (1).csv to train (1).csv\n"
     ]
    }
   ],
   "source": [
    "import pandas as pd\n",
    "from google.colab import files\n",
    "\n",
    "# 사용자에게 파일 업로드 요청\n",
    "uploaded = files.upload()\n",
    "\n",
    "# 업로드된 첫 번째 파일 이름 추출\n",
    "filename = next(iter(uploaded))\n",
    "\n",
    "# 데이터 로딩\n",
    "df = pd.read_csv(filename)[[\"Q\", \"A\"]].dropna().reset_index(drop=True)\n",
    "\n",
    "# 샘플 추출\n",
    "sample_df = df.sample(5, random_state=42).reset_index(drop=True)"
   ]
  },
  {
   "cell_type": "code",
   "execution_count": 28,
   "metadata": {
    "executionInfo": {
     "elapsed": 6639,
     "status": "ok",
     "timestamp": 1747894724362,
     "user": {
      "displayName": "조성호",
      "userId": "09225298365738883297"
     },
     "user_tz": -540
    },
    "id": "eh2CSm_anyJX"
   },
   "outputs": [],
   "source": [
    "!pip install -q sentence-transformers\n",
    "\n",
    "from sentence_transformers import SentenceTransformer, util\n",
    "\n",
    "model_sbert = SentenceTransformer(\"paraphrase-multilingual-MiniLM-L12-v2\")  # 한국어 포함\n"
   ]
  },
  {
   "cell_type": "code",
   "execution_count": 37,
   "metadata": {
    "executionInfo": {
     "elapsed": 3,
     "status": "ok",
     "timestamp": 1747895321026,
     "user": {
      "displayName": "조성호",
      "userId": "09225298365738883297"
     },
     "user_tz": -540
    },
    "id": "CwNnzhGQqfUv"
   },
   "outputs": [],
   "source": [
    "def is_similar(original: str, backtranslated: str, threshold=0.635):\n",
    "    emb1 = model_sbert.encode(original, convert_to_tensor=True)\n",
    "    emb2 = model_sbert.encode(backtranslated, convert_to_tensor=True)\n",
    "    score = util.pytorch_cos_sim(emb1, emb2).item()\n",
    "    return score >= threshold"
   ]
  },
  {
   "cell_type": "code",
   "execution_count": 20,
   "metadata": {
    "colab": {
     "base_uri": "https://localhost:8080/"
    },
    "executionInfo": {
     "elapsed": 267,
     "status": "ok",
     "timestamp": 1747878441850,
     "user": {
      "displayName": "조성호",
      "userId": "09225298365738883297"
     },
     "user_tz": -540
    },
    "id": "_YSiE5itpw3e",
    "outputId": "68ba42c8-ae30-4800-f2e3-bd677cf8c076"
   },
   "outputs": [
    {
     "name": "stdout",
     "output_type": "stream",
     "text": [
      "시각은 기본적인 것입니다. 0.8224431276321411\n"
     ]
    }
   ],
   "source": [
    "aug = bt_jako(\"눈은 기본이죠.\")\n",
    "print(aug, is_similar(\"눈은 기본이죠.\", aug))"
   ]
  },
  {
   "cell_type": "code",
   "execution_count": 23,
   "metadata": {
    "colab": {
     "base_uri": "https://localhost:8080/"
    },
    "executionInfo": {
     "elapsed": 26669,
     "status": "ok",
     "timestamp": 1747878843514,
     "user": {
      "displayName": "조성호",
      "userId": "09225298365738883297"
     },
     "user_tz": -540
    },
    "id": "QgesaAF5Y6lP",
    "outputId": "bb2b6826-76b4-40d7-f3bf-42d0b34e2608"
   },
   "outputs": [
    {
     "name": "stdout",
     "output_type": "stream",
     "text": [
      "\n",
      "🟩 샘플 1\n",
      "Q: 성덕 되면 내 마음도 편해 지겠지\n",
      "  ↳ en→ko: 내가 성인이면 마음이 안심할 거야  (유사도: 0.9231)\n",
      "  ↳ de→ko: 솔직히 말해서, 저는 편안하게 느껴집니다.  (유사도: 0.4753)\n",
      "  ↳ fr→ko: 내가 성인이 될 때 더 편안하게 느껴질 거야  (유사도: 0.8650)\n",
      "  ↳ ja→ko: 신자가 되면 마음이 안심해질 거야  (유사도: 0.9087)\n",
      "A: 당신이 잘돼야 성덕이 될수있겠죠.\n",
      "  ↳ en→ko: 좋은 사람이 되어야, 성인이 될 수 있다.  (유사도: 0.5158)\n",
      "  ↳ de→ko: 넌 좋은 사람이야, 솔직할 수 있어.  (유사도: 0.6614)\n",
      "  ↳ fr→ko: 당신은 좋은 사람이어야 합니다. 당신은 거룩한 사람이 될 수 있습니다.  (유사도: 0.6887)\n",
      "  ↳ ja→ko: 당신은 좋은 사람이 되고, 성인이 될 수 있습니다.  (유사도: 0.6390)\n",
      "\n",
      "🟩 샘플 2\n",
      "Q: 나는 나약한 존재\n",
      "  ↳ en→ko: 난 약한 존재야  (유사도: 0.7663)\n",
      "  ↳ de→ko: 난 약한 존재야  (유사도: 0.7663)\n",
      "  ↳ fr→ko: 난 약한 존재야.  (유사도: 0.9700)\n",
      "  ↳ ja→ko: 난 약한 존재야  (유사도: 0.7663)\n",
      "A: 절대 그렇지 않아요.\n",
      "  ↳ en→ko: 그건 사실이 아닙니다.  (유사도: 0.7228)\n",
      "  ↳ de→ko: 그건 사실이 아닙니다.  (유사도: 0.7228)\n",
      "  ↳ fr→ko: 그런 일은 결코 일어나지 않습니다.  (유사도: 0.7253)\n",
      "  ↳ ja→ko: 이런 일은 결코 일어나지 않습니다.  (유사도: 0.7196)\n",
      "\n",
      "🟩 샘플 3\n",
      "Q: 낚시 좋아하는 남자 어때?\n",
      "  ↳ en→ko: 낚시를 좋아하는 놈은 어때?  (유사도: 0.9625)\n",
      "  ↳ de→ko: 낚시를 좋아하는 남자가 어떨까요?  (유사도: 0.9648)\n",
      "  ↳ fr→ko: 낚시를 좋아하는 사람이면 어떨까요?  (유사도: 0.8749)\n",
      "  ↳ ja→ko: 낚시를 좋아하는 남자?  (유사도: 0.9588)\n",
      "A: 같이해보세요.\n",
      "  ↳ en→ko: 함께 해보자  (유사도: 0.7849)\n",
      "  ↳ de→ko: 함께 시도해 보세요.  (유사도: 0.7916)\n",
      "  ↳ fr→ko: 함께 해보세요.  (유사도: 0.9635)\n",
      "  ↳ ja→ko: 함께 시도해보세요.  (유사도: 0.8054)\n",
      "\n",
      "🟩 샘플 4\n",
      "Q: 1년이 아무것도 아니였나\n",
      "  ↳ en→ko: 한 년은 아무것도 아니었다.  (유사도: 0.3599)\n",
      "  ↳ de→ko: 한 년은 아무것도 아니었어요.  (유사도: 0.3712)\n",
      "  ↳ fr→ko: 한 해가 별거 아니었어  (유사도: 0.9808)\n",
      "  ↳ ja→ko: 한 해 동안 아무것도 없었어  (유사도: 0.9234)\n",
      "A: 아무것도 아닌 건 아닐 거예요.\n",
      "  ↳ en→ko: 아무 것도 아니겠지  (유사도: 0.5232)\n",
      "  ↳ de→ko: 아무 문제도 없다고 생각해요.  (유사도: 0.5320)\n",
      "  ↳ fr→ko: 그건 아무 것도 아닐 수도 있습니다.  (유사도: 0.9227)\n",
      "  ↳ ja→ko: 아마 아무 것도 없을 겁니다.  (유사도: 0.8716)\n",
      "\n",
      "🟩 샘플 5\n",
      "Q: 그녀가 내 연락을 부담스러워할까?\n",
      "  ↳ en→ko: 나한테 연락해줄까?  (유사도: 0.4792)\n",
      "  ↳ de→ko: 그녀는 나에게 연락하지 않을까요?  (유사도: 0.7198)\n",
      "  ↳ fr→ko: 그녀가 저에게 연락하는 데 어려움을 겪고 있습니까?  (유사도: 0.8329)\n",
      "  ↳ ja→ko: 그녀가 나에게 연락하고 싶으세요?  (유사도: 0.7373)\n",
      "A: 덜 부담스럽게 연락하는 방법이 있는지 모르겠네요.\n",
      "  ↳ en→ko: 연락을 줄 수 있는 덜 부담스러운 방법이 있는지 모르겠어요  (유사도: 0.5577)\n",
      "  ↳ de→ko: 좀 더 쉬운 방법이 있을까요?  (유사도: 0.5105)\n",
      "  ↳ fr→ko: 덜 거친 커뮤니케이션을 할 수 있는 방법이 있는지 모르겠어요.  (유사도: 0.8377)\n",
      "  ↳ ja→ko: 제가 생각하기에 쉬운 방법은 없습니다.  (유사도: 0.4811)\n",
      "\n",
      "🟩 샘플 6\n",
      "Q: 짝사랑 하니까 감정 기복 장난 아님.\n",
      "  ↳ en→ko: 난 널 사랑해 농담이 아니야  (유사도: 0.6843)\n",
      "  ↳ de→ko: 그냥 감성적인 즐거움이야, 내가 널 사랑하기 때문이죠.  (유사도: 0.6629)\n",
      "  ↳ fr→ko: 저는 제 파트너를 사랑합니다.  (유사도: 0.4021)\n",
      "  ↳ ja→ko: 내가 사랑에 빠졌기 때문에 감정이 깨질까?  (유사도: 0.6261)\n",
      "A: 사랑이 내맘같지 않아서 그렇게 되나봐요.\n",
      "  ↳ en→ko: 사랑은 내 어머니와 같지 않다고 생각합니다.  (유사도: 0.7794)\n",
      "  ↳ de→ko: 사랑은 엄마와 같지 않다고 생각합니다.  (유사도: 0.7899)\n",
      "  ↳ fr→ko: 사랑은 내 어머니와 같지 않습니다.  (유사도: 0.7651)\n",
      "  ↳ ja→ko: 왜냐하면 사랑은 내 엄마와 다르기 때문입니다.  (유사도: 0.6778)\n",
      "\n",
      "🟩 샘플 7\n",
      "Q: 지금 가장 힘든 거는\n",
      "  ↳ en→ko: 지금 가장 어려운 부분은...  (유사도: 0.5905)\n",
      "  ↳ de→ko: 가장 어려운 것은 지금입니다.  (유사도: 0.4024)\n",
      "  ↳ fr→ko: 그게 가장 어려운 일입니다.  (유사도: 0.4644)\n",
      "  ↳ ja→ko: 하지만 저는 이 문제를 해결하기 위해  (유사도: 0.4510)\n",
      "A: 자신일 것입니다.\n",
      "  ↳ en→ko: 네가 될 거야  (유사도: 0.6423)\n",
      "  ↳ de→ko: 그들은 자기 자신입니다.  (유사도: 0.7057)\n",
      "  ↳ fr→ko: 넌 너 자신이야  (유사도: 0.7971)\n",
      "  ↳ ja→ko: 제 자신입니다.  (유사도: 0.7579)\n",
      "\n",
      "🟩 샘플 8\n",
      "Q: 빨리 찾아온 사랑\n",
      "  ↳ en→ko: 너무 빨리 왔던 사랑  (유사도: 0.7573)\n",
      "  ↳ de→ko: 빨리 온 사랑.  (유사도: 0.8243)\n",
      "  ↳ fr→ko: 빨리 찾아온 사랑입니다.  (유사도: 0.9428)\n",
      "  ↳ ja→ko: 일찍 왔어, 사랑  (유사도: 0.6473)\n",
      "A: 인생은 타이밍이에요.\n",
      "  ↳ en→ko: 인생은 타이밍입니다.  (유사도: 0.9975)\n",
      "  ↳ de→ko: 인생은 시간입니다.  (유사도: 0.8786)\n",
      "  ↳ fr→ko: 인생은 시간입니다.  (유사도: 0.8786)\n",
      "  ↳ ja→ko: 우리의 삶은 시간입니다.  (유사도: 0.8599)\n",
      "\n",
      "🟩 샘플 9\n",
      "Q: 사랑해서 그런거래\n",
      "  ↳ en→ko: 내가 널 사랑하기 때문이야  (유사도: 0.9728)\n",
      "  ↳ de→ko: 내가 널 사랑하기 때문이야  (유사도: 0.9728)\n",
      "  ↳ fr→ko: 당신이 그를 사랑하기 때문입니다.  (유사도: 0.3236)\n",
      "  ↳ ja→ko: 좋아해서요  (유사도: 0.9824)\n",
      "A: 상대방을 배려하지 않은 사랑은 좋지 않은거예요.\n",
      "  ↳ en→ko: 상대방을 신경쓰지 않는 사랑은 좋지 않습니다.  (유사도: 0.9733)\n",
      "  ↳ de→ko: 사랑이 없는 사랑은 나쁘다.  (유사도: 0.8307)\n",
      "  ↳ fr→ko: 다른 사람을 돌리지 않는 사랑은 좋지 않습니다.  (유사도: 0.9437)\n",
      "  ↳ ja→ko: 사랑은 좋지 않습니다.  (유사도: 0.9230)\n",
      "\n",
      "🟩 샘플 10\n",
      "Q: 결혼하는데 돈 많이 드네\n",
      "  ↳ en→ko: 결혼하는 데 많은 돈을 쓰고 있어요.  (유사도: 0.2724)\n",
      "  ↳ de→ko: 결혼하는 데 많은 돈이 필요합니다.  (유사도: 0.2499)\n",
      "  ↳ fr→ko: 결혼하기 위해서는 많은 돈이 필요합니다.  (유사도: 0.2463)\n",
      "  ↳ ja→ko: 결혼은 돈이 들어요  (유사도: 0.9788)\n",
      "A: 허례허식이에요.\n",
      "  ↳ en→ko: 그건 순례입니다.  (유사도: 0.4731)\n",
      "  ↳ de→ko: 결혼식입니다.  (유사도: 0.2417)\n",
      "  ↳ fr→ko: 이건 의식입니다.  (유사도: 0.5594)\n",
      "  ↳ ja→ko: 결혼식입니다.  (유사도: 0.2417)\n"
     ]
    }
   ],
   "source": [
    "# 샘플 5개 추출\n",
    "sample_df = df.sample(10, random_state=70).reset_index(drop=True)\n",
    "\n",
    "# 실험\n",
    "for i, row in sample_df.iterrows():\n",
    "    print(f\"\\n🟩 샘플 {i+1}\")\n",
    "\n",
    "    for field in [\"Q\", \"A\"]:\n",
    "        original = row[field]\n",
    "        print(f\"{field}: {original}\")\n",
    "\n",
    "        for tag, bt_func in [(\"en\", bt_enko), (\"de\", bt_deko), (\"fr\", bt_frko), (\"ja\", bt_jako)]:\n",
    "            aug = bt_func(original)\n",
    "            sim = is_similar(original, aug)  # float 값을 리턴하도록 구현되어 있다고 가정\n",
    "            print(f\"  ↳ {tag}→ko: {aug}  (유사도: {sim:.4f})\")\n",
    "\n"
   ]
  },
  {
   "cell_type": "code",
   "execution_count": 40,
   "metadata": {
    "colab": {
     "base_uri": "https://localhost:8080/"
    },
    "executionInfo": {
     "elapsed": 4845725,
     "status": "ok",
     "timestamp": 1747900230124,
     "user": {
      "displayName": "조성호",
      "userId": "09225298365738883297"
     },
     "user_tz": -540
    },
    "id": "CeSW0oODaRyw",
    "outputId": "d7a782df-4dd3-486c-aaaf-f3e406979940"
   },
   "outputs": [
    {
     "name": "stdout",
     "output_type": "stream",
     "text": [
      "데이터 크기: (6957, 2)\n"
     ]
    },
    {
     "name": "stderr",
     "output_type": "stream",
     "text": [
      "100%|██████████| 6957/6957 [1:20:45<00:00,  1.44it/s]\n"
     ]
    }
   ],
   "source": [
    "from tqdm import tqdm\n",
    "\n",
    "# 결과 저장 리스트\n",
    "augmented_q = []\n",
    "augmented_a = []\n",
    "\n",
    "print(\"데이터 크기:\", df.shape)\n",
    "tqdm.pandas()\n",
    "\n",
    "for _, row in tqdm(df.iterrows(), total=len(df)):\n",
    "    q = row[\"Q\"]\n",
    "    a = row[\"A\"]\n",
    "\n",
    "    try:\n",
    "        q_aug = bt_enko(q)\n",
    "        if is_similar(q, q_aug):\n",
    "            augmented_q.append(q_aug)\n",
    "            augmented_a.append(a)\n",
    "\n",
    "        a_aug = bt_enko(a)\n",
    "        if is_similar(a, a_aug):\n",
    "            augmented_q.append(q)\n",
    "            augmented_a.append(a_aug)\n",
    "\n",
    "    except Exception:\n",
    "        continue\n"
   ]
  },
  {
   "cell_type": "code",
   "execution_count": 41,
   "metadata": {
    "colab": {
     "base_uri": "https://localhost:8080/",
     "height": 693
    },
    "executionInfo": {
     "elapsed": 24,
     "status": "ok",
     "timestamp": 1747900294492,
     "user": {
      "displayName": "조성호",
      "userId": "09225298365738883297"
     },
     "user_tz": -540
    },
    "id": "8l_PCh98y0a9",
    "outputId": "a90a3dc2-aea0-44a9-e739-0d9709405995"
   },
   "outputs": [
    {
     "name": "stdout",
     "output_type": "stream",
     "text": [
      "증강된 샘플 개수: (9263, 2)\n"
     ]
    },
    {
     "data": {
      "application/vnd.google.colaboratory.intrinsic+json": {
       "summary": "{\n  \"name\": \"aug_df\",\n  \"rows\": 9263,\n  \"fields\": [\n    {\n      \"column\": \"Q\",\n      \"properties\": {\n        \"dtype\": \"string\",\n        \"num_unique_values\": 9018,\n        \"samples\": [\n          \"\\uacb0\\ud63c \\ud574\\ub3c4 \\ub418\\ub294\\uc9c0 \\uace0\\ubbfc\\ub3fc\",\n          \"\\uac08\\ub77c\\uc9c4 \\uace0\\ud1b5.\",\n          \"\\uc88b\\uc544\\ud558\\ub294\\uac70 \\uc5b4\\ub5a4 \\ub290\\ub08c\\uc774\\uc57c?\"\n        ],\n        \"semantic_type\": \"\",\n        \"description\": \"\"\n      }\n    },\n    {\n      \"column\": \"A\",\n      \"properties\": {\n        \"dtype\": \"string\",\n        \"num_unique_values\": 8919,\n        \"samples\": [\n          \"\\uc791\\uc740\\uac83\\uc5d0 \\uac10\\uc0ac\\ud558\\ub294 \\ub9c8\\uc74c\\uc744 \\uac00\\uc838\\ubcf4\\uc138\\uc694.\",\n          \"\\ud798\\ub4e0 \\uc2dc\\uac04\\uc785\\ub2c8\\ub2e4.\",\n          \"\\uc811\\ucd09\\uc740 \\ud22c\\uc7c1\\uc758 \\uc528\\uc557\\uc785\\ub2c8\\ub2e4.\"\n        ],\n        \"semantic_type\": \"\",\n        \"description\": \"\"\n      }\n    }\n  ]\n}",
       "type": "dataframe",
       "variable_name": "aug_df"
      },
      "text/html": [
       "\n",
       "  <div id=\"df-dee2ff88-84a0-4cd0-8eaf-b907bcafebdf\" class=\"colab-df-container\">\n",
       "    <div>\n",
       "<style scoped>\n",
       "    .dataframe tbody tr th:only-of-type {\n",
       "        vertical-align: middle;\n",
       "    }\n",
       "\n",
       "    .dataframe tbody tr th {\n",
       "        vertical-align: top;\n",
       "    }\n",
       "\n",
       "    .dataframe thead th {\n",
       "        text-align: right;\n",
       "    }\n",
       "</style>\n",
       "<table border=\"1\" class=\"dataframe\">\n",
       "  <thead>\n",
       "    <tr style=\"text-align: right;\">\n",
       "      <th></th>\n",
       "      <th>Q</th>\n",
       "      <th>A</th>\n",
       "    </tr>\n",
       "  </thead>\n",
       "  <tbody>\n",
       "    <tr>\n",
       "      <th>0</th>\n",
       "      <td>좋아하는 사람 생기면 자꾸 따라하게 돼.</td>\n",
       "      <td>이것은 자연스러운 현상입니다.</td>\n",
       "    </tr>\n",
       "    <tr>\n",
       "      <th>1</th>\n",
       "      <td>내 남자친구는 나를 모욕하고 있어</td>\n",
       "      <td>순간 실수할 수 있겠다 판단되면 용서하고 기회를 주세요.</td>\n",
       "    </tr>\n",
       "    <tr>\n",
       "      <th>2</th>\n",
       "      <td>남자친구가 욕함</td>\n",
       "      <td>순식간에 실수를 할 수 있어 판단되면 용서하고 기회를 줘</td>\n",
       "    </tr>\n",
       "    <tr>\n",
       "      <th>3</th>\n",
       "      <td>새로운 운동화 필요해요</td>\n",
       "      <td>좋은 곳으로 갈 수 있도록 인도해줄 거예요.</td>\n",
       "    </tr>\n",
       "    <tr>\n",
       "      <th>4</th>\n",
       "      <td>한 달 동안 문자 보냈어요</td>\n",
       "      <td>이제 기억 속에서 지우는게 좋겠어요.</td>\n",
       "    </tr>\n",
       "    <tr>\n",
       "      <th>5</th>\n",
       "      <td>문자 보내놓은지 어언 한 달.</td>\n",
       "      <td>이제 제 기억에서 지우고 싶습니다.</td>\n",
       "    </tr>\n",
       "    <tr>\n",
       "      <th>6</th>\n",
       "      <td>아미티, 가야 돼?</td>\n",
       "      <td>필수는 아니에요.</td>\n",
       "    </tr>\n",
       "    <tr>\n",
       "      <th>7</th>\n",
       "      <td>엠티 꼭 가야해?</td>\n",
       "      <td>그럴 필요는 없어요.</td>\n",
       "    </tr>\n",
       "    <tr>\n",
       "      <th>8</th>\n",
       "      <td>썸 타는 사이가 이렇게 편해도 되나?</td>\n",
       "      <td>너무 편안하다고 말해</td>\n",
       "    </tr>\n",
       "    <tr>\n",
       "      <th>9</th>\n",
       "      <td>썸 타는 사람한테 영통 걸까?</td>\n",
       "      <td>걸을 수 있는지 물어보세요.</td>\n",
       "    </tr>\n",
       "    <tr>\n",
       "      <th>10</th>\n",
       "      <td>널 만나면 안 좋아</td>\n",
       "      <td>그러면 만나는게 좋은거 같아요.</td>\n",
       "    </tr>\n",
       "    <tr>\n",
       "      <th>11</th>\n",
       "      <td>사랑하는 것과 사랑하는 것의 차이점은 무엇일까요?</td>\n",
       "      <td>구분짓기 어렵네요.</td>\n",
       "    </tr>\n",
       "    <tr>\n",
       "      <th>12</th>\n",
       "      <td>좋아하는 거랑 사랑하는 거 차이점이 뭘까요.</td>\n",
       "      <td>알기는 어렵죠.</td>\n",
       "    </tr>\n",
       "    <tr>\n",
       "      <th>13</th>\n",
       "      <td>어제 전화했어</td>\n",
       "      <td>말씀해보세요.</td>\n",
       "    </tr>\n",
       "    <tr>\n",
       "      <th>14</th>\n",
       "      <td>어제 연락햇는데ㅋㅋ</td>\n",
       "      <td>그 얘길 말해줘</td>\n",
       "    </tr>\n",
       "    <tr>\n",
       "      <th>15</th>\n",
       "      <td>5개월이 지났어요</td>\n",
       "      <td>이제 좀 괜찮아졌길 바랍니다.</td>\n",
       "    </tr>\n",
       "    <tr>\n",
       "      <th>16</th>\n",
       "      <td>우린 서로 사랑해요</td>\n",
       "      <td>기적같은 일이네요.</td>\n",
       "    </tr>\n",
       "    <tr>\n",
       "      <th>17</th>\n",
       "      <td>서로 사랑해</td>\n",
       "      <td>그건 기적이야</td>\n",
       "    </tr>\n",
       "    <tr>\n",
       "      <th>18</th>\n",
       "      <td>서로 좋아하는 것 같은데 내가 자존심 때문에 자꾸 관심 없는 척하게 돼.</td>\n",
       "      <td>자부심이 사랑보다 더 쓸모없습니다.</td>\n",
       "    </tr>\n",
       "    <tr>\n",
       "      <th>19</th>\n",
       "      <td>다음주에 전 여자친구를 보기로 했어</td>\n",
       "      <td>난 복잡하다고 생각해요.</td>\n",
       "    </tr>\n",
       "  </tbody>\n",
       "</table>\n",
       "</div>\n",
       "    <div class=\"colab-df-buttons\">\n",
       "\n",
       "  <div class=\"colab-df-container\">\n",
       "    <button class=\"colab-df-convert\" onclick=\"convertToInteractive('df-dee2ff88-84a0-4cd0-8eaf-b907bcafebdf')\"\n",
       "            title=\"Convert this dataframe to an interactive table.\"\n",
       "            style=\"display:none;\">\n",
       "\n",
       "  <svg xmlns=\"http://www.w3.org/2000/svg\" height=\"24px\" viewBox=\"0 -960 960 960\">\n",
       "    <path d=\"M120-120v-720h720v720H120Zm60-500h600v-160H180v160Zm220 220h160v-160H400v160Zm0 220h160v-160H400v160ZM180-400h160v-160H180v160Zm440 0h160v-160H620v160ZM180-180h160v-160H180v160Zm440 0h160v-160H620v160Z\"/>\n",
       "  </svg>\n",
       "    </button>\n",
       "\n",
       "  <style>\n",
       "    .colab-df-container {\n",
       "      display:flex;\n",
       "      gap: 12px;\n",
       "    }\n",
       "\n",
       "    .colab-df-convert {\n",
       "      background-color: #E8F0FE;\n",
       "      border: none;\n",
       "      border-radius: 50%;\n",
       "      cursor: pointer;\n",
       "      display: none;\n",
       "      fill: #1967D2;\n",
       "      height: 32px;\n",
       "      padding: 0 0 0 0;\n",
       "      width: 32px;\n",
       "    }\n",
       "\n",
       "    .colab-df-convert:hover {\n",
       "      background-color: #E2EBFA;\n",
       "      box-shadow: 0px 1px 2px rgba(60, 64, 67, 0.3), 0px 1px 3px 1px rgba(60, 64, 67, 0.15);\n",
       "      fill: #174EA6;\n",
       "    }\n",
       "\n",
       "    .colab-df-buttons div {\n",
       "      margin-bottom: 4px;\n",
       "    }\n",
       "\n",
       "    [theme=dark] .colab-df-convert {\n",
       "      background-color: #3B4455;\n",
       "      fill: #D2E3FC;\n",
       "    }\n",
       "\n",
       "    [theme=dark] .colab-df-convert:hover {\n",
       "      background-color: #434B5C;\n",
       "      box-shadow: 0px 1px 3px 1px rgba(0, 0, 0, 0.15);\n",
       "      filter: drop-shadow(0px 1px 2px rgba(0, 0, 0, 0.3));\n",
       "      fill: #FFFFFF;\n",
       "    }\n",
       "  </style>\n",
       "\n",
       "    <script>\n",
       "      const buttonEl =\n",
       "        document.querySelector('#df-dee2ff88-84a0-4cd0-8eaf-b907bcafebdf button.colab-df-convert');\n",
       "      buttonEl.style.display =\n",
       "        google.colab.kernel.accessAllowed ? 'block' : 'none';\n",
       "\n",
       "      async function convertToInteractive(key) {\n",
       "        const element = document.querySelector('#df-dee2ff88-84a0-4cd0-8eaf-b907bcafebdf');\n",
       "        const dataTable =\n",
       "          await google.colab.kernel.invokeFunction('convertToInteractive',\n",
       "                                                    [key], {});\n",
       "        if (!dataTable) return;\n",
       "\n",
       "        const docLinkHtml = 'Like what you see? Visit the ' +\n",
       "          '<a target=\"_blank\" href=https://colab.research.google.com/notebooks/data_table.ipynb>data table notebook</a>'\n",
       "          + ' to learn more about interactive tables.';\n",
       "        element.innerHTML = '';\n",
       "        dataTable['output_type'] = 'display_data';\n",
       "        await google.colab.output.renderOutput(dataTable, element);\n",
       "        const docLink = document.createElement('div');\n",
       "        docLink.innerHTML = docLinkHtml;\n",
       "        element.appendChild(docLink);\n",
       "      }\n",
       "    </script>\n",
       "  </div>\n",
       "\n",
       "\n",
       "    <div id=\"df-f91c84a7-e6b6-4e6a-adc0-e08f2d8f8fd3\">\n",
       "      <button class=\"colab-df-quickchart\" onclick=\"quickchart('df-f91c84a7-e6b6-4e6a-adc0-e08f2d8f8fd3')\"\n",
       "                title=\"Suggest charts\"\n",
       "                style=\"display:none;\">\n",
       "\n",
       "<svg xmlns=\"http://www.w3.org/2000/svg\" height=\"24px\"viewBox=\"0 0 24 24\"\n",
       "     width=\"24px\">\n",
       "    <g>\n",
       "        <path d=\"M19 3H5c-1.1 0-2 .9-2 2v14c0 1.1.9 2 2 2h14c1.1 0 2-.9 2-2V5c0-1.1-.9-2-2-2zM9 17H7v-7h2v7zm4 0h-2V7h2v10zm4 0h-2v-4h2v4z\"/>\n",
       "    </g>\n",
       "</svg>\n",
       "      </button>\n",
       "\n",
       "<style>\n",
       "  .colab-df-quickchart {\n",
       "      --bg-color: #E8F0FE;\n",
       "      --fill-color: #1967D2;\n",
       "      --hover-bg-color: #E2EBFA;\n",
       "      --hover-fill-color: #174EA6;\n",
       "      --disabled-fill-color: #AAA;\n",
       "      --disabled-bg-color: #DDD;\n",
       "  }\n",
       "\n",
       "  [theme=dark] .colab-df-quickchart {\n",
       "      --bg-color: #3B4455;\n",
       "      --fill-color: #D2E3FC;\n",
       "      --hover-bg-color: #434B5C;\n",
       "      --hover-fill-color: #FFFFFF;\n",
       "      --disabled-bg-color: #3B4455;\n",
       "      --disabled-fill-color: #666;\n",
       "  }\n",
       "\n",
       "  .colab-df-quickchart {\n",
       "    background-color: var(--bg-color);\n",
       "    border: none;\n",
       "    border-radius: 50%;\n",
       "    cursor: pointer;\n",
       "    display: none;\n",
       "    fill: var(--fill-color);\n",
       "    height: 32px;\n",
       "    padding: 0;\n",
       "    width: 32px;\n",
       "  }\n",
       "\n",
       "  .colab-df-quickchart:hover {\n",
       "    background-color: var(--hover-bg-color);\n",
       "    box-shadow: 0 1px 2px rgba(60, 64, 67, 0.3), 0 1px 3px 1px rgba(60, 64, 67, 0.15);\n",
       "    fill: var(--button-hover-fill-color);\n",
       "  }\n",
       "\n",
       "  .colab-df-quickchart-complete:disabled,\n",
       "  .colab-df-quickchart-complete:disabled:hover {\n",
       "    background-color: var(--disabled-bg-color);\n",
       "    fill: var(--disabled-fill-color);\n",
       "    box-shadow: none;\n",
       "  }\n",
       "\n",
       "  .colab-df-spinner {\n",
       "    border: 2px solid var(--fill-color);\n",
       "    border-color: transparent;\n",
       "    border-bottom-color: var(--fill-color);\n",
       "    animation:\n",
       "      spin 1s steps(1) infinite;\n",
       "  }\n",
       "\n",
       "  @keyframes spin {\n",
       "    0% {\n",
       "      border-color: transparent;\n",
       "      border-bottom-color: var(--fill-color);\n",
       "      border-left-color: var(--fill-color);\n",
       "    }\n",
       "    20% {\n",
       "      border-color: transparent;\n",
       "      border-left-color: var(--fill-color);\n",
       "      border-top-color: var(--fill-color);\n",
       "    }\n",
       "    30% {\n",
       "      border-color: transparent;\n",
       "      border-left-color: var(--fill-color);\n",
       "      border-top-color: var(--fill-color);\n",
       "      border-right-color: var(--fill-color);\n",
       "    }\n",
       "    40% {\n",
       "      border-color: transparent;\n",
       "      border-right-color: var(--fill-color);\n",
       "      border-top-color: var(--fill-color);\n",
       "    }\n",
       "    60% {\n",
       "      border-color: transparent;\n",
       "      border-right-color: var(--fill-color);\n",
       "    }\n",
       "    80% {\n",
       "      border-color: transparent;\n",
       "      border-right-color: var(--fill-color);\n",
       "      border-bottom-color: var(--fill-color);\n",
       "    }\n",
       "    90% {\n",
       "      border-color: transparent;\n",
       "      border-bottom-color: var(--fill-color);\n",
       "    }\n",
       "  }\n",
       "</style>\n",
       "\n",
       "      <script>\n",
       "        async function quickchart(key) {\n",
       "          const quickchartButtonEl =\n",
       "            document.querySelector('#' + key + ' button');\n",
       "          quickchartButtonEl.disabled = true;  // To prevent multiple clicks.\n",
       "          quickchartButtonEl.classList.add('colab-df-spinner');\n",
       "          try {\n",
       "            const charts = await google.colab.kernel.invokeFunction(\n",
       "                'suggestCharts', [key], {});\n",
       "          } catch (error) {\n",
       "            console.error('Error during call to suggestCharts:', error);\n",
       "          }\n",
       "          quickchartButtonEl.classList.remove('colab-df-spinner');\n",
       "          quickchartButtonEl.classList.add('colab-df-quickchart-complete');\n",
       "        }\n",
       "        (() => {\n",
       "          let quickchartButtonEl =\n",
       "            document.querySelector('#df-f91c84a7-e6b6-4e6a-adc0-e08f2d8f8fd3 button');\n",
       "          quickchartButtonEl.style.display =\n",
       "            google.colab.kernel.accessAllowed ? 'block' : 'none';\n",
       "        })();\n",
       "      </script>\n",
       "    </div>\n",
       "\n",
       "    </div>\n",
       "  </div>\n"
      ],
      "text/plain": [
       "                                           Q                                A\n",
       "0                     좋아하는 사람 생기면 자꾸 따라하게 돼.                 이것은 자연스러운 현상입니다.\n",
       "1                         내 남자친구는 나를 모욕하고 있어  순간 실수할 수 있겠다 판단되면 용서하고 기회를 주세요.\n",
       "2                                   남자친구가 욕함  순식간에 실수를 할 수 있어 판단되면 용서하고 기회를 줘\n",
       "3                               새로운 운동화 필요해요         좋은 곳으로 갈 수 있도록 인도해줄 거예요.\n",
       "4                             한 달 동안 문자 보냈어요             이제 기억 속에서 지우는게 좋겠어요.\n",
       "5                           문자 보내놓은지 어언 한 달.              이제 제 기억에서 지우고 싶습니다.\n",
       "6                                 아미티, 가야 돼?                        필수는 아니에요.\n",
       "7                                  엠티 꼭 가야해?                      그럴 필요는 없어요.\n",
       "8                       썸 타는 사이가 이렇게 편해도 되나?                      너무 편안하다고 말해\n",
       "9                           썸 타는 사람한테 영통 걸까?                  걸을 수 있는지 물어보세요.\n",
       "10                                널 만나면 안 좋아                그러면 만나는게 좋은거 같아요.\n",
       "11               사랑하는 것과 사랑하는 것의 차이점은 무엇일까요?                       구분짓기 어렵네요.\n",
       "12                  좋아하는 거랑 사랑하는 거 차이점이 뭘까요.                         알기는 어렵죠.\n",
       "13                                   어제 전화했어                          말씀해보세요.\n",
       "14                                어제 연락햇는데ㅋㅋ                         그 얘길 말해줘\n",
       "15                                 5개월이 지났어요                 이제 좀 괜찮아졌길 바랍니다.\n",
       "16                                우린 서로 사랑해요                       기적같은 일이네요.\n",
       "17                                    서로 사랑해                          그건 기적이야\n",
       "18  서로 좋아하는 것 같은데 내가 자존심 때문에 자꾸 관심 없는 척하게 돼.              자부심이 사랑보다 더 쓸모없습니다.\n",
       "19                       다음주에 전 여자친구를 보기로 했어                    난 복잡하다고 생각해요."
      ]
     },
     "execution_count": 41,
     "metadata": {},
     "output_type": "execute_result"
    }
   ],
   "source": [
    "# 새로운 증강 결과 DataFrame 생성\n",
    "aug_df = pd.DataFrame({\n",
    "    \"Q\": augmented_q,\n",
    "    \"A\": augmented_a\n",
    "})\n",
    "\n",
    "print(\"증강된 샘플 개수:\", aug_df.shape)\n",
    "aug_df.head(20)\n"
   ]
  },
  {
   "cell_type": "code",
   "execution_count": 42,
   "metadata": {
    "colab": {
     "base_uri": "https://localhost:8080/",
     "height": 34
    },
    "executionInfo": {
     "elapsed": 1539,
     "status": "ok",
     "timestamp": 1747900299903,
     "user": {
      "displayName": "조성호",
      "userId": "09225298365738883297"
     },
     "user_tz": -540
    },
    "id": "toEdMjztZAoN",
    "outputId": "204b3506-98ac-447a-f426-c09dabcecefb"
   },
   "outputs": [
    {
     "name": "stdout",
     "output_type": "stream",
     "text": [
      "Drive already mounted at /content/drive; to attempt to forcibly remount, call drive.mount(\"/content/drive\", force_remount=True).\n"
     ]
    },
    {
     "data": {
      "application/javascript": [
       "\n",
       "    async function download(id, filename, size) {\n",
       "      if (!google.colab.kernel.accessAllowed) {\n",
       "        return;\n",
       "      }\n",
       "      const div = document.createElement('div');\n",
       "      const label = document.createElement('label');\n",
       "      label.textContent = `Downloading \"${filename}\": `;\n",
       "      div.appendChild(label);\n",
       "      const progress = document.createElement('progress');\n",
       "      progress.max = size;\n",
       "      div.appendChild(progress);\n",
       "      document.body.appendChild(div);\n",
       "\n",
       "      const buffers = [];\n",
       "      let downloaded = 0;\n",
       "\n",
       "      const channel = await google.colab.kernel.comms.open(id);\n",
       "      // Send a message to notify the kernel that we're ready.\n",
       "      channel.send({})\n",
       "\n",
       "      for await (const message of channel.messages) {\n",
       "        // Send a message to notify the kernel that we're ready.\n",
       "        channel.send({})\n",
       "        if (message.buffers) {\n",
       "          for (const buffer of message.buffers) {\n",
       "            buffers.push(buffer);\n",
       "            downloaded += buffer.byteLength;\n",
       "            progress.value = downloaded;\n",
       "          }\n",
       "        }\n",
       "      }\n",
       "      const blob = new Blob(buffers, {type: 'application/binary'});\n",
       "      const a = document.createElement('a');\n",
       "      a.href = window.URL.createObjectURL(blob);\n",
       "      a.download = filename;\n",
       "      div.appendChild(a);\n",
       "      a.click();\n",
       "      div.remove();\n",
       "    }\n",
       "  "
      ],
      "text/plain": [
       "<IPython.core.display.Javascript object>"
      ]
     },
     "metadata": {},
     "output_type": "display_data"
    },
    {
     "data": {
      "application/javascript": [
       "download(\"download_faa7d958-7636-4c4c-95ed-0b55c1214129\", \"ChatbotData_backtranslated.csv\", 713738)"
      ],
      "text/plain": [
       "<IPython.core.display.Javascript object>"
      ]
     },
     "metadata": {},
     "output_type": "display_data"
    }
   ],
   "source": [
    "# 저장\n",
    "output_path = \"ChatbotData_backtranslated.csv\"\n",
    "aug_df.to_csv(output_path, index=False, encoding=\"utf-8-sig\")\n",
    "\n",
    "# Google Drive 저장\n",
    "from google.colab import drive, files\n",
    "drive.mount('/content/drive')\n",
    "!cp {output_path} /content/drive/MyDrive/\n",
    "\n",
    "# 다운로드 링크 생성\n",
    "files.download(output_path)"
   ]
  },
  {
   "cell_type": "code",
   "execution_count": null,
   "metadata": {
    "id": "9wyOsljTg21t"
   },
   "outputs": [],
   "source": []
  }
 ],
 "metadata": {
  "accelerator": "GPU",
  "colab": {
   "authorship_tag": "ABX9TyMJHtwSghHpzfNIdMguN2qn",
   "gpuType": "A100",
   "provenance": []
  },
  "kernelspec": {
   "display_name": "Python 3",
   "name": "python3"
  },
  "language_info": {
   "name": "python"
  }
 },
 "nbformat": 4,
 "nbformat_minor": 0
}
