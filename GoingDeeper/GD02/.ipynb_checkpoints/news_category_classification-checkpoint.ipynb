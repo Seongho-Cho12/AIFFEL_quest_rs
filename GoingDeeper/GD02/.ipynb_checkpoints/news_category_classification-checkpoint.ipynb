{
 "cells": [
  {
   "cell_type": "markdown",
   "id": "8fcf7d6b",
   "metadata": {},
   "source": [
    "# 뉴스 카테고리 다중분류 프로젝트"
   ]
  },
  {
   "cell_type": "markdown",
   "id": "38fb335c",
   "metadata": {},
   "source": [
    "## 필요한 라이브러리"
   ]
  },
  {
   "cell_type": "code",
   "execution_count": 1,
   "id": "6a445b94",
   "metadata": {},
   "outputs": [
    {
     "name": "stdout",
     "output_type": "stream",
     "text": [
      "=3\n"
     ]
    }
   ],
   "source": [
    "from tensorflow.keras.datasets import reuters\n",
    "import matplotlib.pyplot as plt\n",
    "import seaborn as sns\n",
    "import numpy as np\n",
    "import pandas as pd\n",
    "\n",
    "print('=3')"
   ]
  },
  {
   "cell_type": "markdown",
   "id": "0fa5252d",
   "metadata": {},
   "source": [
    "## 데이터 불러오기"
   ]
  },
  {
   "cell_type": "markdown",
   "id": "797c1332",
   "metadata": {},
   "source": [
    "### 1. 빈도수 상위 5,000개의 단어만 사용"
   ]
  },
  {
   "cell_type": "code",
   "execution_count": 2,
   "id": "ae45dbe2",
   "metadata": {},
   "outputs": [],
   "source": [
    "(x_train5, y_train5), (x_test5, y_test5) = reuters.load_data(num_words=5000, test_split=0.2)"
   ]
  },
  {
   "cell_type": "markdown",
   "id": "ed548f2c",
   "metadata": {},
   "source": [
    "### 2. 빈도수 상위 10,000개의 단어만 사용"
   ]
  },
  {
   "cell_type": "code",
   "execution_count": 3,
   "id": "559199f9",
   "metadata": {},
   "outputs": [],
   "source": [
    "(x_train10, y_train10), (x_test10, y_test10) = reuters.load_data(num_words=10000, test_split=0.2)"
   ]
  },
  {
   "cell_type": "markdown",
   "id": "68194612",
   "metadata": {},
   "source": [
    "### 3. 빈도수 상위 20,000개의 단어만 사용"
   ]
  },
  {
   "cell_type": "code",
   "execution_count": 4,
   "id": "437d2e5a",
   "metadata": {},
   "outputs": [],
   "source": [
    "(x_train20, y_train20), (x_test20, y_test20) = reuters.load_data(num_words=20000, test_split=0.2)"
   ]
  },
  {
   "cell_type": "markdown",
   "id": "d6bab851",
   "metadata": {},
   "source": [
    "### 4. 모든 단어 사용"
   ]
  },
  {
   "cell_type": "code",
   "execution_count": 5,
   "id": "5f244ee7",
   "metadata": {},
   "outputs": [],
   "source": [
    "(x_trainN, y_trainN), (x_testN, y_testN) = reuters.load_data(num_words=None, test_split=0.2)"
   ]
  },
  {
   "cell_type": "markdown",
   "id": "dd420e7c",
   "metadata": {},
   "source": [
    "## 데이터 복원하기"
   ]
  },
  {
   "cell_type": "code",
   "execution_count": 6,
   "id": "e3ecd2f3",
   "metadata": {},
   "outputs": [
    {
     "name": "stdout",
     "output_type": "stream",
     "text": [
      "=3\n"
     ]
    }
   ],
   "source": [
    "word_index = reuters.get_word_index(path=\"reuters_word_index.json\")\n",
    "\n",
    "# 패딩, 스타트 토큰, 엔드 토큰을 위한 인덱스 조정\n",
    "index_to_word = { index+3 : word for word, index in word_index.items() }\n",
    "\n",
    "for index, token in enumerate((\"<pad>\", \"<sos>\", \"<unk>\")):\n",
    "    index_to_word[index]=token\n",
    "\n",
    "print('=3')"
   ]
  },
  {
   "cell_type": "code",
   "execution_count": 7,
   "id": "cb28506c",
   "metadata": {},
   "outputs": [],
   "source": [
    "# 정수 인코딩 되어있는 데이터를 자연어 데이터로 디코딩\n",
    "def decoding(x):\n",
    "    decoded = []\n",
    "    for i in range(len(x)):\n",
    "        t = ' '.join([index_to_word[index] for index in x[i]])\n",
    "        decoded.append(t)\n",
    "\n",
    "    return decoded"
   ]
  },
  {
   "cell_type": "code",
   "execution_count": 8,
   "id": "8eb7d834",
   "metadata": {},
   "outputs": [],
   "source": [
    "decoded_train5 = decoding(x_train5)\n",
    "decoded_test5 = decoding(x_test5)\n",
    "\n",
    "decoded_train10 = decoding(x_train10)\n",
    "decoded_test10 = decoding(x_test10)\n",
    "\n",
    "decoded_train20 = decoding(x_train20)\n",
    "decoded_test20 = decoding(x_test20)\n",
    "\n",
    "decoded_trainN = decoding(x_trainN)\n",
    "decoded_testN = decoding(x_testN)\n"
   ]
  },
  {
   "cell_type": "markdown",
   "id": "c7811087",
   "metadata": {},
   "source": [
    "## 벡터화 하기"
   ]
  },
  {
   "cell_type": "code",
   "execution_count": 14,
   "id": "4f06da40",
   "metadata": {},
   "outputs": [],
   "source": [
    "from sklearn.feature_extraction.text import CountVectorizer\n",
    "from sklearn.feature_extraction.text import TfidfTransformer\n",
    "\n",
    "dtmvector = CountVectorizer()\n",
    "tfidf_transformer = TfidfTransformer()\n",
    "\n",
    "# train은 fit_transform, test는 transform 사용\n",
    "def vectorize_train(x):\n",
    "    x_dtm = dtmvector.fit_transform(x)\n",
    "    tfidfv = tfidf_transformer.fit_transform(x_dtm)\n",
    "    return tfidfv\n",
    "\n",
    "def vectorize_test(x):\n",
    "    x_dtm = dtmvector.transform(x)\n",
    "    tfidfv = tfidf_transformer.transform(x_dtm)\n",
    "    return tfidfv"
   ]
  },
  {
   "cell_type": "code",
   "execution_count": 15,
   "id": "3c629382",
   "metadata": {},
   "outputs": [],
   "source": [
    "tfidfv_train5 = vectorize_train(decoded_train5)\n",
    "tfidfv_test5 = vectorize_test(decoded_test5)\n",
    "\n",
    "tfidfv_train10 = vectorize_train(decoded_train10)\n",
    "tfidfv_test10 = vectorize_test(decoded_test10)\n",
    "\n",
    "tfidfv_train20 = vectorize_train(decoded_train20)\n",
    "tfidfv_test20 = vectorize_test(decoded_test20)\n",
    "\n",
    "tfidfv_trainN = vectorize_train(decoded_trainN)\n",
    "tfidfv_testN = vectorize_test(decoded_testN)\n"
   ]
  },
  {
   "cell_type": "markdown",
   "id": "f5b1b68a",
   "metadata": {},
   "source": [
    "## 모델별 실험"
   ]
  },
  {
   "cell_type": "markdown",
   "id": "a39ef35f",
   "metadata": {},
   "source": [
    "### 1. 나이브 베이즈 분류기"
   ]
  },
  {
   "cell_type": "markdown",
   "id": "cef0cadd",
   "metadata": {},
   "source": [
    "#### 1-1. vocab_size = 5,000"
   ]
  },
  {
   "cell_type": "code",
   "execution_count": 16,
   "id": "c9726670",
   "metadata": {},
   "outputs": [
    {
     "data": {
      "text/plain": [
       "MultinomialNB()"
      ]
     },
     "execution_count": 16,
     "metadata": {},
     "output_type": "execute_result"
    }
   ],
   "source": [
    "from sklearn.naive_bayes import MultinomialNB\n",
    "\n",
    "model5 = MultinomialNB()\n",
    "model5.fit(tfidfv_train5, y_train5)"
   ]
  },
  {
   "cell_type": "code",
   "execution_count": 34,
   "id": "53d99b60",
   "metadata": {
    "scrolled": true
   },
   "outputs": [
    {
     "name": "stdout",
     "output_type": "stream",
     "text": [
      "              precision    recall  f1-score   support\n",
      "\n",
      "           0     0.0000    0.0000    0.0000        12\n",
      "           1     0.5030    0.8000    0.6176       105\n",
      "           2     0.0000    0.0000    0.0000        20\n",
      "           3     0.8561    0.8856    0.8706       813\n",
      "           4     0.5903    0.9515    0.7286       474\n",
      "           5     0.0000    0.0000    0.0000         5\n",
      "           6     0.0000    0.0000    0.0000        14\n",
      "           7     0.0000    0.0000    0.0000         3\n",
      "           8     0.0000    0.0000    0.0000        38\n",
      "           9     1.0000    0.2800    0.4375        25\n",
      "          10     0.0000    0.0000    0.0000        30\n",
      "          11     0.4766    0.7349    0.5782        83\n",
      "          12     0.0000    0.0000    0.0000        13\n",
      "          13     1.0000    0.1351    0.2381        37\n",
      "          14     0.0000    0.0000    0.0000         2\n",
      "          15     0.0000    0.0000    0.0000         9\n",
      "          16     0.5963    0.6566    0.6250        99\n",
      "          17     0.0000    0.0000    0.0000        12\n",
      "          18     0.0000    0.0000    0.0000        20\n",
      "          19     0.5094    0.8120    0.6261       133\n",
      "          20     0.9000    0.1286    0.2250        70\n",
      "          21     0.0000    0.0000    0.0000        27\n",
      "          22     0.0000    0.0000    0.0000         7\n",
      "          23     0.0000    0.0000    0.0000        12\n",
      "          24     0.0000    0.0000    0.0000        19\n",
      "          25     1.0000    0.0645    0.1212        31\n",
      "          26     0.0000    0.0000    0.0000         8\n",
      "          27     0.0000    0.0000    0.0000         4\n",
      "          28     0.0000    0.0000    0.0000        10\n",
      "          29     0.0000    0.0000    0.0000         4\n",
      "          30     0.0000    0.0000    0.0000        12\n",
      "          31     0.0000    0.0000    0.0000        13\n",
      "          32     0.0000    0.0000    0.0000        10\n",
      "          33     0.0000    0.0000    0.0000         5\n",
      "          34     0.0000    0.0000    0.0000         7\n",
      "          35     0.0000    0.0000    0.0000         6\n",
      "          36     0.0000    0.0000    0.0000        11\n",
      "          37     0.0000    0.0000    0.0000         2\n",
      "          38     0.0000    0.0000    0.0000         3\n",
      "          39     0.0000    0.0000    0.0000         5\n",
      "          40     0.0000    0.0000    0.0000        10\n",
      "          41     0.0000    0.0000    0.0000         8\n",
      "          42     0.0000    0.0000    0.0000         3\n",
      "          43     0.0000    0.0000    0.0000         6\n",
      "          44     0.0000    0.0000    0.0000         5\n",
      "          45     0.0000    0.0000    0.0000         1\n",
      "\n",
      "    accuracy                         0.6732      2246\n",
      "   macro avg     0.1616    0.1185    0.1102      2246\n",
      "weighted avg     0.6015    0.6732    0.6013      2246\n",
      "\n"
     ]
    }
   ],
   "source": [
    "from sklearn.metrics import classification_report\n",
    "\n",
    "predicted = model5.predict(tfidfv_test5)\n",
    "print(classification_report(y_test5, predicted, zero_division=0, digits=4))"
   ]
  },
  {
   "cell_type": "markdown",
   "id": "d1726f52",
   "metadata": {},
   "source": [
    "#### 1-2. vocab_size = 10,000"
   ]
  },
  {
   "cell_type": "code",
   "execution_count": 18,
   "id": "e8fdef49",
   "metadata": {},
   "outputs": [
    {
     "data": {
      "text/plain": [
       "MultinomialNB()"
      ]
     },
     "execution_count": 18,
     "metadata": {},
     "output_type": "execute_result"
    }
   ],
   "source": [
    "model10 = MultinomialNB()\n",
    "model10.fit(tfidfv_train10, y_train10)"
   ]
  },
  {
   "cell_type": "code",
   "execution_count": 35,
   "id": "e9882b39",
   "metadata": {
    "scrolled": true
   },
   "outputs": [
    {
     "name": "stdout",
     "output_type": "stream",
     "text": [
      "              precision    recall  f1-score   support\n",
      "\n",
      "           0     0.0000    0.0000    0.0000        12\n",
      "           1     0.6154    0.6857    0.6486       105\n",
      "           2     0.0000    0.0000    0.0000        20\n",
      "           3     0.8086    0.8991    0.8515       813\n",
      "           4     0.5124    0.9578    0.6676       474\n",
      "           5     0.0000    0.0000    0.0000         5\n",
      "           6     0.0000    0.0000    0.0000        14\n",
      "           7     0.0000    0.0000    0.0000         3\n",
      "           8     0.0000    0.0000    0.0000        38\n",
      "           9     1.0000    0.0800    0.1481        25\n",
      "          10     0.0000    0.0000    0.0000        30\n",
      "          11     0.6582    0.6265    0.6420        83\n",
      "          12     0.0000    0.0000    0.0000        13\n",
      "          13     1.0000    0.0270    0.0526        37\n",
      "          14     0.0000    0.0000    0.0000         2\n",
      "          15     0.0000    0.0000    0.0000         9\n",
      "          16     0.6875    0.5556    0.6145        99\n",
      "          17     0.0000    0.0000    0.0000        12\n",
      "          18     0.0000    0.0000    0.0000        20\n",
      "          19     0.6012    0.7820    0.6797       133\n",
      "          20     1.0000    0.0429    0.0822        70\n",
      "          21     0.0000    0.0000    0.0000        27\n",
      "          22     0.0000    0.0000    0.0000         7\n",
      "          23     0.0000    0.0000    0.0000        12\n",
      "          24     0.0000    0.0000    0.0000        19\n",
      "          25     1.0000    0.0323    0.0625        31\n",
      "          26     0.0000    0.0000    0.0000         8\n",
      "          27     0.0000    0.0000    0.0000         4\n",
      "          28     0.0000    0.0000    0.0000        10\n",
      "          29     0.0000    0.0000    0.0000         4\n",
      "          30     0.0000    0.0000    0.0000        12\n",
      "          31     0.0000    0.0000    0.0000        13\n",
      "          32     0.0000    0.0000    0.0000        10\n",
      "          33     0.0000    0.0000    0.0000         5\n",
      "          34     0.0000    0.0000    0.0000         7\n",
      "          35     0.0000    0.0000    0.0000         6\n",
      "          36     0.0000    0.0000    0.0000        11\n",
      "          37     0.0000    0.0000    0.0000         2\n",
      "          38     0.0000    0.0000    0.0000         3\n",
      "          39     0.0000    0.0000    0.0000         5\n",
      "          40     0.0000    0.0000    0.0000        10\n",
      "          41     0.0000    0.0000    0.0000         8\n",
      "          42     0.0000    0.0000    0.0000         3\n",
      "          43     0.0000    0.0000    0.0000         6\n",
      "          44     0.0000    0.0000    0.0000         5\n",
      "          45     0.0000    0.0000    0.0000         1\n",
      "\n",
      "    accuracy                         0.6567      2246\n",
      "   macro avg     0.1714    0.1019    0.0967      2246\n",
      "weighted avg     0.5924    0.6567    0.5764      2246\n",
      "\n"
     ]
    }
   ],
   "source": [
    "predicted = model10.predict(tfidfv_test10)\n",
    "print(classification_report(y_test10, predicted, zero_division=0, digits=4))"
   ]
  },
  {
   "cell_type": "markdown",
   "id": "fea5c06a",
   "metadata": {},
   "source": [
    "#### 1-3. vocab_size = 20,000"
   ]
  },
  {
   "cell_type": "code",
   "execution_count": 20,
   "id": "eb036229",
   "metadata": {},
   "outputs": [
    {
     "data": {
      "text/plain": [
       "MultinomialNB()"
      ]
     },
     "execution_count": 20,
     "metadata": {},
     "output_type": "execute_result"
    }
   ],
   "source": [
    "model20 = MultinomialNB()\n",
    "model20.fit(tfidfv_train20, y_train20)"
   ]
  },
  {
   "cell_type": "code",
   "execution_count": 36,
   "id": "2a4fde13",
   "metadata": {
    "scrolled": true
   },
   "outputs": [
    {
     "name": "stdout",
     "output_type": "stream",
     "text": [
      "              precision    recall  f1-score   support\n",
      "\n",
      "           0     0.0000    0.0000    0.0000        12\n",
      "           1     0.7885    0.3905    0.5223       105\n",
      "           2     0.0000    0.0000    0.0000        20\n",
      "           3     0.7480    0.9164    0.8237       813\n",
      "           4     0.4625    0.9620    0.6247       474\n",
      "           5     0.0000    0.0000    0.0000         5\n",
      "           6     0.0000    0.0000    0.0000        14\n",
      "           7     0.0000    0.0000    0.0000         3\n",
      "           8     0.0000    0.0000    0.0000        38\n",
      "           9     1.0000    0.0400    0.0769        25\n",
      "          10     0.0000    0.0000    0.0000        30\n",
      "          11     0.7561    0.3735    0.5000        83\n",
      "          12     0.0000    0.0000    0.0000        13\n",
      "          13     0.0000    0.0000    0.0000        37\n",
      "          14     0.0000    0.0000    0.0000         2\n",
      "          15     0.0000    0.0000    0.0000         9\n",
      "          16     0.7368    0.2828    0.4088        99\n",
      "          17     0.0000    0.0000    0.0000        12\n",
      "          18     0.0000    0.0000    0.0000        20\n",
      "          19     0.6742    0.6692    0.6717       133\n",
      "          20     0.0000    0.0000    0.0000        70\n",
      "          21     0.0000    0.0000    0.0000        27\n",
      "          22     0.0000    0.0000    0.0000         7\n",
      "          23     0.0000    0.0000    0.0000        12\n",
      "          24     0.0000    0.0000    0.0000        19\n",
      "          25     0.0000    0.0000    0.0000        31\n",
      "          26     0.0000    0.0000    0.0000         8\n",
      "          27     0.0000    0.0000    0.0000         4\n",
      "          28     0.0000    0.0000    0.0000        10\n",
      "          29     0.0000    0.0000    0.0000         4\n",
      "          30     0.0000    0.0000    0.0000        12\n",
      "          31     0.0000    0.0000    0.0000        13\n",
      "          32     0.0000    0.0000    0.0000        10\n",
      "          33     0.0000    0.0000    0.0000         5\n",
      "          34     0.0000    0.0000    0.0000         7\n",
      "          35     0.0000    0.0000    0.0000         6\n",
      "          36     0.0000    0.0000    0.0000        11\n",
      "          37     0.0000    0.0000    0.0000         2\n",
      "          38     0.0000    0.0000    0.0000         3\n",
      "          39     0.0000    0.0000    0.0000         5\n",
      "          40     0.0000    0.0000    0.0000        10\n",
      "          41     0.0000    0.0000    0.0000         8\n",
      "          42     0.0000    0.0000    0.0000         3\n",
      "          43     0.0000    0.0000    0.0000         6\n",
      "          44     0.0000    0.0000    0.0000         5\n",
      "          45     0.0000    0.0000    0.0000         1\n",
      "\n",
      "    accuracy                         0.6193      2246\n",
      "   macro avg     0.1123    0.0790    0.0789      2246\n",
      "weighted avg     0.5167    0.6193    0.5315      2246\n",
      "\n"
     ]
    }
   ],
   "source": [
    "predicted = model20.predict(tfidfv_test20)\n",
    "print(classification_report(y_test20, predicted, zero_division=0, digits=4))"
   ]
  },
  {
   "cell_type": "markdown",
   "id": "2a832168",
   "metadata": {},
   "source": [
    "#### 1-4. vocab_size = None"
   ]
  },
  {
   "cell_type": "code",
   "execution_count": 22,
   "id": "80ad1345",
   "metadata": {},
   "outputs": [
    {
     "data": {
      "text/plain": [
       "MultinomialNB()"
      ]
     },
     "execution_count": 22,
     "metadata": {},
     "output_type": "execute_result"
    }
   ],
   "source": [
    "modelN = MultinomialNB()\n",
    "modelN.fit(tfidfv_trainN, y_trainN)"
   ]
  },
  {
   "cell_type": "code",
   "execution_count": 37,
   "id": "cbb74381",
   "metadata": {
    "scrolled": true
   },
   "outputs": [
    {
     "name": "stdout",
     "output_type": "stream",
     "text": [
      "              precision    recall  f1-score   support\n",
      "\n",
      "           0     0.0000    0.0000    0.0000        12\n",
      "           1     0.7857    0.2095    0.3308       105\n",
      "           2     0.0000    0.0000    0.0000        20\n",
      "           3     0.7242    0.9237    0.8119       813\n",
      "           4     0.4456    0.9599    0.6087       474\n",
      "           5     0.0000    0.0000    0.0000         5\n",
      "           6     0.0000    0.0000    0.0000        14\n",
      "           7     0.0000    0.0000    0.0000         3\n",
      "           8     0.0000    0.0000    0.0000        38\n",
      "           9     0.0000    0.0000    0.0000        25\n",
      "          10     0.0000    0.0000    0.0000        30\n",
      "          11     0.8000    0.2892    0.4248        83\n",
      "          12     0.0000    0.0000    0.0000        13\n",
      "          13     0.0000    0.0000    0.0000        37\n",
      "          14     0.0000    0.0000    0.0000         2\n",
      "          15     0.0000    0.0000    0.0000         9\n",
      "          16     0.7500    0.1818    0.2927        99\n",
      "          17     0.0000    0.0000    0.0000        12\n",
      "          18     0.0000    0.0000    0.0000        20\n",
      "          19     0.7264    0.5789    0.6444       133\n",
      "          20     0.0000    0.0000    0.0000        70\n",
      "          21     0.0000    0.0000    0.0000        27\n",
      "          22     0.0000    0.0000    0.0000         7\n",
      "          23     0.0000    0.0000    0.0000        12\n",
      "          24     0.0000    0.0000    0.0000        19\n",
      "          25     0.0000    0.0000    0.0000        31\n",
      "          26     0.0000    0.0000    0.0000         8\n",
      "          27     0.0000    0.0000    0.0000         4\n",
      "          28     0.0000    0.0000    0.0000        10\n",
      "          29     0.0000    0.0000    0.0000         4\n",
      "          30     0.0000    0.0000    0.0000        12\n",
      "          31     0.0000    0.0000    0.0000        13\n",
      "          32     0.0000    0.0000    0.0000        10\n",
      "          33     0.0000    0.0000    0.0000         5\n",
      "          34     0.0000    0.0000    0.0000         7\n",
      "          35     0.0000    0.0000    0.0000         6\n",
      "          36     0.0000    0.0000    0.0000        11\n",
      "          37     0.0000    0.0000    0.0000         2\n",
      "          38     0.0000    0.0000    0.0000         3\n",
      "          39     0.0000    0.0000    0.0000         5\n",
      "          40     0.0000    0.0000    0.0000        10\n",
      "          41     0.0000    0.0000    0.0000         8\n",
      "          42     0.0000    0.0000    0.0000         3\n",
      "          43     0.0000    0.0000    0.0000         6\n",
      "          44     0.0000    0.0000    0.0000         5\n",
      "          45     0.0000    0.0000    0.0000         1\n",
      "\n",
      "    accuracy                         0.5997      2246\n",
      "   macro avg     0.0920    0.0683    0.0677      2246\n",
      "weighted avg     0.4986    0.5997    0.5046      2246\n",
      "\n"
     ]
    }
   ],
   "source": [
    "predicted = modelN.predict(tfidfv_testN)\n",
    "print(classification_report(y_testN, predicted, zero_division=0, digits=4))"
   ]
  },
  {
   "cell_type": "markdown",
   "id": "37c6555b",
   "metadata": {},
   "source": [
    "### 2. 보팅"
   ]
  },
  {
   "cell_type": "markdown",
   "id": "bb643680",
   "metadata": {},
   "source": [
    "#### 2-1. vocab_size = 5,000"
   ]
  },
  {
   "cell_type": "code",
   "execution_count": 26,
   "id": "6a4d568a",
   "metadata": {},
   "outputs": [
    {
     "name": "stderr",
     "output_type": "stream",
     "text": [
      "/opt/conda/lib/python3.9/site-packages/sklearn/linear_model/_logistic.py:814: ConvergenceWarning: lbfgs failed to converge (status=1):\n",
      "STOP: TOTAL NO. of ITERATIONS REACHED LIMIT.\n",
      "\n",
      "Increase the number of iterations (max_iter) or scale the data as shown in:\n",
      "    https://scikit-learn.org/stable/modules/preprocessing.html\n",
      "Please also refer to the documentation for alternative solver options:\n",
      "    https://scikit-learn.org/stable/modules/linear_model.html#logistic-regression\n",
      "  n_iter_i = _check_optimize_result(\n"
     ]
    },
    {
     "data": {
      "text/plain": [
       "VotingClassifier(estimators=[('lr', LogisticRegression(random_state=1)),\n",
       "                             ('cnb', ComplementNB()),\n",
       "                             ('gbc',\n",
       "                              GradientBoostingClassifier(random_state=0))],\n",
       "                 voting='soft')"
      ]
     },
     "execution_count": 26,
     "metadata": {},
     "output_type": "execute_result"
    }
   ],
   "source": [
    "from sklearn.linear_model import LogisticRegression\n",
    "from sklearn.naive_bayes import ComplementNB\n",
    "from sklearn.ensemble import GradientBoostingClassifier, VotingClassifier\n",
    "\n",
    "clf1 = LogisticRegression(penalty='l2', random_state=1)\n",
    "clf2 = ComplementNB()\n",
    "clf3 = GradientBoostingClassifier(random_state=0)\n",
    "\n",
    "voting5 = VotingClassifier(estimators=[\n",
    "        ('lr', clf1), ('cnb', clf2), ('gbc', clf3)], voting='soft')\n",
    "voting5.fit(tfidfv_train5, y_train5)"
   ]
  },
  {
   "cell_type": "code",
   "execution_count": 38,
   "id": "4cf7317b",
   "metadata": {
    "scrolled": true
   },
   "outputs": [
    {
     "name": "stdout",
     "output_type": "stream",
     "text": [
      "              precision    recall  f1-score   support\n",
      "\n",
      "           0     0.8889    0.6667    0.7619        12\n",
      "           1     0.8085    0.7238    0.7638       105\n",
      "           2     0.7000    0.7000    0.7000        20\n",
      "           3     0.9231    0.9299    0.9265       813\n",
      "           4     0.7624    0.8734    0.8142       474\n",
      "           5     0.1429    0.2000    0.1667         5\n",
      "           6     0.9286    0.9286    0.9286        14\n",
      "           7     0.5000    0.3333    0.4000         3\n",
      "           8     0.7143    0.6579    0.6849        38\n",
      "           9     0.9130    0.8400    0.8750        25\n",
      "          10     0.8667    0.8667    0.8667        30\n",
      "          11     0.6444    0.6988    0.6705        83\n",
      "          12     0.4615    0.4615    0.4615        13\n",
      "          13     0.6216    0.6216    0.6216        37\n",
      "          14     0.0909    0.5000    0.1538         2\n",
      "          15     0.4000    0.2222    0.2857         9\n",
      "          16     0.7745    0.7980    0.7861        99\n",
      "          17     0.3636    0.3333    0.3478        12\n",
      "          18     0.6316    0.6000    0.6154        20\n",
      "          19     0.7478    0.6466    0.6935       133\n",
      "          20     0.6078    0.4429    0.5124        70\n",
      "          21     0.7308    0.7037    0.7170        27\n",
      "          22     0.5000    0.1429    0.2222         7\n",
      "          23     0.3571    0.4167    0.3846        12\n",
      "          24     0.7059    0.6316    0.6667        19\n",
      "          25     0.9600    0.7742    0.8571        31\n",
      "          26     0.7500    0.7500    0.7500         8\n",
      "          27     0.4000    0.5000    0.4444         4\n",
      "          28     0.4286    0.3000    0.3529        10\n",
      "          29     0.2857    0.5000    0.3636         4\n",
      "          30     0.4545    0.4167    0.4348        12\n",
      "          31     0.7500    0.4615    0.5714        13\n",
      "          32     1.0000    0.7000    0.8235        10\n",
      "          33     0.7143    1.0000    0.8333         5\n",
      "          34     1.0000    0.5714    0.7273         7\n",
      "          35     1.0000    0.5000    0.6667         6\n",
      "          36     0.6250    0.4545    0.5263        11\n",
      "          37     0.6667    1.0000    0.8000         2\n",
      "          38     0.5000    0.3333    0.4000         3\n",
      "          39     0.3333    0.2000    0.2500         5\n",
      "          40     0.6000    0.3000    0.4000        10\n",
      "          41     0.5000    0.3750    0.4286         8\n",
      "          42     0.7500    1.0000    0.8571         3\n",
      "          43     0.5000    0.6667    0.5714         6\n",
      "          44     1.0000    0.8000    0.8889         5\n",
      "          45     0.5000    1.0000    0.6667         1\n",
      "\n",
      "    accuracy                         0.7961      2246\n",
      "   macro avg     0.6414    0.5988    0.6009      2246\n",
      "weighted avg     0.7979    0.7961    0.7931      2246\n",
      "\n"
     ]
    }
   ],
   "source": [
    "predicted = voting5.predict(tfidfv_test5)\n",
    "print(classification_report(y_test5, predicted, zero_division=0, digits=4))"
   ]
  },
  {
   "cell_type": "markdown",
   "id": "cd2ff482",
   "metadata": {},
   "source": [
    "#### 2-2. vocab_size = 10,000"
   ]
  },
  {
   "cell_type": "code",
   "execution_count": 28,
   "id": "ac7e9411",
   "metadata": {},
   "outputs": [
    {
     "name": "stderr",
     "output_type": "stream",
     "text": [
      "/opt/conda/lib/python3.9/site-packages/sklearn/linear_model/_logistic.py:814: ConvergenceWarning: lbfgs failed to converge (status=1):\n",
      "STOP: TOTAL NO. of ITERATIONS REACHED LIMIT.\n",
      "\n",
      "Increase the number of iterations (max_iter) or scale the data as shown in:\n",
      "    https://scikit-learn.org/stable/modules/preprocessing.html\n",
      "Please also refer to the documentation for alternative solver options:\n",
      "    https://scikit-learn.org/stable/modules/linear_model.html#logistic-regression\n",
      "  n_iter_i = _check_optimize_result(\n"
     ]
    },
    {
     "data": {
      "text/plain": [
       "VotingClassifier(estimators=[('lr', LogisticRegression(random_state=1)),\n",
       "                             ('cnb', ComplementNB()),\n",
       "                             ('gbc',\n",
       "                              GradientBoostingClassifier(random_state=0))],\n",
       "                 voting='soft')"
      ]
     },
     "execution_count": 28,
     "metadata": {},
     "output_type": "execute_result"
    }
   ],
   "source": [
    "clf1 = LogisticRegression(penalty='l2', random_state=1)\n",
    "clf2 = ComplementNB()\n",
    "clf3 = GradientBoostingClassifier(random_state=0)\n",
    "\n",
    "voting10 = VotingClassifier(estimators=[\n",
    "        ('lr', clf1), ('cnb', clf2), ('gbc', clf3)], voting='soft')\n",
    "voting10.fit(tfidfv_train10, y_train10)"
   ]
  },
  {
   "cell_type": "code",
   "execution_count": 39,
   "id": "59546f4c",
   "metadata": {
    "scrolled": true
   },
   "outputs": [
    {
     "name": "stdout",
     "output_type": "stream",
     "text": [
      "              precision    recall  f1-score   support\n",
      "\n",
      "           0     0.8182    0.7500    0.7826        12\n",
      "           1     0.7600    0.7238    0.7415       105\n",
      "           2     0.7778    0.7000    0.7368        20\n",
      "           3     0.9127    0.9262    0.9194       813\n",
      "           4     0.7772    0.8755    0.8234       474\n",
      "           5     0.0000    0.0000    0.0000         5\n",
      "           6     0.8000    0.8571    0.8276        14\n",
      "           7     1.0000    0.3333    0.5000         3\n",
      "           8     0.6944    0.6579    0.6757        38\n",
      "           9     0.8077    0.8400    0.8235        25\n",
      "          10     0.8966    0.8667    0.8814        30\n",
      "          11     0.6556    0.7108    0.6821        83\n",
      "          12     0.3333    0.4615    0.3871        13\n",
      "          13     0.7059    0.6486    0.6761        37\n",
      "          14     0.1429    0.5000    0.2222         2\n",
      "          15     0.4286    0.3333    0.3750         9\n",
      "          16     0.7812    0.7576    0.7692        99\n",
      "          17     0.3333    0.3333    0.3333        12\n",
      "          18     0.6667    0.5000    0.5714        20\n",
      "          19     0.7077    0.6917    0.6996       133\n",
      "          20     0.7174    0.4714    0.5690        70\n",
      "          21     0.7097    0.8148    0.7586        27\n",
      "          22     1.0000    0.1429    0.2500         7\n",
      "          23     0.5385    0.5833    0.5600        12\n",
      "          24     0.6316    0.6316    0.6316        19\n",
      "          25     0.9474    0.5806    0.7200        31\n",
      "          26     0.7500    0.7500    0.7500         8\n",
      "          27     0.5000    0.5000    0.5000         4\n",
      "          28     0.4286    0.3000    0.3529        10\n",
      "          29     0.2500    0.7500    0.3750         4\n",
      "          30     0.5000    0.4167    0.4545        12\n",
      "          31     0.8333    0.3846    0.5263        13\n",
      "          32     1.0000    0.9000    0.9474        10\n",
      "          33     0.7500    0.6000    0.6667         5\n",
      "          34     1.0000    0.5714    0.7273         7\n",
      "          35     1.0000    0.6667    0.8000         6\n",
      "          36     0.6250    0.4545    0.5263        11\n",
      "          37     0.6667    1.0000    0.8000         2\n",
      "          38     0.5000    0.3333    0.4000         3\n",
      "          39     0.6667    0.4000    0.5000         5\n",
      "          40     0.5000    0.1000    0.1667        10\n",
      "          41     0.6250    0.6250    0.6250         8\n",
      "          42     0.6667    0.6667    0.6667         3\n",
      "          43     0.6667    0.6667    0.6667         6\n",
      "          44     0.6667    0.8000    0.7273         5\n",
      "          45     0.3333    1.0000    0.5000         1\n",
      "\n",
      "    accuracy                         0.7970      2246\n",
      "   macro avg     0.6625    0.5995    0.5999      2246\n",
      "weighted avg     0.7991    0.7970    0.7924      2246\n",
      "\n"
     ]
    }
   ],
   "source": [
    "predicted = voting10.predict(tfidfv_test10)\n",
    "print(classification_report(y_test10, predicted, zero_division=0, digits=4))"
   ]
  },
  {
   "cell_type": "markdown",
   "id": "2184b00e",
   "metadata": {},
   "source": [
    "#### 2-3. vocab_size = 20,000"
   ]
  },
  {
   "cell_type": "code",
   "execution_count": 30,
   "id": "2fbfc8dd",
   "metadata": {},
   "outputs": [
    {
     "name": "stderr",
     "output_type": "stream",
     "text": [
      "/opt/conda/lib/python3.9/site-packages/sklearn/linear_model/_logistic.py:814: ConvergenceWarning: lbfgs failed to converge (status=1):\n",
      "STOP: TOTAL NO. of ITERATIONS REACHED LIMIT.\n",
      "\n",
      "Increase the number of iterations (max_iter) or scale the data as shown in:\n",
      "    https://scikit-learn.org/stable/modules/preprocessing.html\n",
      "Please also refer to the documentation for alternative solver options:\n",
      "    https://scikit-learn.org/stable/modules/linear_model.html#logistic-regression\n",
      "  n_iter_i = _check_optimize_result(\n"
     ]
    },
    {
     "data": {
      "text/plain": [
       "VotingClassifier(estimators=[('lr', LogisticRegression(random_state=1)),\n",
       "                             ('cnb', ComplementNB()),\n",
       "                             ('gbc',\n",
       "                              GradientBoostingClassifier(random_state=0))],\n",
       "                 voting='soft')"
      ]
     },
     "execution_count": 30,
     "metadata": {},
     "output_type": "execute_result"
    }
   ],
   "source": [
    "clf1 = LogisticRegression(penalty='l2', random_state=1)\n",
    "clf2 = ComplementNB()\n",
    "clf3 = GradientBoostingClassifier(random_state=0)\n",
    "\n",
    "voting20 = VotingClassifier(estimators=[\n",
    "        ('lr', clf1), ('cnb', clf2), ('gbc', clf3)], voting='soft')\n",
    "voting20.fit(tfidfv_train20, y_train20)"
   ]
  },
  {
   "cell_type": "code",
   "execution_count": 40,
   "id": "272fef88",
   "metadata": {
    "scrolled": true
   },
   "outputs": [
    {
     "name": "stdout",
     "output_type": "stream",
     "text": [
      "              precision    recall  f1-score   support\n",
      "\n",
      "           0     0.8000    0.6667    0.7273        12\n",
      "           1     0.7723    0.7429    0.7573       105\n",
      "           2     0.6818    0.7500    0.7143        20\n",
      "           3     0.9020    0.9287    0.9152       813\n",
      "           4     0.7721    0.8861    0.8251       474\n",
      "           5     0.5000    0.2000    0.2857         5\n",
      "           6     0.9091    0.7143    0.8000        14\n",
      "           7     0.2500    0.3333    0.2857         3\n",
      "           8     0.7027    0.6842    0.6933        38\n",
      "           9     0.9524    0.8000    0.8696        25\n",
      "          10     0.8333    0.8333    0.8333        30\n",
      "          11     0.6897    0.7229    0.7059        83\n",
      "          12     0.5000    0.4615    0.4800        13\n",
      "          13     0.6452    0.5405    0.5882        37\n",
      "          14     0.1429    0.5000    0.2222         2\n",
      "          15     0.3750    0.3333    0.3529         9\n",
      "          16     0.7579    0.7273    0.7423        99\n",
      "          17     0.6250    0.4167    0.5000        12\n",
      "          18     0.7143    0.5000    0.5882        20\n",
      "          19     0.7540    0.7143    0.7336       133\n",
      "          20     0.7500    0.4714    0.5789        70\n",
      "          21     0.6923    0.6667    0.6792        27\n",
      "          22     0.3333    0.1429    0.2000         7\n",
      "          23     0.6667    0.6667    0.6667        12\n",
      "          24     0.7143    0.5263    0.6061        19\n",
      "          25     0.8750    0.6774    0.7636        31\n",
      "          26     0.7500    0.7500    0.7500         8\n",
      "          27     1.0000    0.5000    0.6667         4\n",
      "          28     0.4000    0.2000    0.2667        10\n",
      "          29     0.3750    0.7500    0.5000         4\n",
      "          30     0.4545    0.4167    0.4348        12\n",
      "          31     0.6667    0.4615    0.5455        13\n",
      "          32     1.0000    0.8000    0.8889        10\n",
      "          33     0.7143    1.0000    0.8333         5\n",
      "          34     1.0000    0.5714    0.7273         7\n",
      "          35     0.3333    0.1667    0.2222         6\n",
      "          36     0.5000    0.5455    0.5217        11\n",
      "          37     0.5000    1.0000    0.6667         2\n",
      "          38     0.5000    0.3333    0.4000         3\n",
      "          39     0.6667    0.4000    0.5000         5\n",
      "          40     1.0000    0.4000    0.5714        10\n",
      "          41     0.5000    0.6250    0.5556         8\n",
      "          42     1.0000    0.6667    0.8000         3\n",
      "          43     0.7500    0.5000    0.6000         6\n",
      "          44     0.5714    0.8000    0.6667         5\n",
      "          45     0.3333    1.0000    0.5000         1\n",
      "\n",
      "    accuracy                         0.7988      2246\n",
      "   macro avg     0.6593    0.5977    0.6029      2246\n",
      "weighted avg     0.7987    0.7988    0.7937      2246\n",
      "\n"
     ]
    }
   ],
   "source": [
    "predicted = voting20.predict(tfidfv_test20)\n",
    "print(classification_report(y_test20, predicted, zero_division=0, digits=4))"
   ]
  },
  {
   "cell_type": "markdown",
   "id": "0b271e5d",
   "metadata": {},
   "source": [
    "#### 2-4. vocab_size = None"
   ]
  },
  {
   "cell_type": "code",
   "execution_count": 32,
   "id": "a2ab45bd",
   "metadata": {},
   "outputs": [
    {
     "name": "stderr",
     "output_type": "stream",
     "text": [
      "/opt/conda/lib/python3.9/site-packages/sklearn/linear_model/_logistic.py:814: ConvergenceWarning: lbfgs failed to converge (status=1):\n",
      "STOP: TOTAL NO. of ITERATIONS REACHED LIMIT.\n",
      "\n",
      "Increase the number of iterations (max_iter) or scale the data as shown in:\n",
      "    https://scikit-learn.org/stable/modules/preprocessing.html\n",
      "Please also refer to the documentation for alternative solver options:\n",
      "    https://scikit-learn.org/stable/modules/linear_model.html#logistic-regression\n",
      "  n_iter_i = _check_optimize_result(\n"
     ]
    },
    {
     "data": {
      "text/plain": [
       "VotingClassifier(estimators=[('lr', LogisticRegression(random_state=1)),\n",
       "                             ('cnb', ComplementNB()),\n",
       "                             ('gbc',\n",
       "                              GradientBoostingClassifier(random_state=0))],\n",
       "                 voting='soft')"
      ]
     },
     "execution_count": 32,
     "metadata": {},
     "output_type": "execute_result"
    }
   ],
   "source": [
    "clf1 = LogisticRegression(penalty='l2', random_state=1)\n",
    "clf2 = ComplementNB()\n",
    "clf3 = GradientBoostingClassifier(random_state=0)\n",
    "\n",
    "votingN = VotingClassifier(estimators=[\n",
    "        ('lr', clf1), ('cnb', clf2), ('gbc', clf3)], voting='soft')\n",
    "votingN.fit(tfidfv_trainN, y_trainN)"
   ]
  },
  {
   "cell_type": "code",
   "execution_count": 41,
   "id": "fe76db09",
   "metadata": {
    "scrolled": true
   },
   "outputs": [
    {
     "name": "stdout",
     "output_type": "stream",
     "text": [
      "              precision    recall  f1-score   support\n",
      "\n",
      "           0     0.6364    0.5833    0.6087        12\n",
      "           1     0.8039    0.7810    0.7923       105\n",
      "           2     0.6667    0.7000    0.6829        20\n",
      "           3     0.9076    0.9299    0.9186       813\n",
      "           4     0.7823    0.8945    0.8346       474\n",
      "           5     1.0000    0.2000    0.3333         5\n",
      "           6     0.7692    0.7143    0.7407        14\n",
      "           7     1.0000    0.3333    0.5000         3\n",
      "           8     0.6667    0.6842    0.6753        38\n",
      "           9     0.9524    0.8000    0.8696        25\n",
      "          10     0.8276    0.8000    0.8136        30\n",
      "          11     0.6782    0.7108    0.6941        83\n",
      "          12     0.5000    0.4615    0.4800        13\n",
      "          13     0.6471    0.5946    0.6197        37\n",
      "          14     0.0000    0.0000    0.0000         2\n",
      "          15     0.2500    0.1111    0.1538         9\n",
      "          16     0.7579    0.7273    0.7423        99\n",
      "          17     0.8333    0.4167    0.5556        12\n",
      "          18     0.6250    0.5000    0.5556        20\n",
      "          19     0.7541    0.6917    0.7216       133\n",
      "          20     0.7442    0.4571    0.5664        70\n",
      "          21     0.6429    0.6667    0.6545        27\n",
      "          22     0.3333    0.1429    0.2000         7\n",
      "          23     0.6154    0.6667    0.6400        12\n",
      "          24     0.6923    0.4737    0.5625        19\n",
      "          25     0.8750    0.6774    0.7636        31\n",
      "          26     1.0000    1.0000    1.0000         8\n",
      "          27     0.3333    0.5000    0.4000         4\n",
      "          28     0.2857    0.2000    0.2353        10\n",
      "          29     0.5000    0.7500    0.6000         4\n",
      "          30     0.3571    0.4167    0.3846        12\n",
      "          31     0.5833    0.5385    0.5600        13\n",
      "          32     1.0000    1.0000    1.0000        10\n",
      "          33     0.8333    1.0000    0.9091         5\n",
      "          34     0.8000    0.5714    0.6667         7\n",
      "          35     0.3333    0.1667    0.2222         6\n",
      "          36     0.5385    0.6364    0.5833        11\n",
      "          37     0.5000    1.0000    0.6667         2\n",
      "          38     0.5000    0.3333    0.4000         3\n",
      "          39     0.3333    0.2000    0.2500         5\n",
      "          40     0.7500    0.3000    0.4286        10\n",
      "          41     0.6250    0.6250    0.6250         8\n",
      "          42     1.0000    0.6667    0.8000         3\n",
      "          43     0.5000    0.5000    0.5000         6\n",
      "          44     0.8000    0.8000    0.8000         5\n",
      "          45     0.5000    1.0000    0.6667         1\n",
      "\n",
      "    accuracy                         0.8001      2246\n",
      "   macro avg     0.6529    0.5853    0.5952      2246\n",
      "weighted avg     0.7987    0.8001    0.7945      2246\n",
      "\n"
     ]
    }
   ],
   "source": [
    "predicted = votingN.predict(tfidfv_testN)\n",
    "print(classification_report(y_testN, predicted, zero_division=0, digits=4))"
   ]
  },
  {
   "cell_type": "markdown",
   "id": "3e63749a",
   "metadata": {},
   "source": [
    "### RNN 모델 실험"
   ]
  },
  {
   "cell_type": "code",
   "execution_count": 42,
   "id": "0ed13f52",
   "metadata": {},
   "outputs": [
    {
     "name": "stdout",
     "output_type": "stream",
     "text": [
      "훈련용 뉴스의 최대 길이 :2376\n",
      "훈련용 뉴스의 평균 길이 :145.5398574927633\n"
     ]
    },
    {
     "data": {
      "image/png": "[encoded data removed]",
      "text/plain": [
       "<Figure size 432x288 with 1 Axes>"
      ]
     },
     "metadata": {
      "needs_background": "light"
     },
     "output_type": "display_data"
    }
   ],
   "source": [
    "print('훈련용 뉴스의 최대 길이 :{}'.format(max(len(l) for l in x_train5)))\n",
    "print('훈련용 뉴스의 평균 길이 :{}'.format(sum(map(len, x_train5))/len(x_train5)))\n",
    "\n",
    "plt.hist([len(s) for s in x_train5], bins=50)\n",
    "plt.xlabel('length of samples')\n",
    "plt.ylabel('number of samples')\n",
    "plt.show()"
   ]
  },
  {
   "cell_type": "code",
   "execution_count": 43,
   "id": "76409fe2",
   "metadata": {},
   "outputs": [],
   "source": [
    "from tensorflow.keras.preprocessing.sequence import pad_sequences\n",
    "\n",
    "max_len = 500\n",
    "\n",
    "x_train5 = pad_sequences(x_train5, maxlen=max_len)\n",
    "x_test5 = pad_sequences(x_test5, maxlen=max_len)\n",
    "\n",
    "x_train10 = pad_sequences(x_train10, maxlen=max_len)\n",
    "x_test10 = pad_sequences(x_test10, maxlen=max_len)\n",
    "\n",
    "x_train20 = pad_sequences(x_train20, maxlen=max_len)\n",
    "x_test20 = pad_sequences(x_test20, maxlen=max_len)\n",
    "\n",
    "x_trainN = pad_sequences(x_trainN, maxlen=max_len)\n",
    "x_testN = pad_sequences(x_testN, maxlen=max_len)\n"
   ]
  },
  {
   "cell_type": "code",
   "execution_count": 44,
   "id": "2ae8c368",
   "metadata": {},
   "outputs": [
    {
     "name": "stdout",
     "output_type": "stream",
     "text": [
      "클래스의 수 : 46\n"
     ]
    }
   ],
   "source": [
    "num_classes = max(y_train5) + 1\n",
    "print('클래스의 수 : {}'.format(num_classes))"
   ]
  },
  {
   "cell_type": "markdown",
   "id": "3f663006",
   "metadata": {},
   "source": [
    "#### 1. vocab_size = 5,000"
   ]
  },
  {
   "cell_type": "code",
   "execution_count": 45,
   "id": "25d192d3",
   "metadata": {},
   "outputs": [
    {
     "name": "stdout",
     "output_type": "stream",
     "text": [
      "Epoch 1/5\n",
      "225/225 [==============================] - 108s 395ms/step - loss: 2.4018 - accuracy: 0.3723 - val_loss: 2.2243 - val_accuracy: 0.4146\n",
      "Epoch 2/5\n",
      "225/225 [==============================] - 88s 393ms/step - loss: 2.1414 - accuracy: 0.4405 - val_loss: 2.3586 - val_accuracy: 0.3478\n",
      "Epoch 3/5\n",
      "225/225 [==============================] - 88s 393ms/step - loss: 2.0947 - accuracy: 0.4721 - val_loss: 2.2156 - val_accuracy: 0.4168\n",
      "Epoch 4/5\n",
      "225/225 [==============================] - 88s 393ms/step - loss: 1.8120 - accuracy: 0.5459 - val_loss: 2.1961 - val_accuracy: 0.4391\n",
      "Epoch 5/5\n",
      "225/225 [==============================] - 88s 392ms/step - loss: 1.5101 - accuracy: 0.6317 - val_loss: 2.3348 - val_accuracy: 0.4385\n"
     ]
    },
    {
     "data": {
      "text/plain": [
       "<keras.callbacks.History at 0x74f88307e310>"
      ]
     },
     "execution_count": 45,
     "metadata": {},
     "output_type": "execute_result"
    }
   ],
   "source": [
    "from tensorflow.keras.models import Sequential\n",
    "from tensorflow.keras.layers import Embedding, SimpleRNN, Dense\n",
    "\n",
    "num_classes = 46\n",
    "epochs = 5\n",
    "batch_size = 32\n",
    "\n",
    "input_dim = 5000\n",
    "\n",
    "rnn5 = Sequential([\n",
    "    Embedding(input_dim=input_dim, output_dim=128, input_length=max_len),\n",
    "    SimpleRNN(units=128),\n",
    "    Dense(num_classes, activation='softmax')\n",
    "])\n",
    "\n",
    "rnn5.compile(loss='sparse_categorical_crossentropy', optimizer='adam', metrics=['accuracy'])\n",
    "rnn5.fit(x_train5, y_train5, epochs=epochs, batch_size=batch_size, validation_split=0.2)"
   ]
  },
  {
   "cell_type": "code",
   "execution_count": 47,
   "id": "40cc1029",
   "metadata": {
    "scrolled": true
   },
   "outputs": [
    {
     "name": "stdout",
     "output_type": "stream",
     "text": [
      "              precision    recall  f1-score   support\n",
      "\n",
      "           0     0.0000    0.0000    0.0000        12\n",
      "           1     0.2500    0.2095    0.2280       105\n",
      "           2     0.0000    0.0000    0.0000        20\n",
      "           3     0.6196    0.7872    0.6934       813\n",
      "           4     0.3603    0.6013    0.4506       474\n",
      "           5     0.0000    0.0000    0.0000         5\n",
      "           6     0.0000    0.0000    0.0000        14\n",
      "           7     0.0000    0.0000    0.0000         3\n",
      "           8     0.6667    0.0526    0.0976        38\n",
      "           9     0.0000    0.0000    0.0000        25\n",
      "          10     0.2857    0.0667    0.1081        30\n",
      "          11     0.2239    0.1807    0.2000        83\n",
      "          12     0.0000    0.0000    0.0000        13\n",
      "          13     0.0000    0.0000    0.0000        37\n",
      "          14     0.0000    0.0000    0.0000         2\n",
      "          15     0.0000    0.0000    0.0000         9\n",
      "          16     0.1190    0.1010    0.1093        99\n",
      "          17     0.0000    0.0000    0.0000        12\n",
      "          18     0.0000    0.0000    0.0000        20\n",
      "          19     0.3000    0.3383    0.3180       133\n",
      "          20     0.2273    0.0714    0.1087        70\n",
      "          21     0.0000    0.0000    0.0000        27\n",
      "          22     0.0000    0.0000    0.0000         7\n",
      "          23     0.0000    0.0000    0.0000        12\n",
      "          24     0.0000    0.0000    0.0000        19\n",
      "          25     0.0000    0.0000    0.0000        31\n",
      "          26     0.0000    0.0000    0.0000         8\n",
      "          27     0.0000    0.0000    0.0000         4\n",
      "          28     0.0000    0.0000    0.0000        10\n",
      "          29     0.0000    0.0000    0.0000         4\n",
      "          30     0.0000    0.0000    0.0000        12\n",
      "          31     0.0000    0.0000    0.0000        13\n",
      "          32     0.0000    0.0000    0.0000        10\n",
      "          33     0.0000    0.0000    0.0000         5\n",
      "          34     0.0000    0.0000    0.0000         7\n",
      "          35     0.0000    0.0000    0.0000         6\n",
      "          36     0.0000    0.0000    0.0000        11\n",
      "          37     0.0000    0.0000    0.0000         2\n",
      "          38     0.0000    0.0000    0.0000         3\n",
      "          39     0.0000    0.0000    0.0000         5\n",
      "          40     0.0000    0.0000    0.0000        10\n",
      "          41     0.0000    0.0000    0.0000         8\n",
      "          42     0.0000    0.0000    0.0000         3\n",
      "          43     0.0000    0.0000    0.0000         6\n",
      "          44     0.0000    0.0000    0.0000         5\n",
      "          45     0.0000    0.0000    0.0000         1\n",
      "\n",
      "    accuracy                         0.4568      2246\n",
      "   macro avg     0.0664    0.0524    0.0503      2246\n",
      "weighted avg     0.3655    0.4568    0.3943      2246\n",
      "\n"
     ]
    }
   ],
   "source": [
    "pred_probs = rnn5.predict(x_test5)\n",
    "predicted = np.argmax(pred_probs, axis=1)\n",
    "\n",
    "print(classification_report(y_test5, predicted, zero_division=0, digits=4))"
   ]
  },
  {
   "cell_type": "markdown",
   "id": "69db6e44",
   "metadata": {},
   "source": [
    "#### 2. vocab_size = 10,000"
   ]
  },
  {
   "cell_type": "code",
   "execution_count": 48,
   "id": "03d73496",
   "metadata": {},
   "outputs": [
    {
     "name": "stdout",
     "output_type": "stream",
     "text": [
      "Epoch 1/5\n",
      "225/225 [==============================] - 89s 393ms/step - loss: 2.3837 - accuracy: 0.3846 - val_loss: 2.2143 - val_accuracy: 0.4151\n",
      "Epoch 2/5\n",
      "225/225 [==============================] - 88s 392ms/step - loss: 1.9967 - accuracy: 0.4971 - val_loss: 2.0935 - val_accuracy: 0.4341\n",
      "Epoch 3/5\n",
      "225/225 [==============================] - 88s 391ms/step - loss: 1.5404 - accuracy: 0.6237 - val_loss: 2.2973 - val_accuracy: 0.4073\n",
      "Epoch 4/5\n",
      "225/225 [==============================] - 87s 388ms/step - loss: 1.0947 - accuracy: 0.7294 - val_loss: 2.2644 - val_accuracy: 0.4435\n",
      "Epoch 5/5\n",
      "225/225 [==============================] - 87s 387ms/step - loss: 0.7635 - accuracy: 0.8154 - val_loss: 2.4804 - val_accuracy: 0.4457\n"
     ]
    },
    {
     "data": {
      "text/plain": [
       "<keras.callbacks.History at 0x74f881df8d60>"
      ]
     },
     "execution_count": 48,
     "metadata": {},
     "output_type": "execute_result"
    }
   ],
   "source": [
    "input_dim = 10000\n",
    "\n",
    "rnn10 = Sequential([\n",
    "    Embedding(input_dim=input_dim, output_dim=128, input_length=max_len),\n",
    "    SimpleRNN(units=128),\n",
    "    Dense(num_classes, activation='softmax')\n",
    "])\n",
    "\n",
    "rnn10.compile(loss='sparse_categorical_crossentropy', optimizer='adam', metrics=['accuracy'])\n",
    "rnn10.fit(x_train10, y_train10, epochs=epochs, batch_size=batch_size, validation_split=0.2)"
   ]
  },
  {
   "cell_type": "code",
   "execution_count": 49,
   "id": "285f49ed",
   "metadata": {
    "scrolled": true
   },
   "outputs": [
    {
     "name": "stdout",
     "output_type": "stream",
     "text": [
      "              precision    recall  f1-score   support\n",
      "\n",
      "           0     0.0000    0.0000    0.0000        12\n",
      "           1     0.1901    0.2571    0.2186       105\n",
      "           2     0.0000    0.0000    0.0000        20\n",
      "           3     0.6857    0.7700    0.7254       813\n",
      "           4     0.4678    0.4747    0.4712       474\n",
      "           5     0.0000    0.0000    0.0000         5\n",
      "           6     1.0000    0.1429    0.2500        14\n",
      "           7     0.0000    0.0000    0.0000         3\n",
      "           8     0.2759    0.2105    0.2388        38\n",
      "           9     0.1000    0.0800    0.0889        25\n",
      "          10     0.0741    0.0667    0.0702        30\n",
      "          11     0.1507    0.2651    0.1921        83\n",
      "          12     0.5000    0.1538    0.2353        13\n",
      "          13     0.1250    0.1081    0.1159        37\n",
      "          14     0.0000    0.0000    0.0000         2\n",
      "          15     0.0000    0.0000    0.0000         9\n",
      "          16     0.1739    0.2020    0.1869        99\n",
      "          17     0.0000    0.0000    0.0000        12\n",
      "          18     0.0625    0.0500    0.0556        20\n",
      "          19     0.2655    0.3534    0.3032       133\n",
      "          20     0.1346    0.2000    0.1609        70\n",
      "          21     0.0000    0.0000    0.0000        27\n",
      "          22     0.0000    0.0000    0.0000         7\n",
      "          23     0.0000    0.0000    0.0000        12\n",
      "          24     0.0000    0.0000    0.0000        19\n",
      "          25     0.4167    0.1613    0.2326        31\n",
      "          26     0.0000    0.0000    0.0000         8\n",
      "          27     0.0000    0.0000    0.0000         4\n",
      "          28     0.0000    0.0000    0.0000        10\n",
      "          29     0.0000    0.0000    0.0000         4\n",
      "          30     0.0000    0.0000    0.0000        12\n",
      "          31     0.0000    0.0000    0.0000        13\n",
      "          32     0.0000    0.0000    0.0000        10\n",
      "          33     0.0000    0.0000    0.0000         5\n",
      "          34     0.0000    0.0000    0.0000         7\n",
      "          35     0.0000    0.0000    0.0000         6\n",
      "          36     0.5000    0.1818    0.2667        11\n",
      "          37     0.0000    0.0000    0.0000         2\n",
      "          38     0.0000    0.0000    0.0000         3\n",
      "          39     0.0000    0.0000    0.0000         5\n",
      "          40     0.0000    0.0000    0.0000        10\n",
      "          41     0.0000    0.0000    0.0000         8\n",
      "          42     0.0000    0.0000    0.0000         3\n",
      "          43     0.0000    0.0000    0.0000         6\n",
      "          44     1.0000    0.8000    0.8889         5\n",
      "          45     0.0000    0.0000    0.0000         1\n",
      "\n",
      "    accuracy                         0.4510      2246\n",
      "   macro avg     0.1331    0.0973    0.1022      2246\n",
      "weighted avg     0.4179    0.4510    0.4283      2246\n",
      "\n"
     ]
    }
   ],
   "source": [
    "pred_probs = rnn10.predict(x_test10)\n",
    "predicted = np.argmax(pred_probs, axis=1)\n",
    "\n",
    "print(classification_report(y_test10, predicted, zero_division=0, digits=4))"
   ]
  },
  {
   "cell_type": "markdown",
   "id": "1e7ee5ae",
   "metadata": {},
   "source": [
    "#### 3. vocab_size = 20,000"
   ]
  },
  {
   "cell_type": "code",
   "execution_count": 50,
   "id": "9816ca75",
   "metadata": {},
   "outputs": [
    {
     "name": "stdout",
     "output_type": "stream",
     "text": [
      "Epoch 1/5\n",
      "225/225 [==============================] - 87s 384ms/step - loss: 2.3494 - accuracy: 0.3809 - val_loss: 2.1787 - val_accuracy: 0.4268\n",
      "Epoch 2/5\n",
      "225/225 [==============================] - 86s 383ms/step - loss: 1.9125 - accuracy: 0.5100 - val_loss: 2.2095 - val_accuracy: 0.4174\n",
      "Epoch 3/5\n",
      "225/225 [==============================] - 87s 387ms/step - loss: 1.3814 - accuracy: 0.6578 - val_loss: 2.4575 - val_accuracy: 0.3784\n",
      "Epoch 4/5\n",
      "225/225 [==============================] - 86s 383ms/step - loss: 0.9227 - accuracy: 0.7749 - val_loss: 2.4082 - val_accuracy: 0.4313\n",
      "Epoch 5/5\n",
      "225/225 [==============================] - 86s 383ms/step - loss: 0.6162 - accuracy: 0.8498 - val_loss: 2.6365 - val_accuracy: 0.4368\n"
     ]
    },
    {
     "data": {
      "text/plain": [
       "<keras.callbacks.History at 0x74f8835df5e0>"
      ]
     },
     "execution_count": 50,
     "metadata": {},
     "output_type": "execute_result"
    }
   ],
   "source": [
    "input_dim = 20000\n",
    "\n",
    "rnn20 = Sequential([\n",
    "    Embedding(input_dim=input_dim, output_dim=128, input_length=max_len),\n",
    "    SimpleRNN(units=128),\n",
    "    Dense(num_classes, activation='softmax')\n",
    "])\n",
    "\n",
    "rnn20.compile(loss='sparse_categorical_crossentropy', optimizer='adam', metrics=['accuracy'])\n",
    "rnn20.fit(x_train20, y_train20, epochs=epochs, batch_size=batch_size, validation_split=0.2)"
   ]
  },
  {
   "cell_type": "code",
   "execution_count": 51,
   "id": "a2185895",
   "metadata": {
    "scrolled": true
   },
   "outputs": [
    {
     "name": "stdout",
     "output_type": "stream",
     "text": [
      "              precision    recall  f1-score   support\n",
      "\n",
      "           0     0.0000    0.0000    0.0000        12\n",
      "           1     0.2033    0.2381    0.2193       105\n",
      "           2     0.0000    0.0000    0.0000        20\n",
      "           3     0.6833    0.7749    0.7262       813\n",
      "           4     0.4316    0.4325    0.4320       474\n",
      "           5     0.0000    0.0000    0.0000         5\n",
      "           6     0.2500    0.0714    0.1111        14\n",
      "           7     1.0000    0.3333    0.5000         3\n",
      "           8     0.2353    0.1053    0.1455        38\n",
      "           9     0.0800    0.0800    0.0800        25\n",
      "          10     0.0690    0.0667    0.0678        30\n",
      "          11     0.1610    0.2289    0.1891        83\n",
      "          12     0.0000    0.0000    0.0000        13\n",
      "          13     0.0625    0.1081    0.0792        37\n",
      "          14     0.0000    0.0000    0.0000         2\n",
      "          15     0.0000    0.0000    0.0000         9\n",
      "          16     0.1240    0.1616    0.1404        99\n",
      "          17     0.0000    0.0000    0.0000        12\n",
      "          18     0.1429    0.0500    0.0741        20\n",
      "          19     0.2824    0.3609    0.3168       133\n",
      "          20     0.2037    0.1571    0.1774        70\n",
      "          21     0.0789    0.1111    0.0923        27\n",
      "          22     0.0000    0.0000    0.0000         7\n",
      "          23     0.2000    0.0833    0.1176        12\n",
      "          24     0.0000    0.0000    0.0000        19\n",
      "          25     0.2778    0.1613    0.2041        31\n",
      "          26     0.0000    0.0000    0.0000         8\n",
      "          27     0.0000    0.0000    0.0000         4\n",
      "          28     0.0000    0.0000    0.0000        10\n",
      "          29     0.0000    0.0000    0.0000         4\n",
      "          30     0.0000    0.0000    0.0000        12\n",
      "          31     0.0000    0.0000    0.0000        13\n",
      "          32     0.0000    0.0000    0.0000        10\n",
      "          33     0.0000    0.0000    0.0000         5\n",
      "          34     0.0000    0.0000    0.0000         7\n",
      "          35     0.0000    0.0000    0.0000         6\n",
      "          36     0.2222    0.1818    0.2000        11\n",
      "          37     0.0000    0.0000    0.0000         2\n",
      "          38     0.0000    0.0000    0.0000         3\n",
      "          39     0.0000    0.0000    0.0000         5\n",
      "          40     1.0000    0.1000    0.1818        10\n",
      "          41     0.0000    0.0000    0.0000         8\n",
      "          42     0.0000    0.0000    0.0000         3\n",
      "          43     0.0000    0.0000    0.0000         6\n",
      "          44     1.0000    0.2000    0.3333         5\n",
      "          45     0.0000    0.0000    0.0000         1\n",
      "\n",
      "    accuracy                         0.4372      2246\n",
      "   macro avg     0.1458    0.0871    0.0954      2246\n",
      "weighted avg     0.4070    0.4372    0.4164      2246\n",
      "\n"
     ]
    }
   ],
   "source": [
    "pred_probs = rnn20.predict(x_test20)\n",
    "predicted = np.argmax(pred_probs, axis=1)\n",
    "\n",
    "print(classification_report(y_test20, predicted, zero_division=0, digits=4))"
   ]
  },
  {
   "cell_type": "markdown",
   "id": "9c994b7e",
   "metadata": {},
   "source": [
    "#### 4. vocab_size = None"
   ]
  },
  {
   "cell_type": "code",
   "execution_count": 52,
   "id": "9bcd46d5",
   "metadata": {},
   "outputs": [
    {
     "name": "stdout",
     "output_type": "stream",
     "text": [
      "Epoch 1/5\n",
      "225/225 [==============================] - 87s 383ms/step - loss: 2.3669 - accuracy: 0.3755 - val_loss: 2.1567 - val_accuracy: 0.4157\n",
      "Epoch 2/5\n",
      "225/225 [==============================] - 86s 381ms/step - loss: 2.3445 - accuracy: 0.3978 - val_loss: 2.4315 - val_accuracy: 0.3472\n",
      "Epoch 3/5\n",
      "225/225 [==============================] - 88s 389ms/step - loss: 2.3752 - accuracy: 0.3581 - val_loss: 2.3354 - val_accuracy: 0.3450\n",
      "Epoch 4/5\n",
      "225/225 [==============================] - 87s 388ms/step - loss: 2.2980 - accuracy: 0.4032 - val_loss: 3.5678 - val_accuracy: 0.0267\n",
      "Epoch 5/5\n",
      "225/225 [==============================] - 87s 389ms/step - loss: 2.5363 - accuracy: 0.3374 - val_loss: 2.4236 - val_accuracy: 0.3467\n"
     ]
    },
    {
     "data": {
      "text/plain": [
       "<keras.callbacks.History at 0x74f8825823a0>"
      ]
     },
     "execution_count": 52,
     "metadata": {},
     "output_type": "execute_result"
    }
   ],
   "source": [
    "# 전체 단어 인덱스를 가져와서 input_dim 계산\n",
    "word_index = reuters.get_word_index()\n",
    "max_index = max(word_index.values())\n",
    "\n",
    "input_dim = max_index + 1  # 보통 +1 해줘야 index 오류 방지\n",
    "\n",
    "rnnN = Sequential([\n",
    "    Embedding(input_dim=input_dim, output_dim=128, input_length=max_len),\n",
    "    SimpleRNN(units=128),\n",
    "    Dense(num_classes, activation='softmax')\n",
    "])\n",
    "\n",
    "rnnN.compile(loss='sparse_categorical_crossentropy', optimizer='adam', metrics=['accuracy'])\n",
    "rnnN.fit(x_trainN, y_trainN, epochs=epochs, batch_size=batch_size, validation_split=0.2)"
   ]
  },
  {
   "cell_type": "code",
   "execution_count": 53,
   "id": "5e2ff73b",
   "metadata": {
    "scrolled": true
   },
   "outputs": [
    {
     "name": "stdout",
     "output_type": "stream",
     "text": [
      "              precision    recall  f1-score   support\n",
      "\n",
      "           0     0.0000    0.0000    0.0000        12\n",
      "           1     0.0000    0.0000    0.0000       105\n",
      "           2     0.0000    0.0000    0.0000        20\n",
      "           3     0.3680    0.9975    0.5376       813\n",
      "           4     0.0000    0.0000    0.0000       474\n",
      "           5     0.0000    0.0000    0.0000         5\n",
      "           6     0.0000    0.0000    0.0000        14\n",
      "           7     0.0000    0.0000    0.0000         3\n",
      "           8     0.0000    0.0000    0.0000        38\n",
      "           9     0.0000    0.0000    0.0000        25\n",
      "          10     0.0000    0.0000    0.0000        30\n",
      "          11     0.0000    0.0000    0.0000        83\n",
      "          12     0.0000    0.0000    0.0000        13\n",
      "          13     0.0000    0.0000    0.0000        37\n",
      "          14     0.0000    0.0000    0.0000         2\n",
      "          15     0.0000    0.0000    0.0000         9\n",
      "          16     0.2500    0.0202    0.0374        99\n",
      "          17     0.0000    0.0000    0.0000        12\n",
      "          18     0.0000    0.0000    0.0000        20\n",
      "          19     0.0000    0.0000    0.0000       133\n",
      "          20     0.0000    0.0000    0.0000        70\n",
      "          21     0.0000    0.0000    0.0000        27\n",
      "          22     0.0000    0.0000    0.0000         7\n",
      "          23     0.0000    0.0000    0.0000        12\n",
      "          24     0.0000    0.0000    0.0000        19\n",
      "          25     0.0000    0.0000    0.0000        31\n",
      "          26     0.0000    0.0000    0.0000         8\n",
      "          27     0.0000    0.0000    0.0000         4\n",
      "          28     0.0000    0.0000    0.0000        10\n",
      "          29     0.0000    0.0000    0.0000         4\n",
      "          30     0.0000    0.0000    0.0000        12\n",
      "          31     0.0000    0.0000    0.0000        13\n",
      "          32     0.0000    0.0000    0.0000        10\n",
      "          33     0.0000    0.0000    0.0000         5\n",
      "          34     0.0000    0.0000    0.0000         7\n",
      "          35     0.0000    0.0000    0.0000         6\n",
      "          36     0.0000    0.0000    0.0000        11\n",
      "          37     0.0000    0.0000    0.0000         2\n",
      "          38     0.0000    0.0000    0.0000         3\n",
      "          39     0.0000    0.0000    0.0000         5\n",
      "          40     0.0000    0.0000    0.0000        10\n",
      "          41     0.0000    0.0000    0.0000         8\n",
      "          42     0.0000    0.0000    0.0000         3\n",
      "          43     0.0000    0.0000    0.0000         6\n",
      "          44     0.0000    0.0000    0.0000         5\n",
      "          45     0.0000    0.0000    0.0000         1\n",
      "\n",
      "    accuracy                         0.3620      2246\n",
      "   macro avg     0.0134    0.0221    0.0125      2246\n",
      "weighted avg     0.1442    0.3620    0.1963      2246\n",
      "\n"
     ]
    }
   ],
   "source": [
    "pred_probs = rnnN.predict(x_testN)\n",
    "predicted = np.argmax(pred_probs, axis=1)\n",
    "\n",
    "print(classification_report(y_testN, predicted, zero_division=0, digits=4))"
   ]
  },
  {
   "cell_type": "markdown",
   "id": "aec185ae",
   "metadata": {},
   "source": [
    "### MLP 모델 실험"
   ]
  },
  {
   "cell_type": "markdown",
   "id": "819edc0c",
   "metadata": {},
   "source": [
    "#### 1. vocab_size = 5,000"
   ]
  },
  {
   "cell_type": "code",
   "execution_count": 54,
   "id": "de809a36",
   "metadata": {},
   "outputs": [
    {
     "name": "stdout",
     "output_type": "stream",
     "text": [
      "Epoch 1/20\n",
      "113/113 [==============================] - 1s 6ms/step - loss: 2.1334 - accuracy: 0.5170 - val_loss: 1.3530 - val_accuracy: 0.7001\n",
      "Epoch 2/20\n",
      "113/113 [==============================] - 0s 3ms/step - loss: 1.1494 - accuracy: 0.7321 - val_loss: 1.0487 - val_accuracy: 0.7674\n",
      "Epoch 3/20\n",
      "113/113 [==============================] - 0s 3ms/step - loss: 0.8399 - accuracy: 0.8060 - val_loss: 0.9178 - val_accuracy: 0.7919\n",
      "Epoch 4/20\n",
      "113/113 [==============================] - 0s 3ms/step - loss: 0.6262 - accuracy: 0.8511 - val_loss: 0.8445 - val_accuracy: 0.8086\n",
      "Epoch 5/20\n",
      "113/113 [==============================] - 0s 3ms/step - loss: 0.4702 - accuracy: 0.8860 - val_loss: 0.8181 - val_accuracy: 0.8175\n",
      "Epoch 6/20\n",
      "113/113 [==============================] - 0s 3ms/step - loss: 0.3536 - accuracy: 0.9141 - val_loss: 0.8177 - val_accuracy: 0.8236\n",
      "Epoch 7/20\n",
      "113/113 [==============================] - 0s 3ms/step - loss: 0.2675 - accuracy: 0.9312 - val_loss: 0.8483 - val_accuracy: 0.8197\n",
      "Epoch 8/20\n",
      "113/113 [==============================] - 0s 3ms/step - loss: 0.2210 - accuracy: 0.9446 - val_loss: 0.8743 - val_accuracy: 0.8191\n",
      "Epoch 9/20\n",
      "113/113 [==============================] - 0s 3ms/step - loss: 0.1841 - accuracy: 0.9499 - val_loss: 0.9133 - val_accuracy: 0.8197\n"
     ]
    },
    {
     "data": {
      "text/plain": [
       "<keras.callbacks.History at 0x74f882878e20>"
      ]
     },
     "execution_count": 54,
     "metadata": {},
     "output_type": "execute_result"
    }
   ],
   "source": [
    "from tensorflow.keras.models import Sequential\n",
    "from tensorflow.keras.layers import Dense, Dropout\n",
    "from tensorflow.keras.optimizers import Adam\n",
    "from tensorflow.keras.callbacks import EarlyStopping\n",
    "from sklearn.preprocessing import LabelEncoder\n",
    "\n",
    "# TF-IDF 입력 shape\n",
    "input_dim = tfidfv_train5.shape[1]\n",
    "num_classes = len(set(y_train5))\n",
    "\n",
    "# 모델 정의\n",
    "model = Sequential([\n",
    "    Dense(256, input_dim=input_dim, activation='relu'),\n",
    "    Dropout(0.3),\n",
    "    Dense(128, activation='relu'),\n",
    "    Dropout(0.3),\n",
    "    Dense(num_classes, activation='softmax')\n",
    "])\n",
    "\n",
    "# 컴파일\n",
    "model.compile(\n",
    "    loss='sparse_categorical_crossentropy',\n",
    "    optimizer=Adam(learning_rate=1e-3),\n",
    "    metrics=['accuracy']\n",
    ")\n",
    "\n",
    "# 학습\n",
    "early_stop = EarlyStopping(patience=3, restore_best_weights=True)\n",
    "\n",
    "model.fit(\n",
    "    tfidfv_train5.toarray(),  # TF-IDF가 sparse이면 toarray() 필요\n",
    "    y_train5,\n",
    "    epochs=20,\n",
    "    batch_size=64,\n",
    "    validation_split=0.2,\n",
    "    callbacks=[early_stop],\n",
    "    verbose=1\n",
    ")"
   ]
  },
  {
   "cell_type": "code",
   "execution_count": 55,
   "id": "c21e2770",
   "metadata": {
    "scrolled": true
   },
   "outputs": [
    {
     "name": "stdout",
     "output_type": "stream",
     "text": [
      "              precision    recall  f1-score   support\n",
      "\n",
      "           0     0.8889    0.6667    0.7619        12\n",
      "           1     0.7083    0.8095    0.7556       105\n",
      "           2     0.7857    0.5500    0.6471        20\n",
      "           3     0.9153    0.9299    0.9225       813\n",
      "           4     0.7951    0.8840    0.8372       474\n",
      "           5     0.0000    0.0000    0.0000         5\n",
      "           6     0.8462    0.7857    0.8148        14\n",
      "           7     1.0000    0.3333    0.5000         3\n",
      "           8     0.6316    0.6316    0.6316        38\n",
      "           9     0.8077    0.8400    0.8235        25\n",
      "          10     0.9310    0.9000    0.9153        30\n",
      "          11     0.6702    0.7590    0.7119        83\n",
      "          12     0.6667    0.1538    0.2500        13\n",
      "          13     0.6250    0.6757    0.6494        37\n",
      "          14     1.0000    0.5000    0.6667         2\n",
      "          15     0.5000    0.1111    0.1818         9\n",
      "          16     0.6909    0.7677    0.7273        99\n",
      "          17     1.0000    0.3333    0.5000        12\n",
      "          18     0.5909    0.6500    0.6190        20\n",
      "          19     0.6573    0.7068    0.6812       133\n",
      "          20     0.6462    0.6000    0.6222        70\n",
      "          21     0.5946    0.8148    0.6875        27\n",
      "          22     0.0000    0.0000    0.0000         7\n",
      "          23     0.7778    0.5833    0.6667        12\n",
      "          24     0.6471    0.5789    0.6111        19\n",
      "          25     0.8000    0.6452    0.7143        31\n",
      "          26     0.8750    0.8750    0.8750         8\n",
      "          27     0.0000    0.0000    0.0000         4\n",
      "          28     0.3750    0.3000    0.3333        10\n",
      "          29     0.0000    0.0000    0.0000         4\n",
      "          30     0.6250    0.4167    0.5000        12\n",
      "          31     0.7273    0.6154    0.6667        13\n",
      "          32     1.0000    0.7000    0.8235        10\n",
      "          33     1.0000    0.4000    0.5714         5\n",
      "          34     0.8000    0.5714    0.6667         7\n",
      "          35     1.0000    0.1667    0.2857         6\n",
      "          36     0.6667    0.5455    0.6000        11\n",
      "          37     0.0000    0.0000    0.0000         2\n",
      "          38     1.0000    0.3333    0.5000         3\n",
      "          39     0.0000    0.0000    0.0000         5\n",
      "          40     0.0000    0.0000    0.0000        10\n",
      "          41     0.7500    0.3750    0.5000         8\n",
      "          42     1.0000    0.3333    0.5000         3\n",
      "          43     1.0000    0.1667    0.2857         6\n",
      "          44     1.0000    0.8000    0.8889         5\n",
      "          45     1.0000    1.0000    1.0000         1\n",
      "\n",
      "    accuracy                         0.8005      2246\n",
      "   macro avg     0.6738    0.4959    0.5412      2246\n",
      "weighted avg     0.7906    0.8005    0.7883      2246\n",
      "\n"
     ]
    }
   ],
   "source": [
    "y_pred = np.argmax(model.predict(tfidfv_test5.toarray()), axis=1)\n",
    "print(classification_report(y_test5, y_pred, zero_division=0, digits=4))"
   ]
  },
  {
   "cell_type": "markdown",
   "id": "42e2b21e",
   "metadata": {},
   "source": [
    "#### 2. vocab_size = 10,000"
   ]
  },
  {
   "cell_type": "code",
   "execution_count": 56,
   "id": "02a994a7",
   "metadata": {},
   "outputs": [
    {
     "name": "stdout",
     "output_type": "stream",
     "text": [
      "Epoch 1/20\n",
      "113/113 [==============================] - 1s 7ms/step - loss: 2.1220 - accuracy: 0.5108 - val_loss: 1.3585 - val_accuracy: 0.7001\n",
      "Epoch 2/20\n",
      "113/113 [==============================] - 0s 4ms/step - loss: 1.1346 - accuracy: 0.7402 - val_loss: 1.0298 - val_accuracy: 0.7735\n",
      "Epoch 3/20\n",
      "113/113 [==============================] - 0s 4ms/step - loss: 0.7658 - accuracy: 0.8241 - val_loss: 0.9002 - val_accuracy: 0.7969\n",
      "Epoch 4/20\n",
      "113/113 [==============================] - 0s 4ms/step - loss: 0.5327 - accuracy: 0.8736 - val_loss: 0.8530 - val_accuracy: 0.8086\n",
      "Epoch 5/20\n",
      "113/113 [==============================] - 0s 4ms/step - loss: 0.3837 - accuracy: 0.9086 - val_loss: 0.8556 - val_accuracy: 0.8119\n",
      "Epoch 6/20\n",
      "113/113 [==============================] - 0s 4ms/step - loss: 0.2781 - accuracy: 0.9324 - val_loss: 0.8557 - val_accuracy: 0.8164\n",
      "Epoch 7/20\n",
      "113/113 [==============================] - 0s 4ms/step - loss: 0.2250 - accuracy: 0.9427 - val_loss: 0.8625 - val_accuracy: 0.8197\n"
     ]
    },
    {
     "data": {
      "text/plain": [
       "<keras.callbacks.History at 0x74f88091e610>"
      ]
     },
     "execution_count": 56,
     "metadata": {},
     "output_type": "execute_result"
    }
   ],
   "source": [
    "# TF-IDF 입력 shape\n",
    "input_dim = tfidfv_train10.shape[1]\n",
    "num_classes = len(set(y_train10))\n",
    "\n",
    "# 모델 정의\n",
    "model = Sequential([\n",
    "    Dense(256, input_dim=input_dim, activation='relu'),\n",
    "    Dropout(0.3),\n",
    "    Dense(128, activation='relu'),\n",
    "    Dropout(0.3),\n",
    "    Dense(num_classes, activation='softmax')\n",
    "])\n",
    "\n",
    "# 컴파일\n",
    "model.compile(\n",
    "    loss='sparse_categorical_crossentropy',\n",
    "    optimizer=Adam(learning_rate=1e-3),\n",
    "    metrics=['accuracy']\n",
    ")\n",
    "\n",
    "# 학습\n",
    "early_stop = EarlyStopping(patience=3, restore_best_weights=True)\n",
    "\n",
    "model.fit(\n",
    "    tfidfv_train10.toarray(),  # TF-IDF가 sparse이면 toarray() 필요\n",
    "    y_train10,\n",
    "    epochs=20,\n",
    "    batch_size=64,\n",
    "    validation_split=0.2,\n",
    "    callbacks=[early_stop],\n",
    "    verbose=1\n",
    ")"
   ]
  },
  {
   "cell_type": "code",
   "execution_count": 57,
   "id": "d0620f27",
   "metadata": {
    "scrolled": true
   },
   "outputs": [
    {
     "name": "stdout",
     "output_type": "stream",
     "text": [
      "              precision    recall  f1-score   support\n",
      "\n",
      "           0     0.8889    0.6667    0.7619        12\n",
      "           1     0.6593    0.8476    0.7417       105\n",
      "           2     0.5000    0.6000    0.5455        20\n",
      "           3     0.9145    0.9471    0.9305       813\n",
      "           4     0.8180    0.8819    0.8487       474\n",
      "           5     0.0000    0.0000    0.0000         5\n",
      "           6     0.9167    0.7857    0.8462        14\n",
      "           7     1.0000    0.3333    0.5000         3\n",
      "           8     0.6667    0.7368    0.7000        38\n",
      "           9     0.8400    0.8400    0.8400        25\n",
      "          10     0.8710    0.9000    0.8852        30\n",
      "          11     0.6842    0.7831    0.7303        83\n",
      "          12     0.7500    0.2308    0.3529        13\n",
      "          13     0.5349    0.6216    0.5750        37\n",
      "          14     0.0000    0.0000    0.0000         2\n",
      "          15     0.0000    0.0000    0.0000         9\n",
      "          16     0.5643    0.7980    0.6611        99\n",
      "          17     1.0000    0.0833    0.1538        12\n",
      "          18     0.4444    0.6000    0.5106        20\n",
      "          19     0.7209    0.6992    0.7099       133\n",
      "          20     0.6667    0.6000    0.6316        70\n",
      "          21     0.6765    0.8519    0.7541        27\n",
      "          22     0.0000    0.0000    0.0000         7\n",
      "          23     0.8000    0.3333    0.4706        12\n",
      "          24     0.7000    0.3684    0.4828        19\n",
      "          25     0.8077    0.6774    0.7368        31\n",
      "          26     0.0000    0.0000    0.0000         8\n",
      "          27     0.0000    0.0000    0.0000         4\n",
      "          28     0.3333    0.4000    0.3636        10\n",
      "          29     0.0000    0.0000    0.0000         4\n",
      "          30     0.6667    0.1667    0.2667        12\n",
      "          31     1.0000    0.2308    0.3750        13\n",
      "          32     0.7778    0.7000    0.7368        10\n",
      "          33     0.0000    0.0000    0.0000         5\n",
      "          34     0.7143    0.7143    0.7143         7\n",
      "          35     0.0000    0.0000    0.0000         6\n",
      "          36     0.5000    0.0909    0.1538        11\n",
      "          37     0.0000    0.0000    0.0000         2\n",
      "          38     0.0000    0.0000    0.0000         3\n",
      "          39     0.0000    0.0000    0.0000         5\n",
      "          40     0.0000    0.0000    0.0000        10\n",
      "          41     1.0000    0.1250    0.2222         8\n",
      "          42     0.0000    0.0000    0.0000         3\n",
      "          43     0.0000    0.0000    0.0000         6\n",
      "          44     0.0000    0.0000    0.0000         5\n",
      "          45     0.0000    0.0000    0.0000         1\n",
      "\n",
      "    accuracy                         0.7930      2246\n",
      "   macro avg     0.4656    0.3612    0.3740      2246\n",
      "weighted avg     0.7711    0.7930    0.7713      2246\n",
      "\n"
     ]
    }
   ],
   "source": [
    "y_pred = np.argmax(model.predict(tfidfv_test10.toarray()), axis=1)\n",
    "print(classification_report(y_test10, y_pred, zero_division=0, digits=4))"
   ]
  },
  {
   "cell_type": "markdown",
   "id": "c1b53ae7",
   "metadata": {},
   "source": [
    "#### 3. vocab_size = 20,000"
   ]
  },
  {
   "cell_type": "code",
   "execution_count": 59,
   "id": "a781ea32",
   "metadata": {},
   "outputs": [
    {
     "name": "stdout",
     "output_type": "stream",
     "text": [
      "Epoch 1/20\n",
      "113/113 [==============================] - 1s 9ms/step - loss: 2.1062 - accuracy: 0.5338 - val_loss: 1.3258 - val_accuracy: 0.6989\n",
      "Epoch 2/20\n",
      "113/113 [==============================] - 1s 5ms/step - loss: 1.0841 - accuracy: 0.7460 - val_loss: 1.0306 - val_accuracy: 0.7652\n",
      "Epoch 3/20\n",
      "113/113 [==============================] - 1s 5ms/step - loss: 0.7227 - accuracy: 0.8335 - val_loss: 0.9209 - val_accuracy: 0.7885\n",
      "Epoch 4/20\n",
      "113/113 [==============================] - 1s 5ms/step - loss: 0.4860 - accuracy: 0.8856 - val_loss: 0.8819 - val_accuracy: 0.8063\n",
      "Epoch 5/20\n",
      "113/113 [==============================] - 1s 5ms/step - loss: 0.3434 - accuracy: 0.9196 - val_loss: 0.8691 - val_accuracy: 0.8097\n",
      "Epoch 6/20\n",
      "113/113 [==============================] - 1s 5ms/step - loss: 0.2554 - accuracy: 0.9361 - val_loss: 0.8856 - val_accuracy: 0.8130\n",
      "Epoch 7/20\n",
      "113/113 [==============================] - 1s 5ms/step - loss: 0.1981 - accuracy: 0.9524 - val_loss: 0.8891 - val_accuracy: 0.8125\n",
      "Epoch 8/20\n",
      "113/113 [==============================] - 1s 5ms/step - loss: 0.1717 - accuracy: 0.9556 - val_loss: 0.9149 - val_accuracy: 0.8141\n"
     ]
    },
    {
     "data": {
      "text/plain": [
       "<keras.callbacks.History at 0x74f8804ea070>"
      ]
     },
     "execution_count": 59,
     "metadata": {},
     "output_type": "execute_result"
    }
   ],
   "source": [
    "# TF-IDF 입력 shape\n",
    "input_dim = tfidfv_train20.shape[1]\n",
    "num_classes = len(set(y_train20))\n",
    "\n",
    "# 모델 정의\n",
    "model = Sequential([\n",
    "    Dense(256, input_dim=input_dim, activation='relu'),\n",
    "    Dropout(0.3),\n",
    "    Dense(128, activation='relu'),\n",
    "    Dropout(0.3),\n",
    "    Dense(num_classes, activation='softmax')\n",
    "])\n",
    "\n",
    "# 컴파일\n",
    "model.compile(\n",
    "    loss='sparse_categorical_crossentropy',\n",
    "    optimizer=Adam(learning_rate=1e-3),\n",
    "    metrics=['accuracy']\n",
    ")\n",
    "\n",
    "# 학습\n",
    "early_stop = EarlyStopping(patience=3, restore_best_weights=True)\n",
    "\n",
    "model.fit(\n",
    "    tfidfv_train20.toarray(),  # TF-IDF가 sparse이면 toarray() 필요\n",
    "    y_train20,\n",
    "    epochs=20,\n",
    "    batch_size=64,\n",
    "    validation_split=0.2,\n",
    "    callbacks=[early_stop],\n",
    "    verbose=1\n",
    ")"
   ]
  },
  {
   "cell_type": "code",
   "execution_count": 60,
   "id": "2215e24f",
   "metadata": {
    "scrolled": true
   },
   "outputs": [
    {
     "name": "stdout",
     "output_type": "stream",
     "text": [
      "              precision    recall  f1-score   support\n",
      "\n",
      "           0     0.8889    0.6667    0.7619        12\n",
      "           1     0.7000    0.8000    0.7467       105\n",
      "           2     0.5909    0.6500    0.6190        20\n",
      "           3     0.9167    0.9336    0.9250       813\n",
      "           4     0.8074    0.8755    0.8401       474\n",
      "           5     0.0000    0.0000    0.0000         5\n",
      "           6     0.9167    0.7857    0.8462        14\n",
      "           7     1.0000    0.3333    0.5000         3\n",
      "           8     0.5686    0.7632    0.6517        38\n",
      "           9     0.8462    0.8800    0.8627        25\n",
      "          10     0.9630    0.8667    0.9123        30\n",
      "          11     0.5726    0.8072    0.6700        83\n",
      "          12     1.0000    0.2308    0.3750        13\n",
      "          13     0.5897    0.6216    0.6053        37\n",
      "          14     0.0000    0.0000    0.0000         2\n",
      "          15     0.5000    0.1111    0.1818         9\n",
      "          16     0.6852    0.7475    0.7150        99\n",
      "          17     0.7500    0.2500    0.3750        12\n",
      "          18     0.6190    0.6500    0.6341        20\n",
      "          19     0.6765    0.6917    0.6840       133\n",
      "          20     0.6615    0.6143    0.6370        70\n",
      "          21     0.6486    0.8889    0.7500        27\n",
      "          22     0.0000    0.0000    0.0000         7\n",
      "          23     0.7000    0.5833    0.6364        12\n",
      "          24     0.7857    0.5789    0.6667        19\n",
      "          25     0.8400    0.6774    0.7500        31\n",
      "          26     0.7500    0.3750    0.5000         8\n",
      "          27     1.0000    0.2500    0.4000         4\n",
      "          28     0.4286    0.3000    0.3529        10\n",
      "          29     0.0000    0.0000    0.0000         4\n",
      "          30     0.6667    0.3333    0.4444        12\n",
      "          31     0.8000    0.6154    0.6957        13\n",
      "          32     1.0000    0.7000    0.8235        10\n",
      "          33     1.0000    0.4000    0.5714         5\n",
      "          34     0.8000    0.5714    0.6667         7\n",
      "          35     0.0000    0.0000    0.0000         6\n",
      "          36     0.5000    0.0909    0.1538        11\n",
      "          37     0.0000    0.0000    0.0000         2\n",
      "          38     1.0000    0.3333    0.5000         3\n",
      "          39     0.0000    0.0000    0.0000         5\n",
      "          40     0.0000    0.0000    0.0000        10\n",
      "          41     0.6667    0.2500    0.3636         8\n",
      "          42     0.0000    0.0000    0.0000         3\n",
      "          43     1.0000    0.1667    0.2857         6\n",
      "          44     1.0000    0.8000    0.8889         5\n",
      "          45     1.0000    1.0000    1.0000         1\n",
      "\n",
      "    accuracy                         0.7979      2246\n",
      "   macro avg     0.6269    0.4607    0.4998      2246\n",
      "weighted avg     0.7880    0.7979    0.7843      2246\n",
      "\n"
     ]
    }
   ],
   "source": [
    "y_pred = np.argmax(model.predict(tfidfv_test20.toarray()), axis=1)\n",
    "print(classification_report(y_test20, y_pred, zero_division=0, digits=4))"
   ]
  },
  {
   "cell_type": "markdown",
   "id": "859d271a",
   "metadata": {},
   "source": [
    "#### 4. vocab_size = None"
   ]
  },
  {
   "cell_type": "code",
   "execution_count": 61,
   "id": "0e4eef49",
   "metadata": {},
   "outputs": [
    {
     "name": "stdout",
     "output_type": "stream",
     "text": [
      "Epoch 1/20\n",
      "113/113 [==============================] - 2s 12ms/step - loss: 2.0929 - accuracy: 0.5251 - val_loss: 1.3315 - val_accuracy: 0.7001\n",
      "Epoch 2/20\n",
      "113/113 [==============================] - 1s 6ms/step - loss: 1.0899 - accuracy: 0.7445 - val_loss: 1.0382 - val_accuracy: 0.7730\n",
      "Epoch 3/20\n",
      "113/113 [==============================] - 1s 6ms/step - loss: 0.7127 - accuracy: 0.8337 - val_loss: 0.9118 - val_accuracy: 0.7991\n",
      "Epoch 4/20\n",
      "113/113 [==============================] - 1s 6ms/step - loss: 0.4751 - accuracy: 0.8859 - val_loss: 0.8764 - val_accuracy: 0.8091\n",
      "Epoch 5/20\n",
      "113/113 [==============================] - 1s 6ms/step - loss: 0.3376 - accuracy: 0.9186 - val_loss: 0.8833 - val_accuracy: 0.8075\n",
      "Epoch 6/20\n",
      "113/113 [==============================] - 1s 6ms/step - loss: 0.2453 - accuracy: 0.9400 - val_loss: 0.8951 - val_accuracy: 0.8091\n",
      "Epoch 7/20\n",
      "113/113 [==============================] - 1s 6ms/step - loss: 0.1883 - accuracy: 0.9539 - val_loss: 0.9247 - val_accuracy: 0.8058\n"
     ]
    },
    {
     "data": {
      "text/plain": [
       "<keras.callbacks.History at 0x74f8837ca6d0>"
      ]
     },
     "execution_count": 61,
     "metadata": {},
     "output_type": "execute_result"
    }
   ],
   "source": [
    "# TF-IDF 입력 shape\n",
    "input_dim = tfidfv_trainN.shape[1]\n",
    "num_classes = len(set(y_trainN))\n",
    "\n",
    "# 모델 정의\n",
    "model = Sequential([\n",
    "    Dense(256, input_dim=input_dim, activation='relu'),\n",
    "    Dropout(0.3),\n",
    "    Dense(128, activation='relu'),\n",
    "    Dropout(0.3),\n",
    "    Dense(num_classes, activation='softmax')\n",
    "])\n",
    "\n",
    "# 컴파일\n",
    "model.compile(\n",
    "    loss='sparse_categorical_crossentropy',\n",
    "    optimizer=Adam(learning_rate=1e-3),\n",
    "    metrics=['accuracy']\n",
    ")\n",
    "\n",
    "# 학습\n",
    "early_stop = EarlyStopping(patience=3, restore_best_weights=True)\n",
    "\n",
    "model.fit(\n",
    "    tfidfv_trainN.toarray(),  # TF-IDF가 sparse이면 toarray() 필요\n",
    "    y_trainN,\n",
    "    epochs=20,\n",
    "    batch_size=64,\n",
    "    validation_split=0.2,\n",
    "    callbacks=[early_stop],\n",
    "    verbose=1\n",
    ")"
   ]
  },
  {
   "cell_type": "code",
   "execution_count": 62,
   "id": "9401860a",
   "metadata": {
    "scrolled": true
   },
   "outputs": [
    {
     "name": "stdout",
     "output_type": "stream",
     "text": [
      "              precision    recall  f1-score   support\n",
      "\n",
      "           0     0.7273    0.6667    0.6957        12\n",
      "           1     0.6800    0.8095    0.7391       105\n",
      "           2     0.7500    0.6000    0.6667        20\n",
      "           3     0.8965    0.9483    0.9217       813\n",
      "           4     0.8211    0.8713    0.8454       474\n",
      "           5     0.0000    0.0000    0.0000         5\n",
      "           6     0.6667    0.8571    0.7500        14\n",
      "           7     1.0000    0.3333    0.5000         3\n",
      "           8     0.5870    0.7105    0.6429        38\n",
      "           9     0.8077    0.8400    0.8235        25\n",
      "          10     0.9310    0.9000    0.9153        30\n",
      "          11     0.6038    0.7711    0.6772        83\n",
      "          12     1.0000    0.2308    0.3750        13\n",
      "          13     0.5641    0.5946    0.5789        37\n",
      "          14     0.0000    0.0000    0.0000         2\n",
      "          15     1.0000    0.1111    0.2000         9\n",
      "          16     0.6466    0.7576    0.6977        99\n",
      "          17     1.0000    0.1667    0.2857        12\n",
      "          18     0.4286    0.6000    0.5000        20\n",
      "          19     0.6316    0.7218    0.6737       133\n",
      "          20     0.7037    0.5429    0.6129        70\n",
      "          21     0.6765    0.8519    0.7541        27\n",
      "          22     0.0000    0.0000    0.0000         7\n",
      "          23     0.6667    0.3333    0.4444        12\n",
      "          24     0.6250    0.2632    0.3704        19\n",
      "          25     0.8400    0.6774    0.7500        31\n",
      "          26     1.0000    0.2500    0.4000         8\n",
      "          27     0.0000    0.0000    0.0000         4\n",
      "          28     0.4000    0.2000    0.2667        10\n",
      "          29     0.0000    0.0000    0.0000         4\n",
      "          30     1.0000    0.1667    0.2857        12\n",
      "          31     1.0000    0.3077    0.4706        13\n",
      "          32     1.0000    0.7000    0.8235        10\n",
      "          33     0.0000    0.0000    0.0000         5\n",
      "          34     0.5556    0.7143    0.6250         7\n",
      "          35     0.0000    0.0000    0.0000         6\n",
      "          36     0.5000    0.1818    0.2667        11\n",
      "          37     0.0000    0.0000    0.0000         2\n",
      "          38     0.0000    0.0000    0.0000         3\n",
      "          39     0.0000    0.0000    0.0000         5\n",
      "          40     0.0000    0.0000    0.0000        10\n",
      "          41     0.5000    0.1250    0.2000         8\n",
      "          42     0.0000    0.0000    0.0000         3\n",
      "          43     0.0000    0.0000    0.0000         6\n",
      "          44     1.0000    0.4000    0.5714         5\n",
      "          45     0.0000    0.0000    0.0000         1\n",
      "\n",
      "    accuracy                         0.7881      2246\n",
      "   macro avg     0.5263    0.3740    0.3985      2246\n",
      "weighted avg     0.7731    0.7881    0.7678      2246\n",
      "\n"
     ]
    }
   ],
   "source": [
    "y_pred = np.argmax(model.predict(tfidfv_testN.toarray()), axis=1)\n",
    "print(classification_report(y_testN, y_pred, zero_division=0, digits=4))"
   ]
  },
  {
   "cell_type": "markdown",
   "id": "b76d48bd",
   "metadata": {},
   "source": [
    "## 결과 정리\n",
    "- 팀 내에서 분석한 다른 기계학습 모델과 위에서 직접 확인한 모델의 성능을 정리한 표이다."
   ]
  },
  {
   "cell_type": "markdown",
   "id": "f3e6498f",
   "metadata": {},
   "source": [
    "| 모델             | num_words = 5000    | num_words = 10000   | num_words = 20000   | num_words = None    |\n",
    "|:-----------------|:--------------------|:--------------------|:--------------------|:--------------------|\n",
    "| 나이브 베이즈 | macro F1: 0.1102<br>weighted F1: 0.6013<br>accuracy: 0.6732 | macro F1: 0.0967<br>weighted F1: 0.5764<br>accuracy: 0.6567 | macro F1: 0.0789<br>weighted F1: 0.5315<br>accuracy: 0.6193 | macro F1: 0.0677<br>weighted F1: 0.5046<br>accuracy: 0.5997 |\n",
    "| 서포트 벡터 머신 | macro F1: 0.6823<br>weighted F1: 0.8322<br>accuracy: 0.8388 | macro F1: 0.6820<br>weighted F1: 0.8315<br>accuracy: 0.8384 | macro F1: 0.6756<br>weighted F1: 0.8316<br>accuracy: 0.8388 | macro F1: 0.6788<br>weighted F1: 0.8319<br>accuracy: 0.8393 |\n",
    "| 로지스틱 | macro F1: 0.4814<br>weighted F1: 0.7762<br>accuracy: 0.7979 | macro F1: 0.4721<br>weighted F1: 0.7732<br>accuracy: 0.7956 | macro F1: 0.4516<br>weighted F1: 0.7671<br>accuracy: 0.7916 | macro F1: 0.4514<br>weighted F1: 0.7670<br>accuracy: 0.7916 |\n",
    "| CNB | macro F1: 0.4820<br>weighted F1: 0.7459<br>accuracy: 0.7707 | macro F1: 0.4784<br>weighted F1: 0.7457<br>accuracy: 0.7707 | macro F1: 0.4632<br>weighted F1: 0.7391<br>accuracy: 0.7671 | macro F1: 0.4640<br>weighted F1: 0.7347<br>accuracy: 0.7649 |\n",
    "| 그래디언트 부스팅 트리 | macro F1: 0.5914<br>weighted F1: 0.7688<br>accuracy: 0.7703 | macro F1: 0.5803<br>weighted F1: 0.7699<br>accuracy: 0.7743 | macro F1: 0.5842<br>weighted F1: 0.7649<br>accuracy: 0.7694 | macro F1: 0.5665<br>weighted F1: 0.7648<br>accuracy: 0.7676 |\n",
    "| 랜덤 포레스트 | macro F1: 0.4470<br>weighted F1: 0.7418<br>accuracy: 0.7640 | macro F1: 0.4292<br>weighted F1: 0.7295<br>accuracy: 0.7538 | macro F1: 0.3793<br>weighted F1: 0.7074<br>accuracy: 0.7355 | macro F1: 0.4066<br>weighted F1: 0.7195<br>accuracy: 0.7458 |\n",
    "| 결정 트리 | macro F1: 0.4473<br>weighted F1: 0.6883<br>accuracy: 0.6928 | macro F1: 0.4546<br>weighted F1: 0.6880<br>accuracy: 0.6915 | macro F1: 0.4609<br>weighted F1: 0.6923<br>accuracy: 0.6963 | macro F1: 0.4512<br>weighted F1: 0.7041<br>accuracy: 0.7079 |\n",
    "| 보팅 | macro F1: 0.6009<br>weighted F1: 0.7931<br>accuracy: 0.7961 | macro F1: 0.5999<br>weighted F1: 0.7924<br>accuracy: 0.7970 | macro F1: 0.6029<br>weighted F1: 0.7937<br>accuracy: 0.7988 | macro F1: 0.5952<br>weighted F1: 0.7945<br>accuracy: 0.8001 |\n",
    "| RNN | macro F1: 0.0503<br>weighted F1: 0.3943<br>accuracy: 0.4568 | macro F1: 0.1022<br>weighted F1: 0.4283<br>accuracy: 0.4510 | macro F1: 0.0954<br>weighted F1: 0.4164<br>accuracy: 0.4372 | macro F1: 0.0125<br>weighted F1: 0.1963<br>accuracy: 0.3620 |\n",
    "| MLP | macro F1: 0.5412<br>weighted F1: 0.7883<br>accuracy: 0.8005 | macro F1: 0.3940<br>weighted F1: 0.7713<br>accuracy: 0.7930 | macro F1: 0.4998<br>weighted F1: 0.7843<br>accuracy: 0.7979 | macro F1: 0.3985<br>weighted F1: 0.7678<br>accuracy: 0.7881 |"
   ]
  },
  {
   "cell_type": "code",
   "execution_count": 74,
   "id": "65beb13b",
   "metadata": {},
   "outputs": [
    {
     "data": {
      "image/png": "[encoded data removed]",
      "text/plain": [
       "<Figure size 864x432 with 1 Axes>"
      ]
     },
     "metadata": {},
     "output_type": "display_data"
    }
   ],
   "source": [
    "import pandas as pd\n",
    "import matplotlib.pyplot as plt\n",
    "import seaborn as sns\n",
    "\n",
    "# Load the CSV file\n",
    "df = pd.read_csv(\"./news_category_classification.csv\")\n",
    "\n",
    "# Filter only macro F1 rows\n",
    "macro_f1_df = df[df[\"metric\"] == \"macro F1\"]\n",
    "\n",
    "# Set style\n",
    "sns.set(style=\"whitegrid\")\n",
    "\n",
    "# Plot grouped bar chart\n",
    "plt.figure(figsize=(12, 6))\n",
    "ax = sns.barplot(\n",
    "    data=macro_f1_df,\n",
    "    x=\"Model\", y=\"score\", hue=\"num_words\",\n",
    "    palette=\"tab10\"\n",
    ")\n",
    "\n",
    "# Aesthetic adjustments\n",
    "plt.title(\"Macro F1 Score by Model and num_words\")\n",
    "plt.ylabel(\"Macro F1 Score\")\n",
    "plt.xticks(rotation=45, ha=\"right\")\n",
    "plt.legend(\n",
    "    title=\"num_words\",\n",
    "    bbox_to_anchor=(1.05, 1),  # 오른쪽 바깥\n",
    "    loc='upper left',          # 왼쪽 위 정렬\n",
    "    borderaxespad=0.\n",
    ")\n",
    "plt.tight_layout()\n",
    "plt.show()"
   ]
  },
  {
   "cell_type": "code",
   "execution_count": 73,
   "id": "d2bc2117",
   "metadata": {},
   "outputs": [
    {
     "data": {
      "image/png": "[encoded data removed]",
      "text/plain": [
       "<Figure size 864x432 with 1 Axes>"
      ]
     },
     "metadata": {},
     "output_type": "display_data"
    }
   ],
   "source": [
    "# Filter only macro F1 rows\n",
    "macro_f1_df = df[df[\"metric\"] == \"weighted F1\"]\n",
    "\n",
    "# Set style\n",
    "sns.set(style=\"whitegrid\")\n",
    "\n",
    "# Plot grouped bar chart\n",
    "plt.figure(figsize=(12, 6))\n",
    "ax = sns.barplot(\n",
    "    data=macro_f1_df,\n",
    "    x=\"Model\", y=\"score\", hue=\"num_words\",\n",
    "    palette=\"tab10\"\n",
    ")\n",
    "\n",
    "# Aesthetic adjustments\n",
    "plt.title(\"Weighted F1 Score by Model and num_words\")\n",
    "plt.ylabel(\"Weighted F1 Score\")\n",
    "plt.xticks(rotation=45, ha=\"right\")\n",
    "plt.legend(\n",
    "    title=\"num_words\",\n",
    "    bbox_to_anchor=(1.05, 1),  # 오른쪽 바깥\n",
    "    loc='upper left',          # 왼쪽 위 정렬\n",
    "    borderaxespad=0.\n",
    ")\n",
    "plt.tight_layout()\n",
    "plt.show()"
   ]
  },
  {
   "cell_type": "code",
   "execution_count": 72,
   "id": "9922ac55",
   "metadata": {},
   "outputs": [
    {
     "data": {
      "image/png": "[encoded data removed]",
      "text/plain": [
       "<Figure size 864x432 with 1 Axes>"
      ]
     },
     "metadata": {},
     "output_type": "display_data"
    }
   ],
   "source": [
    "# Filter only macro F1 rows\n",
    "macro_f1_df = df[df[\"metric\"] == \"accuracy\"]\n",
    "\n",
    "# Set style\n",
    "sns.set(style=\"whitegrid\")\n",
    "\n",
    "# Plot grouped bar chart\n",
    "plt.figure(figsize=(12, 6))\n",
    "ax = sns.barplot(\n",
    "    data=macro_f1_df,\n",
    "    x=\"Model\", y=\"score\", hue=\"num_words\",\n",
    "    palette=\"tab10\"\n",
    ")\n",
    "\n",
    "# Aesthetic adjustments\n",
    "plt.title(\"Accuracy Score by Model and num_words\")\n",
    "plt.ylabel(\"Accuracy Score\")\n",
    "plt.xticks(rotation=45, ha=\"right\")\n",
    "plt.legend(\n",
    "    title=\"num_words\",\n",
    "    bbox_to_anchor=(1.05, 1),  # 오른쪽 바깥\n",
    "    loc='upper left',          # 왼쪽 위 정렬\n",
    "    borderaxespad=0.\n",
    ")\n",
    "plt.tight_layout()\n",
    "plt.show()"
   ]
  },
  {
   "cell_type": "markdown",
   "id": "8a9abb34",
   "metadata": {},
   "source": [
    "- 기계학습 모델 중에서는 나이브 베이즈 분류기가 가장 낮은 성능을 보였다.\n",
    "    - 이는 나이브 베이즈가 단어 간의 조건부 독립성을 가정하는 단순한 확률 기반 모델이기 때문에, 복잡한 패턴이나 단어 간 상호작용을 반영하기 어렵다는 한계 때문이다.\n",
    "    - 특히 다양한 문맥 정보가 중요한 뉴스 분류 과제에서는 이 같은 단순화된 가정이 모델 성능을 떨어뜨리는 요인이 된다.\n",
    "\n",
    "- 반면, SVM(Support Vector Machine)은 모든 실험 설정에서 가장 높은 정확도를 기록했다.\n",
    "    - SVM은 고차원 공간에서의 분리 경계를 잘 학습하며, 특히 TF-IDF처럼 희소하고 고차원인 데이터에서 강력한 성능을 발휘하는 것이 특징이다.\n",
    "    - 또한 SVM은 마진 기반 최적화를 통해 과적합을 방지하면서도 강력한 일반화 성능을 제공하는데, 이러한 특성은 다중 클래스 뉴스 분류와 같이 복잡한 경계 구분이 필요한 문제에서 유리하게 작용한다.\n",
    "\n",
    "- num_words 설정은 대체로 5,000일 때 가장 좋은 성능을 보였다.\n",
    "    - 이는 너무 많은 단어를 포함하면 드물게 등장하는 단어까지 벡터화되어 잡음이 늘어나고 과적합 가능성이 증가하기 때문이다. 반대로 단어 수를 적절히 제한하면 중요 단어들만 학습에 활용되어 일반화 성능이 좋아질 수 있다.\n",
    "    - 다만 예외적으로 SVM과 Voting 모델에서는 None(전체 단어 사용) 설정이 가장 높은 성능을 보였는데, 이는 SVM의 경우 고차원 희소 벡터에서도 경계 결정 능력이 강력하며, Voting 모델의 경우 여러 모델의 장점을 결합하면서 다양한 단어 특성을 효과적으로 통합했기 때문으로 해석된다.\n",
    "\n",
    "- 딥러닝 모델과 비교해 보면, RNN은 매우 낮은 성능을 보였으나 MLP는 기계학습의 상위권 모델들과 비슷한 수준의 성능을 보였다.\n",
    "    - 이는 RNN이 단어의 순서 정보를 이용하는 시퀀스 기반 모델이기 때문에 TF-IDF나 DTM처럼 단어의 중요도를 반영한 입력을 사용하지 않고, 정수 시퀀스를 그대로 처리했기 때문이다. 반면 MLP는 TF-IDF 벡터를 입력으로 받아 중요 단어에 집중하는 분류가 가능했기 때문에 더 나은 결과를 낼 수 있었다.\n",
    "    - 결국 이 데이터셋에서는 순서 정보보다는 중요 단어에 집중하는 방식이 뉴스 카테고리 분류에 더 효과적이었음을 시사한다."
   ]
  },
  {
   "cell_type": "markdown",
   "id": "01c9d589",
   "metadata": {},
   "source": [
    "## 회고\n",
    " 이번 프로젝트는 이례적으로 같은 문제에 대해 다른 변인을 통제한 뒤 다양한 모델과 Vocab Size를 바꿔가며 실험처럼 진행되었다. 결과 비교를 통해 해당 문제에 적합한 분류 방식을 찾아내는 것은 좋았으나, 다양한 데이터 전처리나 모델 학습 기법을 사용해보지 못한 점은 아쉬웠다. 이후 다른 프로젝트에서 문제에 적합한 모델을 고민할 때 도움이 될 수 있는 실험이었다고 생각한다."
   ]
  },
  {
   "cell_type": "code",
   "execution_count": null,
   "id": "aa9f1abb",
   "metadata": {},
   "outputs": [],
   "source": []
  }
 ],
 "metadata": {
  "kernelspec": {
   "display_name": "Python 3 (ipykernel)",
   "language": "python",
   "name": "python3"
  },
  "language_info": {
   "codemirror_mode": {
    "name": "ipython",
    "version": 3
   },
   "file_extension": ".py",
   "mimetype": "text/x-python",
   "name": "python",
   "nbconvert_exporter": "python",
   "pygments_lexer": "ipython3",
   "version": "3.9.7"
  }
 },
 "nbformat": 4,
 "nbformat_minor": 5
}
