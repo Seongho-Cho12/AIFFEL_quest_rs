{
 "cells": [
  {
   "cell_type": "markdown",
   "id": "bb23b7cf",
   "metadata": {},
   "source": [
    "# HuggingFace 커스텀 프로젝트 만들기"
   ]
  },
  {
   "cell_type": "markdown",
   "id": "3b25d6e5",
   "metadata": {},
   "source": [
    "## 데이터 불러오기"
   ]
  },
  {
   "cell_type": "code",
   "execution_count": 1,
   "id": "4765df1a",
   "metadata": {},
   "outputs": [
    {
     "name": "stderr",
     "output_type": "stream",
     "text": [
      "Using custom data configuration default\n",
      "Reusing dataset nsmc (/aiffel/.cache/huggingface/datasets/nsmc/default/1.1.0/bfd4729bf1a67114e5267e6916b9e4807010aeb238e4a3c2b95fbfa3a014b5f3)\n"
     ]
    },
    {
     "data": {
      "application/vnd.jupyter.widget-view+json": {
       "model_id": "71463811ce474a78b04f0d7bb294a3dd",
       "version_major": 2,
       "version_minor": 0
      },
      "text/plain": [
       "  0%|          | 0/2 [00:00<?, ?it/s]"
      ]
     },
     "metadata": {},
     "output_type": "display_data"
    },
    {
     "data": {
      "text/plain": [
       "DatasetDict({\n",
       "    train: Dataset({\n",
       "        features: ['id', 'document', 'label'],\n",
       "        num_rows: 150000\n",
       "    })\n",
       "    test: Dataset({\n",
       "        features: ['id', 'document', 'label'],\n",
       "        num_rows: 50000\n",
       "    })\n",
       "})"
      ]
     },
     "execution_count": 1,
     "metadata": {},
     "output_type": "execute_result"
    }
   ],
   "source": [
    "from datasets import load_dataset\n",
    "from transformers import AutoTokenizer, TrainingArguments, Trainer, AutoModelForSequenceClassification\n",
    "\n",
    "raw_datasets = load_dataset(\"nsmc\")\n",
    "\n",
    "raw_datasets"
   ]
  },
  {
   "cell_type": "code",
   "execution_count": 2,
   "id": "90afb751",
   "metadata": {
    "scrolled": false
   },
   "outputs": [
    {
     "name": "stdout",
     "output_type": "stream",
     "text": [
      "{'id': '9976970', 'document': '아 더빙.. 진짜 짜증나네요 목소리', 'label': 0}\n",
      "{'id': '3819312', 'document': '흠...포스터보고 초딩영화줄....오버연기조차 가볍지 않구나', 'label': 1}\n",
      "{'id': '10265843', 'document': '너무재밓었다그래서보는것을추천한다', 'label': 0}\n",
      "{'id': '9045019', 'document': '교도소 이야기구먼 ..솔직히 재미는 없다..평점 조정', 'label': 0}\n",
      "{'id': '6483659', 'document': '사이몬페그의 익살스런 연기가 돋보였던 영화!스파이더맨에서 늙어보이기만 했던 커스틴 던스트가 너무나도 이뻐보였다', 'label': 1}\n"
     ]
    }
   ],
   "source": [
    "for example in raw_datasets[\"train\"].select(range(5)):\n",
    "    print(example)"
   ]
  },
  {
   "cell_type": "markdown",
   "id": "735541a0",
   "metadata": {},
   "source": [
    "## 데이터 전처리"
   ]
  },
  {
   "cell_type": "markdown",
   "id": "4d5702c8",
   "metadata": {},
   "source": [
    "### 1. 빈 문장 제거 & 중복 제거"
   ]
  },
  {
   "cell_type": "code",
   "execution_count": 3,
   "id": "8fa5cff3",
   "metadata": {},
   "outputs": [
    {
     "name": "stderr",
     "output_type": "stream",
     "text": [
      "Loading cached processed dataset at /aiffel/.cache/huggingface/datasets/nsmc/default/1.1.0/bfd4729bf1a67114e5267e6916b9e4807010aeb238e4a3c2b95fbfa3a014b5f3/cache-c259e9100db70862.arrow\n",
      "Loading cached processed dataset at /aiffel/.cache/huggingface/datasets/nsmc/default/1.1.0/bfd4729bf1a67114e5267e6916b9e4807010aeb238e4a3c2b95fbfa3a014b5f3/cache-b7421c716a6e4f65.arrow\n",
      "Loading cached processed dataset at /aiffel/.cache/huggingface/datasets/nsmc/default/1.1.0/bfd4729bf1a67114e5267e6916b9e4807010aeb238e4a3c2b95fbfa3a014b5f3/cache-22e8c42e3b2ed5b5.arrow\n"
     ]
    },
    {
     "data": {
      "application/vnd.jupyter.widget-view+json": {
       "model_id": "ebc20f5efef2447bbc2045495360b6a6",
       "version_major": 2,
       "version_minor": 0
      },
      "text/plain": [
       "  0%|          | 0/50 [00:00<?, ?ba/s]"
      ]
     },
     "metadata": {},
     "output_type": "display_data"
    }
   ],
   "source": [
    "# 1. 빈 문장 제거\n",
    "def is_not_empty(example):\n",
    "    return example[\"document\"] is not None and example[\"document\"].strip() != \"\"\n",
    "\n",
    "raw_datasets = raw_datasets.filter(is_not_empty)\n",
    "\n",
    "# 2. 중복 제거 (document 기준)\n",
    "# Hugging Face Datasets는 내부적으로 pandas 사용 불가하므로 unique 처리 수작업 필요\n",
    "seen = set()\n",
    "def is_unique(example):\n",
    "    doc = example[\"document\"]\n",
    "    if doc in seen:\n",
    "        return False\n",
    "    seen.add(doc)\n",
    "    return True\n",
    "\n",
    "raw_datasets = raw_datasets.filter(is_unique)"
   ]
  },
  {
   "cell_type": "code",
   "execution_count": 4,
   "id": "f9c4d8c7",
   "metadata": {
    "scrolled": true
   },
   "outputs": [
    {
     "name": "stdout",
     "output_type": "stream",
     "text": [
      "Train size after filtering: 146182\n",
      "Test size after filtering: 49157\n"
     ]
    }
   ],
   "source": [
    "print(f\"Train size after filtering: {len(raw_datasets['train'])}\")\n",
    "print(f\"Test size after filtering: {len(raw_datasets['test'])}\")"
   ]
  },
  {
   "cell_type": "markdown",
   "id": "4ac7f079",
   "metadata": {},
   "source": [
    "### 2. 여러 데이터 전처리 기법 적용"
   ]
  },
  {
   "cell_type": "code",
   "execution_count": 5,
   "id": "482d166b",
   "metadata": {},
   "outputs": [],
   "source": [
    "# 데이터 전처리 함수\n",
    "from datasets import DatasetDict\n",
    "from tqdm import tqdm\n",
    "import re\n",
    "\n",
    "def preprocess_sentence(sentence):\n",
    "    sentence = sentence.strip().lower()\n",
    "\n",
    "    # 여러 공백 정리\n",
    "    sentence = re.sub(r'\\s+', ' ', sentence)\n",
    "\n",
    "    # 특수문자 정리 (한글 자모 포함)\n",
    "    sentence = re.sub(r\"[^가-힣ㄱ-ㅎㅏ-ㅣa-zA-Z0-9?.!,♡♥^;]+\", \" \", sentence)\n",
    "\n",
    "    # 허용된 자모(ㅋ, ㅜ, ㅠ, ㄷ, ㅡ, ㅎ, ㅉ) 외 자모 제거\n",
    "    sentence = re.sub(r'[ㄱ-ㅎㅏ-ㅣ]', lambda m: m.group() if m.group() in ['ㅋ', 'ㅜ', 'ㅠ', 'ㄷ', 'ㅡ', 'ㅎ', 'ㅉ'] else '', sentence)\n",
    "\n",
    "    # 연속된 구두점 2개 이상 → 2개로 축소\n",
    "    sentence = re.sub(r'([?.!,])\\1{2,}', r'\\1\\1', sentence)\n",
    "\n",
    "    # 연속 자음/모음 축소 (허용된 것들만)\n",
    "    sentence = re.sub(r'(ㅋ)\\1{1,}', r'\\1\\1', sentence)\n",
    "    sentence = re.sub(r'(ㅎ)\\1{1,}', r'\\1\\1', sentence)\n",
    "    for ch in ['ㅜ', 'ㅠ', 'ㄷ', 'ㅡ', 'ㅉ']:\n",
    "        sentence = re.sub(fr'{ch}+', ch * 2, sentence)\n",
    "\n",
    "    # ♡ → ♥\n",
    "    sentence = sentence.replace('♡', '♥')\n",
    "\n",
    "    # ♥ 연속 → 하나만\n",
    "    sentence = re.sub(r'(♥)\\1+', r'\\1', sentence)\n",
    "\n",
    "    # ^^는 2개만 유지\n",
    "    sentence = re.sub(r'\\^{3,}', '^^', sentence)\n",
    "    sentence = re.sub(r'\\^{1,2}', lambda m: '^^' if len(m.group()) == 2 else '', sentence)\n",
    "\n",
    "    # ㅅㅂ, ㅈㄴ → OO\n",
    "    sentence = re.sub(r'(ㅅㅂ|ㅈㄴ)', 'OO', sentence)\n",
    "\n",
    "    # O 연속 → 2개만\n",
    "    sentence = re.sub(r'(O)\\1{2,}', r'\\1\\1', sentence)\n",
    "\n",
    "    # ; 연속 → 하나만\n",
    "    sentence = re.sub(r';{2,}', ';', sentence)\n",
    "\n",
    "    return sentence.strip()"
   ]
  },
  {
   "cell_type": "code",
   "execution_count": 6,
   "id": "b60efec9",
   "metadata": {},
   "outputs": [
    {
     "data": {
      "application/vnd.jupyter.widget-view+json": {
       "model_id": "619dfd3c1b614b6bb76680cb6be54450",
       "version_major": 2,
       "version_minor": 0
      },
      "text/plain": [
       "  0%|          | 0/146182 [00:00<?, ?ex/s]"
      ]
     },
     "metadata": {},
     "output_type": "display_data"
    },
    {
     "data": {
      "application/vnd.jupyter.widget-view+json": {
       "model_id": "601b1f8ae3db47119d151380a4a3037e",
       "version_major": 2,
       "version_minor": 0
      },
      "text/plain": [
       "  0%|          | 0/49157 [00:00<?, ?ex/s]"
      ]
     },
     "metadata": {},
     "output_type": "display_data"
    }
   ],
   "source": [
    "# map에 사용할 래퍼 함수 정의\n",
    "def preprocess_function(example):\n",
    "    example[\"document\"] = preprocess_sentence(example[\"document\"])\n",
    "    return example\n",
    "\n",
    "# 데이터셋 전체에 적용\n",
    "raw_datasets = raw_datasets.map(preprocess_function)"
   ]
  },
  {
   "cell_type": "code",
   "execution_count": 7,
   "id": "462bfeca",
   "metadata": {},
   "outputs": [],
   "source": [
    "from datasets import Dataset\n",
    "\n",
    "# 문장 길이 1 & 숫자 문장만 제거하는 필터 함수\n",
    "def not_single_digit(example):\n",
    "    doc = str(example[\"document\"]).strip()\n",
    "    return not (len(doc) == 1 and doc.isdigit())"
   ]
  },
  {
   "cell_type": "code",
   "execution_count": 8,
   "id": "4968e8ce",
   "metadata": {},
   "outputs": [
    {
     "data": {
      "application/vnd.jupyter.widget-view+json": {
       "model_id": "e0c73b0a1841434d9ba0655a7e99f918",
       "version_major": 2,
       "version_minor": 0
      },
      "text/plain": [
       "  0%|          | 0/147 [00:00<?, ?ba/s]"
      ]
     },
     "metadata": {},
     "output_type": "display_data"
    },
    {
     "name": "stdout",
     "output_type": "stream",
     "text": [
      "삭제된 숫자 문장 수: 5\n"
     ]
    }
   ],
   "source": [
    "# train split에만 적용\n",
    "original_len = len(raw_datasets[\"train\"])\n",
    "raw_datasets[\"train\"] = raw_datasets[\"train\"].filter(not_single_digit)\n",
    "new_len = len(raw_datasets[\"train\"])\n",
    "\n",
    "print(f\"삭제된 숫자 문장 수: {original_len - new_len}\")"
   ]
  },
  {
   "cell_type": "markdown",
   "id": "1194c643",
   "metadata": {},
   "source": [
    "## 토크나이저와 모델 불러오기"
   ]
  },
  {
   "cell_type": "code",
   "execution_count": 9,
   "id": "f24d2962",
   "metadata": {
    "scrolled": false
   },
   "outputs": [
    {
     "name": "stderr",
     "output_type": "stream",
     "text": [
      "Some weights of the model checkpoint at klue/bert-base were not used when initializing BertForSequenceClassification: ['cls.predictions.transform.LayerNorm.bias', 'cls.seq_relationship.weight', 'cls.seq_relationship.bias', 'cls.predictions.decoder.bias', 'cls.predictions.transform.LayerNorm.weight', 'cls.predictions.transform.dense.weight', 'cls.predictions.bias', 'cls.predictions.decoder.weight', 'cls.predictions.transform.dense.bias']\n",
      "- This IS expected if you are initializing BertForSequenceClassification from the checkpoint of a model trained on another task or with another architecture (e.g. initializing a BertForSequenceClassification model from a BertForPreTraining model).\n",
      "- This IS NOT expected if you are initializing BertForSequenceClassification from the checkpoint of a model that you expect to be exactly identical (initializing a BertForSequenceClassification model from a BertForSequenceClassification model).\n",
      "Some weights of BertForSequenceClassification were not initialized from the model checkpoint at klue/bert-base and are newly initialized: ['classifier.weight', 'classifier.bias']\n",
      "You should probably TRAIN this model on a down-stream task to be able to use it for predictions and inference.\n"
     ]
    },
    {
     "data": {
      "application/vnd.jupyter.widget-view+json": {
       "model_id": "72e69a40a8a04c798549ca6deb6d55c0",
       "version_major": 2,
       "version_minor": 0
      },
      "text/plain": [
       "  0%|          | 0/147 [00:00<?, ?ba/s]"
      ]
     },
     "metadata": {},
     "output_type": "display_data"
    },
    {
     "data": {
      "application/vnd.jupyter.widget-view+json": {
       "model_id": "d5fa1885fc364881a60a828c6bf1dd00",
       "version_major": 2,
       "version_minor": 0
      },
      "text/plain": [
       "  0%|          | 0/50 [00:00<?, ?ba/s]"
      ]
     },
     "metadata": {},
     "output_type": "display_data"
    }
   ],
   "source": [
    "model_name_or_path = \"klue/bert-base\"\n",
    "model = AutoModelForSequenceClassification.from_pretrained(model_name_or_path, num_labels=2)\n",
    "tokenizer = AutoTokenizer.from_pretrained(model_name_or_path)\n",
    "\n",
    "def tokenize_function(example):\n",
    "    return tokenizer(example[\"document\"], truncation=True)\n",
    "\n",
    "tokenized_datasets = raw_datasets.map(tokenize_function, batched=True)"
   ]
  },
  {
   "cell_type": "markdown",
   "id": "9954a109",
   "metadata": {},
   "source": [
    "### 데이터 토큰 길이 측정 후 적당한 길이로 패딩"
   ]
  },
  {
   "cell_type": "code",
   "execution_count": 10,
   "id": "30df3277",
   "metadata": {
    "scrolled": true
   },
   "outputs": [
    {
     "data": {
      "image/png": "[encoded data removed]",
      "text/plain": [
       "<Figure size 432x288 with 1 Axes>"
      ]
     },
     "metadata": {
      "needs_background": "light"
     },
     "output_type": "display_data"
    }
   ],
   "source": [
    "import matplotlib.pyplot as plt\n",
    "\n",
    "# 길이 리스트 추출\n",
    "train_lengths = [len(x[\"input_ids\"]) for x in tokenized_datasets[\"train\"]]\n",
    "test_lengths = [len(x[\"input_ids\"]) for x in tokenized_datasets[\"test\"]]\n",
    "\n",
    "# 히스토그램 출력\n",
    "plt.hist(train_lengths, bins=50, alpha=0.6, label=\"train\")\n",
    "plt.hist(test_lengths, bins=50, alpha=0.6, label=\"test\")\n",
    "plt.xlabel(\"Sequence Length\")\n",
    "plt.ylabel(\"Number of Samples\")\n",
    "plt.title(\"Input Sequence Length Distribution\")\n",
    "plt.legend()\n",
    "plt.show()"
   ]
  },
  {
   "cell_type": "code",
   "execution_count": 11,
   "id": "9b6a8c21",
   "metadata": {
    "scrolled": false
   },
   "outputs": [
    {
     "data": {
      "application/vnd.jupyter.widget-view+json": {
       "model_id": "79fa64a1acb74940b0611f70da76990f",
       "version_major": 2,
       "version_minor": 0
      },
      "text/plain": [
       "  0%|          | 0/147 [00:00<?, ?ba/s]"
      ]
     },
     "metadata": {},
     "output_type": "display_data"
    },
    {
     "data": {
      "application/vnd.jupyter.widget-view+json": {
       "model_id": "8edbd442754a4abc964b31149bf4f640",
       "version_major": 2,
       "version_minor": 0
      },
      "text/plain": [
       "  0%|          | 0/50 [00:00<?, ?ba/s]"
      ]
     },
     "metadata": {},
     "output_type": "display_data"
    }
   ],
   "source": [
    "def tokenize_function_with_padding(example):\n",
    "    return tokenizer(\n",
    "        example[\"document\"],\n",
    "        truncation=True,\n",
    "        padding=\"max_length\",  # 고정 길이로 패딩\n",
    "        max_length=64          # 길이 제한\n",
    "    )\n",
    "\n",
    "tokenized_datasets = raw_datasets.map(tokenize_function_with_padding, batched=True)"
   ]
  },
  {
   "cell_type": "markdown",
   "id": "bbb55796",
   "metadata": {},
   "source": [
    "### validation set 나누기"
   ]
  },
  {
   "cell_type": "code",
   "execution_count": 12,
   "id": "cc1a2dd5",
   "metadata": {},
   "outputs": [],
   "source": [
    "from datasets import DatasetDict\n",
    "\n",
    "# 1. train 데이터를 90:10 비율로 나누기\n",
    "split_ds = tokenized_datasets['train'].train_test_split(test_size=0.1, seed=42)\n",
    "\n",
    "# 2. 원래 DatasetDict에 병합\n",
    "tokenized_datasets = DatasetDict({\n",
    "    'train': split_ds['train'],\n",
    "    'validation': split_ds['test'],  # 10% eval set\n",
    "    'test': tokenized_datasets['test']\n",
    "})"
   ]
  },
  {
   "cell_type": "code",
   "execution_count": 13,
   "id": "5d3f955b",
   "metadata": {
    "scrolled": true
   },
   "outputs": [
    {
     "data": {
      "text/plain": [
       "DatasetDict({\n",
       "    train: Dataset({\n",
       "        features: ['attention_mask', 'document', 'id', 'input_ids', 'label', 'token_type_ids'],\n",
       "        num_rows: 131559\n",
       "    })\n",
       "    validation: Dataset({\n",
       "        features: ['attention_mask', 'document', 'id', 'input_ids', 'label', 'token_type_ids'],\n",
       "        num_rows: 14618\n",
       "    })\n",
       "    test: Dataset({\n",
       "        features: ['attention_mask', 'document', 'id', 'input_ids', 'label', 'token_type_ids'],\n",
       "        num_rows: 49157\n",
       "    })\n",
       "})"
      ]
     },
     "execution_count": 13,
     "metadata": {},
     "output_type": "execute_result"
    }
   ],
   "source": [
    "tokenized_datasets"
   ]
  },
  {
   "cell_type": "markdown",
   "id": "d5e9e82e",
   "metadata": {},
   "source": [
    "### 학습에 사용할 metric 정의"
   ]
  },
  {
   "cell_type": "code",
   "execution_count": 14,
   "id": "351a8e3e",
   "metadata": {},
   "outputs": [],
   "source": [
    "from sklearn.metrics import accuracy_score, f1_score\n",
    "\n",
    "def compute_metrics(pred):\n",
    "    logits, labels = pred\n",
    "    preds = logits.argmax(axis=-1)\n",
    "    return {\n",
    "        'accuracy': accuracy_score(labels, preds),\n",
    "        'f1': f1_score(labels, preds)\n",
    "    }"
   ]
  },
  {
   "cell_type": "markdown",
   "id": "d174666a",
   "metadata": {},
   "source": [
    "### arguments 정의"
   ]
  },
  {
   "cell_type": "markdown",
   "id": "eb63e389",
   "metadata": {},
   "source": [
    "validation accuracy와 f1 score를 확인하기 위해 wandb를 사용했다가 접속이 꼬여 학습이 진행되지 않는 상황 발생\n",
    "\n",
    "wandb를 포기하고 콘솔에 에포크 별 accuracy와 f1 score를 확인할 수 있도록 수정"
   ]
  },
  {
   "cell_type": "code",
   "execution_count": 19,
   "id": "74649e6f",
   "metadata": {},
   "outputs": [
    {
     "name": "stderr",
     "output_type": "stream",
     "text": [
      "PyTorch: setting up devices\n"
     ]
    }
   ],
   "source": [
    "import os\n",
    "import numpy as np\n",
    "\n",
    "output_dir = os.getenv('HOME')+'/aiffel/transformers'\n",
    "\n",
    "training_arguments = TrainingArguments(\n",
    "    output_dir,                                         # output이 저장될 경로\n",
    "    evaluation_strategy=\"epoch\",\n",
    "    logging_strategy=\"epoch\",\n",
    "    learning_rate = 2e-5,                         #learning_rate\n",
    "    per_device_train_batch_size = 64,   # 각 device 당 batch size\n",
    "    per_device_eval_batch_size = 64,    # evaluation 시에 batch size\n",
    "    num_train_epochs = 3,                     # train 시킬 총 epochs\n",
    "    weight_decay = 0.01,                        # weight decay\n",
    "    fp16=True,\n",
    "    report_to=\"none\",  # ← 이거 추가!\n",
    ")"
   ]
  },
  {
   "cell_type": "code",
   "execution_count": 20,
   "id": "bc8c0492",
   "metadata": {
    "scrolled": true
   },
   "outputs": [
    {
     "name": "stderr",
     "output_type": "stream",
     "text": [
      "Using amp fp16 backend\n",
      "The following columns in the training set  don't have a corresponding argument in `BertForSequenceClassification.forward` and have been ignored: document, id.\n",
      "***** Running training *****\n",
      "  Num examples = 131559\n",
      "  Num Epochs = 3\n",
      "  Instantaneous batch size per device = 64\n",
      "  Total train batch size (w. parallel, distributed & accumulation) = 64\n",
      "  Gradient Accumulation steps = 1\n",
      "  Total optimization steps = 6168\n"
     ]
    },
    {
     "data": {
      "text/html": [
       "\n",
       "    <div>\n",
       "      \n",
       "      <progress value='6168' max='6168' style='width:300px; height:20px; vertical-align: middle;'></progress>\n",
       "      [6168/6168 37:21, Epoch 3/3]\n",
       "    </div>\n",
       "    <table border=\"1\" class=\"dataframe\">\n",
       "  <thead>\n",
       "    <tr style=\"text-align: left;\">\n",
       "      <th>Epoch</th>\n",
       "      <th>Training Loss</th>\n",
       "      <th>Validation Loss</th>\n",
       "      <th>Accuracy</th>\n",
       "      <th>F1</th>\n",
       "    </tr>\n",
       "  </thead>\n",
       "  <tbody>\n",
       "    <tr>\n",
       "      <td>1</td>\n",
       "      <td>0.261400</td>\n",
       "      <td>0.245039</td>\n",
       "      <td>0.897318</td>\n",
       "      <td>0.896561</td>\n",
       "    </tr>\n",
       "    <tr>\n",
       "      <td>2</td>\n",
       "      <td>0.186700</td>\n",
       "      <td>0.245089</td>\n",
       "      <td>0.905117</td>\n",
       "      <td>0.904378</td>\n",
       "    </tr>\n",
       "    <tr>\n",
       "      <td>3</td>\n",
       "      <td>0.132000</td>\n",
       "      <td>0.273519</td>\n",
       "      <td>0.904228</td>\n",
       "      <td>0.904567</td>\n",
       "    </tr>\n",
       "  </tbody>\n",
       "</table><p>"
      ],
      "text/plain": [
       "<IPython.core.display.HTML object>"
      ]
     },
     "metadata": {},
     "output_type": "display_data"
    },
    {
     "name": "stderr",
     "output_type": "stream",
     "text": [
      "Saving model checkpoint to /aiffel/aiffel/transformers/checkpoint-500\n",
      "Configuration saved in /aiffel/aiffel/transformers/checkpoint-500/config.json\n",
      "Model weights saved in /aiffel/aiffel/transformers/checkpoint-500/pytorch_model.bin\n",
      "tokenizer config file saved in /aiffel/aiffel/transformers/checkpoint-500/tokenizer_config.json\n",
      "Special tokens file saved in /aiffel/aiffel/transformers/checkpoint-500/special_tokens_map.json\n",
      "Saving model checkpoint to /aiffel/aiffel/transformers/checkpoint-1000\n",
      "Configuration saved in /aiffel/aiffel/transformers/checkpoint-1000/config.json\n",
      "Model weights saved in /aiffel/aiffel/transformers/checkpoint-1000/pytorch_model.bin\n",
      "tokenizer config file saved in /aiffel/aiffel/transformers/checkpoint-1000/tokenizer_config.json\n",
      "Special tokens file saved in /aiffel/aiffel/transformers/checkpoint-1000/special_tokens_map.json\n",
      "Saving model checkpoint to /aiffel/aiffel/transformers/checkpoint-1500\n",
      "Configuration saved in /aiffel/aiffel/transformers/checkpoint-1500/config.json\n",
      "Model weights saved in /aiffel/aiffel/transformers/checkpoint-1500/pytorch_model.bin\n",
      "tokenizer config file saved in /aiffel/aiffel/transformers/checkpoint-1500/tokenizer_config.json\n",
      "Special tokens file saved in /aiffel/aiffel/transformers/checkpoint-1500/special_tokens_map.json\n",
      "Saving model checkpoint to /aiffel/aiffel/transformers/checkpoint-2000\n",
      "Configuration saved in /aiffel/aiffel/transformers/checkpoint-2000/config.json\n",
      "Model weights saved in /aiffel/aiffel/transformers/checkpoint-2000/pytorch_model.bin\n",
      "tokenizer config file saved in /aiffel/aiffel/transformers/checkpoint-2000/tokenizer_config.json\n",
      "Special tokens file saved in /aiffel/aiffel/transformers/checkpoint-2000/special_tokens_map.json\n",
      "The following columns in the evaluation set  don't have a corresponding argument in `BertForSequenceClassification.forward` and have been ignored: document, id.\n",
      "***** Running Evaluation *****\n",
      "  Num examples = 14618\n",
      "  Batch size = 64\n"
     ]
    },
    {
     "name": "stdout",
     "output_type": "stream",
     "text": [
      "[step 2056] eval_accuracy=0.8973, f1=0.8966\n"
     ]
    },
    {
     "name": "stderr",
     "output_type": "stream",
     "text": [
      "/opt/conda/lib/python3.9/site-packages/transformers/trainer.py:1355: FutureWarning: Non-finite norm encountered in torch.nn.utils.clip_grad_norm_; continuing anyway. Note that the default behavior will change in a future release to error out if a non-finite total norm is encountered. At that point, setting error_if_nonfinite=false will be required to retain the old behavior.\n",
      "  nn.utils.clip_grad_norm_(\n",
      "Saving model checkpoint to /aiffel/aiffel/transformers/checkpoint-2500\n",
      "Configuration saved in /aiffel/aiffel/transformers/checkpoint-2500/config.json\n",
      "Model weights saved in /aiffel/aiffel/transformers/checkpoint-2500/pytorch_model.bin\n",
      "tokenizer config file saved in /aiffel/aiffel/transformers/checkpoint-2500/tokenizer_config.json\n",
      "Special tokens file saved in /aiffel/aiffel/transformers/checkpoint-2500/special_tokens_map.json\n",
      "Saving model checkpoint to /aiffel/aiffel/transformers/checkpoint-3000\n",
      "Configuration saved in /aiffel/aiffel/transformers/checkpoint-3000/config.json\n",
      "Model weights saved in /aiffel/aiffel/transformers/checkpoint-3000/pytorch_model.bin\n",
      "tokenizer config file saved in /aiffel/aiffel/transformers/checkpoint-3000/tokenizer_config.json\n",
      "Special tokens file saved in /aiffel/aiffel/transformers/checkpoint-3000/special_tokens_map.json\n",
      "Saving model checkpoint to /aiffel/aiffel/transformers/checkpoint-3500\n",
      "Configuration saved in /aiffel/aiffel/transformers/checkpoint-3500/config.json\n",
      "Model weights saved in /aiffel/aiffel/transformers/checkpoint-3500/pytorch_model.bin\n",
      "tokenizer config file saved in /aiffel/aiffel/transformers/checkpoint-3500/tokenizer_config.json\n",
      "Special tokens file saved in /aiffel/aiffel/transformers/checkpoint-3500/special_tokens_map.json\n",
      "Saving model checkpoint to /aiffel/aiffel/transformers/checkpoint-4000\n",
      "Configuration saved in /aiffel/aiffel/transformers/checkpoint-4000/config.json\n",
      "Model weights saved in /aiffel/aiffel/transformers/checkpoint-4000/pytorch_model.bin\n",
      "tokenizer config file saved in /aiffel/aiffel/transformers/checkpoint-4000/tokenizer_config.json\n",
      "Special tokens file saved in /aiffel/aiffel/transformers/checkpoint-4000/special_tokens_map.json\n",
      "/opt/conda/lib/python3.9/site-packages/transformers/trainer.py:1355: FutureWarning: Non-finite norm encountered in torch.nn.utils.clip_grad_norm_; continuing anyway. Note that the default behavior will change in a future release to error out if a non-finite total norm is encountered. At that point, setting error_if_nonfinite=false will be required to retain the old behavior.\n",
      "  nn.utils.clip_grad_norm_(\n",
      "The following columns in the evaluation set  don't have a corresponding argument in `BertForSequenceClassification.forward` and have been ignored: document, id.\n",
      "***** Running Evaluation *****\n",
      "  Num examples = 14618\n",
      "  Batch size = 64\n"
     ]
    },
    {
     "name": "stdout",
     "output_type": "stream",
     "text": [
      "[step 4112] eval_accuracy=0.9051, f1=0.9044\n"
     ]
    },
    {
     "name": "stderr",
     "output_type": "stream",
     "text": [
      "Saving model checkpoint to /aiffel/aiffel/transformers/checkpoint-4500\n",
      "Configuration saved in /aiffel/aiffel/transformers/checkpoint-4500/config.json\n",
      "Model weights saved in /aiffel/aiffel/transformers/checkpoint-4500/pytorch_model.bin\n",
      "tokenizer config file saved in /aiffel/aiffel/transformers/checkpoint-4500/tokenizer_config.json\n",
      "Special tokens file saved in /aiffel/aiffel/transformers/checkpoint-4500/special_tokens_map.json\n",
      "/opt/conda/lib/python3.9/site-packages/transformers/trainer.py:1355: FutureWarning: Non-finite norm encountered in torch.nn.utils.clip_grad_norm_; continuing anyway. Note that the default behavior will change in a future release to error out if a non-finite total norm is encountered. At that point, setting error_if_nonfinite=false will be required to retain the old behavior.\n",
      "  nn.utils.clip_grad_norm_(\n",
      "Saving model checkpoint to /aiffel/aiffel/transformers/checkpoint-5000\n",
      "Configuration saved in /aiffel/aiffel/transformers/checkpoint-5000/config.json\n",
      "Model weights saved in /aiffel/aiffel/transformers/checkpoint-5000/pytorch_model.bin\n",
      "tokenizer config file saved in /aiffel/aiffel/transformers/checkpoint-5000/tokenizer_config.json\n",
      "Special tokens file saved in /aiffel/aiffel/transformers/checkpoint-5000/special_tokens_map.json\n",
      "Saving model checkpoint to /aiffel/aiffel/transformers/checkpoint-5500\n",
      "Configuration saved in /aiffel/aiffel/transformers/checkpoint-5500/config.json\n",
      "Model weights saved in /aiffel/aiffel/transformers/checkpoint-5500/pytorch_model.bin\n",
      "tokenizer config file saved in /aiffel/aiffel/transformers/checkpoint-5500/tokenizer_config.json\n",
      "Special tokens file saved in /aiffel/aiffel/transformers/checkpoint-5500/special_tokens_map.json\n",
      "Saving model checkpoint to /aiffel/aiffel/transformers/checkpoint-6000\n",
      "Configuration saved in /aiffel/aiffel/transformers/checkpoint-6000/config.json\n",
      "Model weights saved in /aiffel/aiffel/transformers/checkpoint-6000/pytorch_model.bin\n",
      "tokenizer config file saved in /aiffel/aiffel/transformers/checkpoint-6000/tokenizer_config.json\n",
      "Special tokens file saved in /aiffel/aiffel/transformers/checkpoint-6000/special_tokens_map.json\n",
      "The following columns in the evaluation set  don't have a corresponding argument in `BertForSequenceClassification.forward` and have been ignored: document, id.\n",
      "***** Running Evaluation *****\n",
      "  Num examples = 14618\n",
      "  Batch size = 64\n"
     ]
    },
    {
     "name": "stdout",
     "output_type": "stream",
     "text": [
      "[step 6168] eval_accuracy=0.9042, f1=0.9046\n"
     ]
    },
    {
     "name": "stderr",
     "output_type": "stream",
     "text": [
      "\n",
      "\n",
      "Training completed. Do not forget to share your model on huggingface.co/models =)\n",
      "\n",
      "\n"
     ]
    },
    {
     "data": {
      "text/plain": [
       "TrainOutput(global_step=6168, training_loss=0.19336959205558174, metrics={'train_runtime': 2242.112, 'train_samples_per_second': 176.029, 'train_steps_per_second': 2.751, 'total_flos': 1.298048524953984e+16, 'train_loss': 0.19336959205558174, 'epoch': 3.0})"
      ]
     },
     "execution_count": 20,
     "metadata": {},
     "output_type": "execute_result"
    }
   ],
   "source": [
    "from transformers import TrainerCallback\n",
    "\n",
    "class ConsoleLoggerCallback(TrainerCallback):\n",
    "    def on_log(self, args, state, control, logs=None, **kwargs):\n",
    "        if logs is not None and \"eval_accuracy\" in logs:\n",
    "            print(f\"[step {state.global_step}] eval_accuracy={logs['eval_accuracy']:.4f}, f1={logs.get('eval_f1', 0):.4f}\")\n",
    "\n",
    "trainer = Trainer(\n",
    "    model,                                                                    # 학습시킬 model\n",
    "    args=training_arguments,                                                # TrainingArguments을 통해 설정한 arguments\n",
    "    train_dataset=tokenized_datasets[\"train\"],         # training dataset\n",
    "    eval_dataset=tokenized_datasets[\"validation\"], # validation dataset\n",
    "    tokenizer=tokenizer,\n",
    "    compute_metrics=compute_metrics,\n",
    "    callbacks=[ConsoleLoggerCallback()]  # ✅ 추가\n",
    ")\n",
    "\n",
    "# 모델 학습\n",
    "trainer.train()"
   ]
  },
  {
   "cell_type": "markdown",
   "id": "78c0bc1d",
   "metadata": {},
   "source": [
    "## test set으로 확인"
   ]
  },
  {
   "cell_type": "code",
   "execution_count": 21,
   "id": "25d1c3cd",
   "metadata": {},
   "outputs": [
    {
     "name": "stderr",
     "output_type": "stream",
     "text": [
      "The following columns in the test set  don't have a corresponding argument in `BertForSequenceClassification.forward` and have been ignored: document, id.\n",
      "***** Running Prediction *****\n",
      "  Num examples = 49157\n",
      "  Batch size = 64\n"
     ]
    },
    {
     "data": {
      "text/html": [
       "\n",
       "    <div>\n",
       "      \n",
       "      <progress value='769' max='769' style='width:300px; height:20px; vertical-align: middle;'></progress>\n",
       "      [769/769 03:17]\n",
       "    </div>\n",
       "    "
      ],
      "text/plain": [
       "<IPython.core.display.HTML object>"
      ]
     },
     "metadata": {},
     "output_type": "display_data"
    },
    {
     "name": "stdout",
     "output_type": "stream",
     "text": [
      "{'test_loss': 0.2782084345817566, 'test_accuracy': 0.902902943629595, 'test_f1': 0.9043391121354846, 'test_runtime': 197.58, 'test_samples_per_second': 248.795, 'test_steps_per_second': 3.892}\n",
      "예측 라벨: [1 1 0 0 0 1 0 0 0 1]\n"
     ]
    }
   ],
   "source": [
    "# 예측 수행\n",
    "predictions = trainer.predict(tokenized_datasets[\"test\"])\n",
    "\n",
    "# 예측 결과에서 logits, labels, metrics 추출\n",
    "logits = predictions.predictions\n",
    "pred_labels = logits.argmax(axis=-1)  # 예측된 클래스\n",
    "true_labels = predictions.label_ids   # 실제 레이블 (있다면)\n",
    "\n",
    "# 평가 지표 출력\n",
    "print(predictions.metrics)\n",
    "\n",
    "# 예측 라벨 일부 확인\n",
    "print(\"예측 라벨:\", pred_labels[:10])"
   ]
  },
  {
   "cell_type": "code",
   "execution_count": 22,
   "id": "b0c4b43e",
   "metadata": {},
   "outputs": [
    {
     "name": "stdout",
     "output_type": "stream",
     "text": [
      "[문장] 굳 ㅋ\n",
      "[실제 라벨] 1\n",
      "[예측 라벨] 1\n",
      "\n",
      "[문장] gdntopclassintheclub\n",
      "[실제 라벨] 0\n",
      "[예측 라벨] 1\n",
      "\n",
      "[문장] 뭐야 이 평점들은.. 나쁘진 않지만 10점 짜리는 더더욱 아니잖아\n",
      "[실제 라벨] 0\n",
      "[예측 라벨] 0\n",
      "\n",
      "[문장] 지루하지는 않은데 완전 막장임.. 돈주고 보기에는..\n",
      "[실제 라벨] 0\n",
      "[예측 라벨] 0\n",
      "\n",
      "[문장] 3d만 아니었어도 별 다섯 개 줬을텐데.. 왜 3d로 나와서 제 심기를 불편하게 하죠??\n",
      "[실제 라벨] 0\n",
      "[예측 라벨] 0\n",
      "\n",
      "[문장] 음악이 주가 된, 최고의 음악영화\n",
      "[실제 라벨] 1\n",
      "[예측 라벨] 1\n",
      "\n",
      "[문장] 진정한 쓰레기\n",
      "[실제 라벨] 0\n",
      "[예측 라벨] 0\n",
      "\n",
      "[문장] 마치 미국애니에서 튀어나온듯한 창의력없는 로봇디자인부터가,고개를 젖게한다\n",
      "[실제 라벨] 0\n",
      "[예측 라벨] 0\n",
      "\n",
      "[문장] 갈수록 개판되가는 중국영화 유치하고 내용없음 폼잡다 끝남 말도안되는 무기에 유치한cg남무 아 그립다 동사서독같은 영화가 이건 3류아류작이다\n",
      "[실제 라벨] 0\n",
      "[예측 라벨] 0\n",
      "\n",
      "[문장] 이별의 아픔뒤에 찾아오는 새로운 인연의 기쁨 but, 모든 사람이 그렇지는 않네..\n",
      "[실제 라벨] 1\n",
      "[예측 라벨] 1\n",
      "\n"
     ]
    }
   ],
   "source": [
    "# test 데이터 원본과 함께 보기\n",
    "for i in range(10):\n",
    "    print(f\"[문장] {raw_datasets['test'][i]['document']}\")\n",
    "    print(f\"[실제 라벨] {raw_datasets['test'][i]['label']}\")\n",
    "    print(f\"[예측 라벨] {pred_labels[i]}\")\n",
    "    print()"
   ]
  },
  {
   "cell_type": "markdown",
   "id": "d0b87776",
   "metadata": {},
   "source": [
    "## Bucketing 적용"
   ]
  },
  {
   "cell_type": "markdown",
   "id": "addd6612",
   "metadata": {},
   "source": [
    "### 패딩 없이 데이터셋 토큰화"
   ]
  },
  {
   "cell_type": "code",
   "execution_count": 23,
   "id": "6a93f094",
   "metadata": {},
   "outputs": [
    {
     "data": {
      "application/vnd.jupyter.widget-view+json": {
       "model_id": "c9fbbf6caa114cd59c76e4bf9ce78c1c",
       "version_major": 2,
       "version_minor": 0
      },
      "text/plain": [
       "  0%|          | 0/147 [00:00<?, ?ba/s]"
      ]
     },
     "metadata": {},
     "output_type": "display_data"
    },
    {
     "data": {
      "application/vnd.jupyter.widget-view+json": {
       "model_id": "26ca9572ffe440cbb6f7e5518586cd5f",
       "version_major": 2,
       "version_minor": 0
      },
      "text/plain": [
       "  0%|          | 0/50 [00:00<?, ?ba/s]"
      ]
     },
     "metadata": {},
     "output_type": "display_data"
    }
   ],
   "source": [
    "tokenized_datasets = raw_datasets.map(\n",
    "    lambda x: tokenizer(x[\"document\"], truncation=False, padding=False),\n",
    "    batched=True,\n",
    "    remove_columns=[\"document\"]\n",
    ")"
   ]
  },
  {
   "cell_type": "code",
   "execution_count": 24,
   "id": "2e5f13c7",
   "metadata": {},
   "outputs": [],
   "source": [
    "# 1. train 데이터를 90:10 비율로 나누기\n",
    "split_ds = tokenized_datasets['train'].train_test_split(test_size=0.1, seed=42)\n",
    "\n",
    "# 2. 원래 DatasetDict에 병합\n",
    "tokenized_datasets = DatasetDict({\n",
    "    'train': split_ds['train'],\n",
    "    'validation': split_ds['test'],  # 10% eval set\n",
    "    'test': tokenized_datasets['test']\n",
    "})"
   ]
  },
  {
   "cell_type": "code",
   "execution_count": 25,
   "id": "f06999de",
   "metadata": {
    "scrolled": true
   },
   "outputs": [
    {
     "data": {
      "text/plain": [
       "DatasetDict({\n",
       "    train: Dataset({\n",
       "        features: ['attention_mask', 'id', 'input_ids', 'label', 'token_type_ids'],\n",
       "        num_rows: 131559\n",
       "    })\n",
       "    validation: Dataset({\n",
       "        features: ['attention_mask', 'id', 'input_ids', 'label', 'token_type_ids'],\n",
       "        num_rows: 14618\n",
       "    })\n",
       "    test: Dataset({\n",
       "        features: ['attention_mask', 'id', 'input_ids', 'label', 'token_type_ids'],\n",
       "        num_rows: 49157\n",
       "    })\n",
       "})"
      ]
     },
     "execution_count": 25,
     "metadata": {},
     "output_type": "execute_result"
    }
   ],
   "source": [
    "tokenized_datasets"
   ]
  },
  {
   "cell_type": "markdown",
   "id": "d34e8f3d",
   "metadata": {},
   "source": [
    "### 새로운 학습을 위해 모델 초기화"
   ]
  },
  {
   "cell_type": "code",
   "execution_count": 26,
   "id": "d064da5c",
   "metadata": {
    "scrolled": true
   },
   "outputs": [
    {
     "name": "stderr",
     "output_type": "stream",
     "text": [
      "loading configuration file https://huggingface.co/klue/bert-base/resolve/main/config.json from cache at /aiffel/.cache/huggingface/transformers/fbd0b2ef898c4653902683fea8cc0dd99bf43f0e082645b913cda3b92429d1bb.99b3298ed554f2ad731c27cdb11a6215f39b90bc845ff5ce709bb4e74ba45621\n",
      "Model config BertConfig {\n",
      "  \"architectures\": [\n",
      "    \"BertForMaskedLM\"\n",
      "  ],\n",
      "  \"attention_probs_dropout_prob\": 0.1,\n",
      "  \"classifier_dropout\": null,\n",
      "  \"hidden_act\": \"gelu\",\n",
      "  \"hidden_dropout_prob\": 0.1,\n",
      "  \"hidden_size\": 768,\n",
      "  \"initializer_range\": 0.02,\n",
      "  \"intermediate_size\": 3072,\n",
      "  \"layer_norm_eps\": 1e-12,\n",
      "  \"max_position_embeddings\": 512,\n",
      "  \"model_type\": \"bert\",\n",
      "  \"num_attention_heads\": 12,\n",
      "  \"num_hidden_layers\": 12,\n",
      "  \"pad_token_id\": 0,\n",
      "  \"position_embedding_type\": \"absolute\",\n",
      "  \"transformers_version\": \"4.11.3\",\n",
      "  \"type_vocab_size\": 2,\n",
      "  \"use_cache\": true,\n",
      "  \"vocab_size\": 32000\n",
      "}\n",
      "\n",
      "loading weights file https://huggingface.co/klue/bert-base/resolve/main/pytorch_model.bin from cache at /aiffel/.cache/huggingface/transformers/05b36ee62545d769939a7746eca739b844a40a7a7553700f110b58b28ed6a949.7cb231256a5dbe886e12b902d05cb1241f330d8c19428508f91b2b28c1cfe0b6\n",
      "Some weights of the model checkpoint at klue/bert-base were not used when initializing BertForSequenceClassification: ['cls.predictions.transform.LayerNorm.bias', 'cls.seq_relationship.weight', 'cls.seq_relationship.bias', 'cls.predictions.decoder.bias', 'cls.predictions.transform.LayerNorm.weight', 'cls.predictions.transform.dense.weight', 'cls.predictions.bias', 'cls.predictions.decoder.weight', 'cls.predictions.transform.dense.bias']\n",
      "- This IS expected if you are initializing BertForSequenceClassification from the checkpoint of a model trained on another task or with another architecture (e.g. initializing a BertForSequenceClassification model from a BertForPreTraining model).\n",
      "- This IS NOT expected if you are initializing BertForSequenceClassification from the checkpoint of a model that you expect to be exactly identical (initializing a BertForSequenceClassification model from a BertForSequenceClassification model).\n",
      "Some weights of BertForSequenceClassification were not initialized from the model checkpoint at klue/bert-base and are newly initialized: ['classifier.weight', 'classifier.bias']\n",
      "You should probably TRAIN this model on a down-stream task to be able to use it for predictions and inference.\n"
     ]
    }
   ],
   "source": [
    "model = AutoModelForSequenceClassification.from_pretrained(model_name_or_path, num_labels=2)"
   ]
  },
  {
   "cell_type": "markdown",
   "id": "04896f62",
   "metadata": {},
   "source": [
    "### Data Collator를 사용하여 dynamic padding 구현"
   ]
  },
  {
   "cell_type": "code",
   "execution_count": 27,
   "id": "63b7d32f",
   "metadata": {},
   "outputs": [],
   "source": [
    "from transformers import DataCollatorWithPadding\n",
    "\n",
    "data_collator = DataCollatorWithPadding(tokenizer=tokenizer)"
   ]
  },
  {
   "cell_type": "markdown",
   "id": "6cf5986f",
   "metadata": {},
   "source": [
    "### group_by_length=True로 설정하여 비슷한 길이로 묶어서 학습에 사용"
   ]
  },
  {
   "cell_type": "code",
   "execution_count": 28,
   "id": "fa84cf10",
   "metadata": {},
   "outputs": [
    {
     "name": "stderr",
     "output_type": "stream",
     "text": [
      "PyTorch: setting up devices\n"
     ]
    }
   ],
   "source": [
    "from transformers import TrainingArguments\n",
    "\n",
    "training_args = TrainingArguments(\n",
    "    output_dir=\"./results\",\n",
    "    evaluation_strategy=\"epoch\",\n",
    "    logging_strategy=\"epoch\",\n",
    "    per_device_train_batch_size=64,\n",
    "    per_device_eval_batch_size=64,\n",
    "    num_train_epochs=3,\n",
    "    learning_rate=2e-5,\n",
    "    weight_decay=0.01,\n",
    "    fp16=True,\n",
    "    group_by_length=True,  # ✅ 핵심 설정\n",
    "    report_to=\"none\",\n",
    "    run_name=\"bucketed_dynamic_padding\"\n",
    ")"
   ]
  },
  {
   "cell_type": "code",
   "execution_count": 30,
   "id": "879f90b0",
   "metadata": {
    "scrolled": true
   },
   "outputs": [
    {
     "name": "stderr",
     "output_type": "stream",
     "text": [
      "Using amp fp16 backend\n",
      "The following columns in the training set  don't have a corresponding argument in `BertForSequenceClassification.forward` and have been ignored: id.\n",
      "***** Running training *****\n",
      "  Num examples = 131559\n",
      "  Num Epochs = 3\n",
      "  Instantaneous batch size per device = 64\n",
      "  Total train batch size (w. parallel, distributed & accumulation) = 64\n",
      "  Gradient Accumulation steps = 1\n",
      "  Total optimization steps = 6168\n"
     ]
    },
    {
     "data": {
      "text/html": [
       "\n",
       "    <div>\n",
       "      \n",
       "      <progress value='6168' max='6168' style='width:300px; height:20px; vertical-align: middle;'></progress>\n",
       "      [6168/6168 29:30, Epoch 3/3]\n",
       "    </div>\n",
       "    <table border=\"1\" class=\"dataframe\">\n",
       "  <thead>\n",
       "    <tr style=\"text-align: left;\">\n",
       "      <th>Epoch</th>\n",
       "      <th>Training Loss</th>\n",
       "      <th>Validation Loss</th>\n",
       "      <th>Accuracy</th>\n",
       "      <th>F1</th>\n",
       "    </tr>\n",
       "  </thead>\n",
       "  <tbody>\n",
       "    <tr>\n",
       "      <td>1</td>\n",
       "      <td>0.279800</td>\n",
       "      <td>0.239027</td>\n",
       "      <td>0.901218</td>\n",
       "      <td>0.900276</td>\n",
       "    </tr>\n",
       "    <tr>\n",
       "      <td>2</td>\n",
       "      <td>0.190300</td>\n",
       "      <td>0.240935</td>\n",
       "      <td>0.906212</td>\n",
       "      <td>0.906244</td>\n",
       "    </tr>\n",
       "    <tr>\n",
       "      <td>3</td>\n",
       "      <td>0.137500</td>\n",
       "      <td>0.263883</td>\n",
       "      <td>0.905254</td>\n",
       "      <td>0.905467</td>\n",
       "    </tr>\n",
       "  </tbody>\n",
       "</table><p>"
      ],
      "text/plain": [
       "<IPython.core.display.HTML object>"
      ]
     },
     "metadata": {},
     "output_type": "display_data"
    },
    {
     "name": "stderr",
     "output_type": "stream",
     "text": [
      "/opt/conda/lib/python3.9/site-packages/transformers/trainer.py:1355: FutureWarning: Non-finite norm encountered in torch.nn.utils.clip_grad_norm_; continuing anyway. Note that the default behavior will change in a future release to error out if a non-finite total norm is encountered. At that point, setting error_if_nonfinite=false will be required to retain the old behavior.\n",
      "  nn.utils.clip_grad_norm_(\n",
      "Saving model checkpoint to ./results/checkpoint-500\n",
      "Configuration saved in ./results/checkpoint-500/config.json\n",
      "Model weights saved in ./results/checkpoint-500/pytorch_model.bin\n",
      "tokenizer config file saved in ./results/checkpoint-500/tokenizer_config.json\n",
      "Special tokens file saved in ./results/checkpoint-500/special_tokens_map.json\n",
      "Saving model checkpoint to ./results/checkpoint-1000\n",
      "Configuration saved in ./results/checkpoint-1000/config.json\n",
      "Model weights saved in ./results/checkpoint-1000/pytorch_model.bin\n",
      "tokenizer config file saved in ./results/checkpoint-1000/tokenizer_config.json\n",
      "Special tokens file saved in ./results/checkpoint-1000/special_tokens_map.json\n",
      "Saving model checkpoint to ./results/checkpoint-1500\n",
      "Configuration saved in ./results/checkpoint-1500/config.json\n",
      "Model weights saved in ./results/checkpoint-1500/pytorch_model.bin\n",
      "tokenizer config file saved in ./results/checkpoint-1500/tokenizer_config.json\n",
      "Special tokens file saved in ./results/checkpoint-1500/special_tokens_map.json\n",
      "Saving model checkpoint to ./results/checkpoint-2000\n",
      "Configuration saved in ./results/checkpoint-2000/config.json\n",
      "Model weights saved in ./results/checkpoint-2000/pytorch_model.bin\n",
      "tokenizer config file saved in ./results/checkpoint-2000/tokenizer_config.json\n",
      "Special tokens file saved in ./results/checkpoint-2000/special_tokens_map.json\n",
      "The following columns in the evaluation set  don't have a corresponding argument in `BertForSequenceClassification.forward` and have been ignored: id.\n",
      "***** Running Evaluation *****\n",
      "  Num examples = 14618\n",
      "  Batch size = 64\n"
     ]
    },
    {
     "name": "stdout",
     "output_type": "stream",
     "text": [
      "[step 2056] eval_accuracy=0.9012, f1=0.9003\n"
     ]
    },
    {
     "name": "stderr",
     "output_type": "stream",
     "text": [
      "Saving model checkpoint to ./results/checkpoint-2500\n",
      "Configuration saved in ./results/checkpoint-2500/config.json\n",
      "Model weights saved in ./results/checkpoint-2500/pytorch_model.bin\n",
      "tokenizer config file saved in ./results/checkpoint-2500/tokenizer_config.json\n",
      "Special tokens file saved in ./results/checkpoint-2500/special_tokens_map.json\n",
      "Saving model checkpoint to ./results/checkpoint-3000\n",
      "Configuration saved in ./results/checkpoint-3000/config.json\n",
      "Model weights saved in ./results/checkpoint-3000/pytorch_model.bin\n",
      "tokenizer config file saved in ./results/checkpoint-3000/tokenizer_config.json\n",
      "Special tokens file saved in ./results/checkpoint-3000/special_tokens_map.json\n",
      "Saving model checkpoint to ./results/checkpoint-3500\n",
      "Configuration saved in ./results/checkpoint-3500/config.json\n",
      "Model weights saved in ./results/checkpoint-3500/pytorch_model.bin\n",
      "tokenizer config file saved in ./results/checkpoint-3500/tokenizer_config.json\n",
      "Special tokens file saved in ./results/checkpoint-3500/special_tokens_map.json\n",
      "Saving model checkpoint to ./results/checkpoint-4000\n",
      "Configuration saved in ./results/checkpoint-4000/config.json\n",
      "Model weights saved in ./results/checkpoint-4000/pytorch_model.bin\n",
      "tokenizer config file saved in ./results/checkpoint-4000/tokenizer_config.json\n",
      "Special tokens file saved in ./results/checkpoint-4000/special_tokens_map.json\n",
      "/opt/conda/lib/python3.9/site-packages/transformers/trainer.py:1355: FutureWarning: Non-finite norm encountered in torch.nn.utils.clip_grad_norm_; continuing anyway. Note that the default behavior will change in a future release to error out if a non-finite total norm is encountered. At that point, setting error_if_nonfinite=false will be required to retain the old behavior.\n",
      "  nn.utils.clip_grad_norm_(\n",
      "The following columns in the evaluation set  don't have a corresponding argument in `BertForSequenceClassification.forward` and have been ignored: id.\n",
      "***** Running Evaluation *****\n",
      "  Num examples = 14618\n",
      "  Batch size = 64\n"
     ]
    },
    {
     "name": "stdout",
     "output_type": "stream",
     "text": [
      "[step 4112] eval_accuracy=0.9062, f1=0.9062\n"
     ]
    },
    {
     "name": "stderr",
     "output_type": "stream",
     "text": [
      "Saving model checkpoint to ./results/checkpoint-4500\n",
      "Configuration saved in ./results/checkpoint-4500/config.json\n",
      "Model weights saved in ./results/checkpoint-4500/pytorch_model.bin\n",
      "tokenizer config file saved in ./results/checkpoint-4500/tokenizer_config.json\n",
      "Special tokens file saved in ./results/checkpoint-4500/special_tokens_map.json\n",
      "Saving model checkpoint to ./results/checkpoint-5000\n",
      "Configuration saved in ./results/checkpoint-5000/config.json\n",
      "Model weights saved in ./results/checkpoint-5000/pytorch_model.bin\n",
      "tokenizer config file saved in ./results/checkpoint-5000/tokenizer_config.json\n",
      "Special tokens file saved in ./results/checkpoint-5000/special_tokens_map.json\n",
      "/opt/conda/lib/python3.9/site-packages/transformers/trainer.py:1355: FutureWarning: Non-finite norm encountered in torch.nn.utils.clip_grad_norm_; continuing anyway. Note that the default behavior will change in a future release to error out if a non-finite total norm is encountered. At that point, setting error_if_nonfinite=false will be required to retain the old behavior.\n",
      "  nn.utils.clip_grad_norm_(\n",
      "Saving model checkpoint to ./results/checkpoint-5500\n",
      "Configuration saved in ./results/checkpoint-5500/config.json\n",
      "Model weights saved in ./results/checkpoint-5500/pytorch_model.bin\n",
      "tokenizer config file saved in ./results/checkpoint-5500/tokenizer_config.json\n",
      "Special tokens file saved in ./results/checkpoint-5500/special_tokens_map.json\n",
      "Saving model checkpoint to ./results/checkpoint-6000\n",
      "Configuration saved in ./results/checkpoint-6000/config.json\n",
      "Model weights saved in ./results/checkpoint-6000/pytorch_model.bin\n",
      "tokenizer config file saved in ./results/checkpoint-6000/tokenizer_config.json\n",
      "Special tokens file saved in ./results/checkpoint-6000/special_tokens_map.json\n",
      "The following columns in the evaluation set  don't have a corresponding argument in `BertForSequenceClassification.forward` and have been ignored: id.\n",
      "***** Running Evaluation *****\n",
      "  Num examples = 14618\n",
      "  Batch size = 64\n"
     ]
    },
    {
     "name": "stdout",
     "output_type": "stream",
     "text": [
      "[step 6168] eval_accuracy=0.9053, f1=0.9055\n"
     ]
    },
    {
     "name": "stderr",
     "output_type": "stream",
     "text": [
      "\n",
      "\n",
      "Training completed. Do not forget to share your model on huggingface.co/models =)\n",
      "\n",
      "\n"
     ]
    },
    {
     "data": {
      "text/plain": [
       "TrainOutput(global_step=6168, training_loss=0.2025555958234537, metrics={'train_runtime': 1770.7468, 'train_samples_per_second': 222.887, 'train_steps_per_second': 3.483, 'total_flos': 4733099635983240.0, 'train_loss': 0.2025555958234537, 'epoch': 3.0})"
      ]
     },
     "execution_count": 30,
     "metadata": {},
     "output_type": "execute_result"
    }
   ],
   "source": [
    "trainer_bucketing = Trainer(\n",
    "    model,                                                                    # 학습시킬 model\n",
    "    args=training_args,                                                # TrainingArguments을 통해 설정한 arguments\n",
    "    train_dataset=tokenized_datasets[\"train\"],         # training dataset\n",
    "    eval_dataset=tokenized_datasets[\"validation\"], # validation dataset\n",
    "    tokenizer=tokenizer,\n",
    "    data_collator=data_collator,\n",
    "    compute_metrics=compute_metrics,\n",
    "    callbacks=[ConsoleLoggerCallback()]  # ✅ 추가\n",
    ")\n",
    "\n",
    "trainer_bucketing.train()"
   ]
  },
  {
   "cell_type": "markdown",
   "id": "f3457954",
   "metadata": {},
   "source": [
    "### test set으로 예측 수행"
   ]
  },
  {
   "cell_type": "code",
   "execution_count": 31,
   "id": "1047b54b",
   "metadata": {},
   "outputs": [
    {
     "name": "stderr",
     "output_type": "stream",
     "text": [
      "The following columns in the test set  don't have a corresponding argument in `BertForSequenceClassification.forward` and have been ignored: id.\n",
      "***** Running Prediction *****\n",
      "  Num examples = 49157\n",
      "  Batch size = 64\n"
     ]
    },
    {
     "data": {
      "text/html": [
       "\n",
       "    <div>\n",
       "      \n",
       "      <progress value='769' max='769' style='width:300px; height:20px; vertical-align: middle;'></progress>\n",
       "      [769/769 04:08]\n",
       "    </div>\n",
       "    "
      ],
      "text/plain": [
       "<IPython.core.display.HTML object>"
      ]
     },
     "metadata": {},
     "output_type": "display_data"
    },
    {
     "name": "stdout",
     "output_type": "stream",
     "text": [
      "{'test_loss': 0.2689038813114166, 'test_accuracy': 0.904916898915719, 'test_f1': 0.9061935535664111, 'test_runtime': 249.4265, 'test_samples_per_second': 197.08, 'test_steps_per_second': 3.083}\n",
      "예측 라벨: [1 1 0 0 0 1 0 0 0 1]\n"
     ]
    }
   ],
   "source": [
    "# 예측 수행\n",
    "predictions = trainer_bucketing.predict(tokenized_datasets[\"test\"])\n",
    "\n",
    "# 예측 결과에서 logits, labels, metrics 추출\n",
    "logits = predictions.predictions\n",
    "pred_labels = logits.argmax(axis=-1)  # 예측된 클래스\n",
    "true_labels = predictions.label_ids   # 실제 레이블 (있다면)\n",
    "\n",
    "# 평가 지표 출력\n",
    "print(predictions.metrics)\n",
    "\n",
    "# 예측 라벨 일부 확인\n",
    "print(\"예측 라벨:\", pred_labels[:10])"
   ]
  },
  {
   "cell_type": "code",
   "execution_count": 32,
   "id": "2f96b99d",
   "metadata": {},
   "outputs": [
    {
     "name": "stdout",
     "output_type": "stream",
     "text": [
      "[문장] 굳 ㅋ\n",
      "[실제 라벨] 1\n",
      "[예측 라벨] 1\n",
      "\n",
      "[문장] gdntopclassintheclub\n",
      "[실제 라벨] 0\n",
      "[예측 라벨] 1\n",
      "\n",
      "[문장] 뭐야 이 평점들은.. 나쁘진 않지만 10점 짜리는 더더욱 아니잖아\n",
      "[실제 라벨] 0\n",
      "[예측 라벨] 0\n",
      "\n",
      "[문장] 지루하지는 않은데 완전 막장임.. 돈주고 보기에는..\n",
      "[실제 라벨] 0\n",
      "[예측 라벨] 0\n",
      "\n",
      "[문장] 3d만 아니었어도 별 다섯 개 줬을텐데.. 왜 3d로 나와서 제 심기를 불편하게 하죠??\n",
      "[실제 라벨] 0\n",
      "[예측 라벨] 0\n",
      "\n",
      "[문장] 음악이 주가 된, 최고의 음악영화\n",
      "[실제 라벨] 1\n",
      "[예측 라벨] 1\n",
      "\n",
      "[문장] 진정한 쓰레기\n",
      "[실제 라벨] 0\n",
      "[예측 라벨] 0\n",
      "\n",
      "[문장] 마치 미국애니에서 튀어나온듯한 창의력없는 로봇디자인부터가,고개를 젖게한다\n",
      "[실제 라벨] 0\n",
      "[예측 라벨] 0\n",
      "\n",
      "[문장] 갈수록 개판되가는 중국영화 유치하고 내용없음 폼잡다 끝남 말도안되는 무기에 유치한cg남무 아 그립다 동사서독같은 영화가 이건 3류아류작이다\n",
      "[실제 라벨] 0\n",
      "[예측 라벨] 0\n",
      "\n",
      "[문장] 이별의 아픔뒤에 찾아오는 새로운 인연의 기쁨 but, 모든 사람이 그렇지는 않네..\n",
      "[실제 라벨] 1\n",
      "[예측 라벨] 1\n",
      "\n"
     ]
    }
   ],
   "source": [
    "# test 데이터 원본과 함께 보기\n",
    "for i in range(10):\n",
    "    print(f\"[문장] {raw_datasets['test'][i]['document']}\")\n",
    "    print(f\"[실제 라벨] {raw_datasets['test'][i]['label']}\")\n",
    "    print(f\"[예측 라벨] {pred_labels[i]}\")\n",
    "    print()"
   ]
  },
  {
   "cell_type": "markdown",
   "id": "aa621e0f",
   "metadata": {},
   "source": [
    "## 회고\n",
    "- 팀원들에 비해 프로젝트를 늦게 시작하였고, 팀원들이 학습에 3시간 가량 걸린다는 조언을 해 주어 colab의 유로 버전으로 A100 GPU를 사용하려 했으나, 허깅페이스에서 데이터를 불러오는 과정에서 오류가 발생해 Aiffel Cloud로 진행하였다. 데이터셋을 load_data 메소드를 사용하지 않고 직접 다운로드하여 pandas로 데이터를 다뤘다면 문제가 해결되었겠지만, load_data를 사용하여 학습을 진행하는 것부터 프로젝트의 목표라고 생각하여 colab을 포기하고 load_data 메소드를 살리기로 결정했다.\n",
    "- 첫 번째 학습이 끝난 이후 로그 파일에서 validation accuracy와 f1 score를 찾으려 했으나 기록이 남아있지 않다는 것을 확인했다. 기록을 찾아보기 위해 자동 생성된 wandb 결과를 찾아보았으나 결국 학습 중 저장되지 않았다는 것을 깨달았고, 재학습을 통해 다시 구해보려 하였으나 wandb 세션에 충돌이 일어나 학습이 진행되지 않는 상황이 있었다. 노트북 파일에서 wandb.init이 전혀 작동되지 않는 것을 확인한 후 wandb로 학습 과정 분석하기 대신 노트북 아웃풋에 각 epoch이 끝날 때마다 validation 결과를 확인할 수 있도록 코드를 수정했다.\n",
    "- Bucketing을 이용하여 dynamic padding을 적용한 결과 순수 모델 학습 시간이 37분에서 28분으로 단축된 것을 확인했다. 또한 test accuracy가 0.002만큼 증가한 것을 확인했다. 정확도 측면에서 큰 차이가 있진 않지만, 긴 데이터에 대해 뒷 내용을 생략할 필요가 없고, 길이가 비슷한 데이터끼리 모아서 패딩을 진행하여 패딩 양이 학습 속도에 미치는 영향을 최소화하여 더 빠르게 좋은 결과를 낼 수 있었다고 생각한다.\n",
    "- 팀원들은 본인 포함 2명은 Bucketing의 속도가 빠르고 결과가 향상되었고, 2명은 속도와 결과에 큰 변화가 없었다."
   ]
  },
  {
   "cell_type": "code",
   "execution_count": null,
   "id": "2b806980",
   "metadata": {},
   "outputs": [],
   "source": []
  }
 ],
 "metadata": {
  "kernelspec": {
   "display_name": "Python 3 (ipykernel)",
   "language": "python",
   "name": "python3"
  },
  "language_info": {
   "codemirror_mode": {
    "name": "ipython",
    "version": 3
   },
   "file_extension": ".py",
   "mimetype": "text/x-python",
   "name": "python",
   "nbconvert_exporter": "python",
   "pygments_lexer": "ipython3",
   "version": "3.9.7"
  }
 },
 "nbformat": 4,
 "nbformat_minor": 5
}
